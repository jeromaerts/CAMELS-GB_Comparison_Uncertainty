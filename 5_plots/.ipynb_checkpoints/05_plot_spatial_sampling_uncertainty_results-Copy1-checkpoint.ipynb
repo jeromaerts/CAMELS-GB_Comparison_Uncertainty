{
 "cells": [
  {
   "cell_type": "markdown",
   "id": "02b3f667-6451-4bf9-ab4d-5d19d143b850",
   "metadata": {},
   "source": [
    "# Plot spatial sampling uncertainty results"
   ]
  },
  {
   "cell_type": "code",
   "execution_count": 116,
   "id": "da08d01b-7031-4d3b-aa23-272dcaad598b",
   "metadata": {},
   "outputs": [],
   "source": [
    "import os\n",
    "from glob import glob\n",
    "from pathlib import Path\n",
    "\n",
    "import numpy as np\n",
    "import xarray as xr\n",
    "import pandas as pd\n",
    "\n",
    "import pylab as plot\n",
    "import matplotlib.pyplot as plt\n",
    "import seaborn as sns"
   ]
  },
  {
   "cell_type": "markdown",
   "id": "371949d1-b30f-4234-8640-f75f5394a115",
   "metadata": {},
   "source": [
    "## Set Paths"
   ]
  },
  {
   "cell_type": "code",
   "execution_count": 117,
   "id": "46a9ca22-dcbf-43e9-85cc-7c8aabe3ea67",
   "metadata": {},
   "outputs": [],
   "source": [
    "# Set Paths\n",
    "ROOT = Path(\"/gpfs/work1/0/wtrcycle/users/jaerts/camels_uk/\")\n",
    "AUXDATA = Path(f\"{ROOT}/aux_data\")\n",
    "RESULTS = Path(f\"{ROOT}/results/\")"
   ]
  },
  {
   "cell_type": "markdown",
   "id": "c2c89835-e5f2-4ba0-8692-876312c748f1",
   "metadata": {},
   "source": [
    "## Set Config"
   ]
  },
  {
   "cell_type": "code",
   "execution_count": 118,
   "id": "09b8738e-213a-49f9-913f-35657798ea16",
   "metadata": {},
   "outputs": [],
   "source": [
    "# Set GUMBOOT result files\n",
    "wflow_calibrated_kge_csv = f'{RESULTS}/wflow_sbm/wflow_calibrated_kge_np_gumboot.csv'\n",
    "wflow_uncalibrated_kge_csv = f'{RESULTS}/wflow_sbm/wflow_uncalibrated_kge_np_gumboot.csv'\n",
    "pcrglob_kge_csv = f'{RESULTS}/pcr-globwb/pcr-globwb_kge_np_gumboot.csv'\n",
    "\n",
    "wflow_calibrated_nse_csv = f'{RESULTS}/wflow_sbm/wflow_calibrated_nse_gumboot.csv'\n",
    "wflow_uncalibrated_nse_csv = f'{RESULTS}/wflow_sbm/wflow_uncalibrated_nse_gumboot.csv'\n",
    "pcrglob_nse_csv = f'{RESULTS}/pcr-globwb/pcr-globwb_nse_gumboot.csv'\n",
    "\n",
    "# Set objective function result files\n",
    "wflow_calibrated_objective_cvs = f\"{RESULTS}/wflow_sbm/wflow_calibrated_evaluation_objective_functions_overview.csv\"\n",
    "wflow_uncalibrated_objective_cvs = f\"{RESULTS}/wflow_sbm/wflow_uncalibrated_evaluation_objective_functions_overview.csv\"\n",
    "pcrglob_objective_csv = f\"{RESULTS}/pcr-globwb/pcr-globwb_evaluation_period_objective_functions_overview.csv\"\n",
    "\n",
    "# Load available basin_IDs\n",
    "df_basin_ids = pd.read_csv(f\"{AUXDATA}/available_basin_ids_uncertainty.csv\", index_col='basin_id')"
   ]
  },
  {
   "cell_type": "markdown",
   "id": "ed55d35c-521d-4ecb-9fbd-d2e906aea241",
   "metadata": {},
   "source": [
    "## Load Results Dataframes"
   ]
  },
  {
   "cell_type": "code",
   "execution_count": 119,
   "id": "6de58857-b1c9-48e6-bdfa-a03a0b7af4a2",
   "metadata": {},
   "outputs": [],
   "source": [
    "def load_result_dataframe(csv_file, df_basin_ids):\n",
    "    \n",
    "    # Load dataframes\n",
    "    df = pd.read_csv(csv_file, index_col='basin_id')\n",
    "    \n",
    "    # Combine dataframes\n",
    "    df = df_basin_ids.join(df)\n",
    "    \n",
    "    # Drop NaN values\n",
    "    df = df[df['seJack'].notna()]\n",
    "    \n",
    "    return df\n",
    "\n",
    "def load_objective_dataframe(csv_file, df_basin_ids):\n",
    "    \n",
    "    # Load dataframes\n",
    "    df = pd.read_csv(csv_file, index_col='basin_id')\n",
    "    df = df.drop(columns=['Unnamed: 0'])\n",
    "    # Combine dataframes\n",
    "    df = df_basin_ids.join(df)\n",
    "    \n",
    "    # Drop NaN values\n",
    "    df = df[df['kge_np'].notna()]\n",
    "    \n",
    "    return df"
   ]
  },
  {
   "cell_type": "code",
   "execution_count": 120,
   "id": "25ba064e-6547-4a3a-a804-427bfec550dd",
   "metadata": {
    "tags": []
   },
   "outputs": [],
   "source": [
    "# Load KGE-NP gumboot results\n",
    "df_kge_wflow_calibrated = load_result_dataframe(wflow_calibrated_kge_csv, df_basin_ids)\n",
    "df_kge_wflow_uncalibrated = load_result_dataframe(wflow_uncalibrated_kge_csv, df_basin_ids)\n",
    "df_kge_pcrglob = load_result_dataframe(pcrglob_kge_csv, df_basin_ids)\n",
    "\n",
    "# Load NSE gumboot results\n",
    "df_nse_wflow_calibrated = load_result_dataframe(wflow_calibrated_nse_csv, df_basin_ids)\n",
    "df_nse_wflow_uncalibrated = load_result_dataframe(wflow_uncalibrated_nse_csv, df_basin_ids)\n",
    "df_nse_pcrglob = load_result_dataframe(pcrglob_nse_csv, df_basin_ids)\n",
    "\n",
    "# Load objective function results\n",
    "df_wflow_calibrated_objective = load_objective_dataframe(wflow_calibrated_objective_cvs, df_basin_ids)\n",
    "df_wflow_uncalibrated_objective = load_objective_dataframe(wflow_uncalibrated_objective_cvs, df_basin_ids)\n",
    "df_pcrglob_objective = load_objective_dataframe(pcrglob_objective_csv, df_basin_ids)"
   ]
  },
  {
   "cell_type": "markdown",
   "id": "9f605cfb-b1e0-4616-8af9-f8ebf9c3bbf2",
   "metadata": {},
   "source": [
    "## Calculate tolerance interval"
   ]
  },
  {
   "cell_type": "code",
   "execution_count": 121,
   "id": "507cb193-39d0-4a12-b691-1214a1f73de1",
   "metadata": {},
   "outputs": [],
   "source": [
    "def calculate_tolerance(df):\n",
    "    # Calculate tolerance interval \n",
    "    df['2xJack'] = df['seJack'] * 2\n",
    "    df['2xBoot'] = df['seBoot'] * 2\n",
    "    df['tolerance'] = df['p95'] - df['p05']\n",
    "\n",
    "    df = df.sort_values(by=['2xJack'])\n",
    "    \n",
    "    return df"
   ]
  },
  {
   "cell_type": "code",
   "execution_count": 122,
   "id": "7654d39a-9da3-475a-b189-ea378c673af1",
   "metadata": {},
   "outputs": [],
   "source": [
    "# Tolerance interval KGE-NP results\n",
    "df_kge_wflow_calibrated = calculate_tolerance(df_kge_wflow_calibrated)\n",
    "df_kge_wflow_uncalibrated = calculate_tolerance(df_kge_wflow_uncalibrated)\n",
    "df_kge_pcrglob = calculate_tolerance(df_kge_pcrglob)\n",
    "\n",
    "# Tolerance interval NSE results\n",
    "df_nse_wflow_calibrated = calculate_tolerance(df_nse_wflow_calibrated)\n",
    "df_nse_wflow_uncalibrated = calculate_tolerance(df_nse_wflow_uncalibrated)\n",
    "df_nse_pcrglob = calculate_tolerance(df_nse_pcrglob)"
   ]
  },
  {
   "cell_type": "markdown",
   "id": "b542e9c4-2848-40e6-a606-835b90ab8f15",
   "metadata": {},
   "source": [
    "## Calculate Average Sampling Uncertainty Tolerance Interval & Objective function difference"
   ]
  },
  {
   "cell_type": "markdown",
   "id": "576eadf9-baec-442e-b3b6-817c4860aebc",
   "metadata": {},
   "source": [
    "### Wflow calibrated & uncalibrated"
   ]
  },
  {
   "cell_type": "code",
   "execution_count": 123,
   "id": "2cbe7979-db36-4761-bc90-3fa45356ebbe",
   "metadata": {
    "tags": []
   },
   "outputs": [],
   "source": [
    "# Create empty dataframe\n",
    "df_wflow_comp = pd.DataFrame()\n",
    "\n",
    "# Join Model A and Model B gumboot results\n",
    "df_kge = df_kge_wflow_calibrated.join(df_kge_wflow_uncalibrated,lsuffix='_wflow_calibrated',rsuffix='_wflow_uncalibrated')\n",
    "df_nse = df_nse_wflow_calibrated.join(df_nse_wflow_uncalibrated,lsuffix='_wflow_calibrated',rsuffix='_wflow_uncalibrated')\n",
    "\n",
    "# Add average tolerance interval\n",
    "df_wflow_comp['kge_average_tolerance'] = df_kge[['tolerance_wflow_calibrated', 'tolerance_wflow_uncalibrated']].mean(axis=1).to_list()\n",
    "df_wflow_comp['nse_average_tolerance'] = df_nse[['tolerance_wflow_calibrated', 'tolerance_wflow_uncalibrated']].mean(axis=1).to_list()\n",
    "\n",
    "# # Add basin_ids and set index\n",
    "df_wflow_comp['basin_id'] = df_kge.index\n",
    "df_wflow_comp = df_wflow_comp.set_index('basin_id')\n",
    "\n",
    "# Join Model A and Model B objective function results\n",
    "df = df_wflow_calibrated_objective.join(df_wflow_uncalibrated_objective,lsuffix='_wflow_calibrated',rsuffix='_wflow_uncalibrated')\n",
    "\n",
    "# Add absolute objective function difference\n",
    "df_kge_difference = (df['kge_np_wflow_calibrated'] - df['kge_np_wflow_uncalibrated']).abs()\n",
    "df_kge_difference = df_kge_difference.to_frame('kge_difference')\n",
    "df_nse_difference = (df['nse_wflow_calibrated'] - df['nse_wflow_uncalibrated']).abs()\n",
    "df_nse_difference = df_nse_difference.to_frame('nse_difference')\n",
    "\n",
    "# Construct dataframe\n",
    "df_wflow_comp = df_wflow_comp.join(df_kge_difference)\n",
    "df_wflow_comp = df_wflow_comp.join(df_nse_difference)\n",
    "\n",
    "# Add sampling uncertainty larger than (LT) objective function difference\n",
    "kge_sampling_LT_objective = []\n",
    "nse_sampling_LT_objective = []\n",
    "\n",
    "for index, row in df_wflow_comp.iterrows():\n",
    "    \n",
    "    if row.kge_average_tolerance > row.kge_difference:\n",
    "        kge_sampling_LT_objective.append(True)\n",
    "    else:\n",
    "        kge_sampling_LT_objective.append(False)\n",
    "    \n",
    "    if row.nse_average_tolerance > row.kge_difference:\n",
    "        nse_sampling_LT_objective.append(True)\n",
    "    else:\n",
    "        nse_sampling_LT_objective.append(False)\n",
    "\n",
    "df_wflow_comp['kge_sampling_LT_objective'] = kge_sampling_LT_objective    \n",
    "df_wflow_comp['nse_sampling_LT_objective'] = nse_sampling_LT_objective\n",
    "\n",
    "df_wflow_comp.to_csv(f'{RESULTS}/sampling_uncertainty_overview_wflow_calibrated_uncalibrated.csv')"
   ]
  },
  {
   "cell_type": "markdown",
   "id": "04fb4fec-d1fa-412f-9cf1-44083baa0666",
   "metadata": {},
   "source": [
    "### wflow calibrated vs pcrglobwb"
   ]
  },
  {
   "cell_type": "code",
   "execution_count": 124,
   "id": "1c1803cc-dce8-4148-8ef1-0ba9076eaee3",
   "metadata": {},
   "outputs": [],
   "source": [
    "# Create empty dataframe\n",
    "df_wflow_pcrglob_comp = pd.DataFrame()\n",
    "\n",
    "# Join Model A and Model B gumboot results\n",
    "df_kge = df_kge_wflow_calibrated.join(df_kge_pcrglob,lsuffix='_wflow_calibrated',rsuffix='_pcrglob')\n",
    "df_nse = df_nse_wflow_calibrated.join(df_nse_pcrglob,lsuffix='_wflow_calibrated',rsuffix='_pcrglob')\n",
    "\n",
    "# Add average tolerance interval\n",
    "df_wflow_pcrglob_comp['kge_average_tolerance'] = df_kge[['tolerance_wflow_calibrated', 'tolerance_pcrglob']].mean(axis=1).to_list()\n",
    "df_wflow_pcrglob_comp['nse_average_tolerance'] = df_nse[['tolerance_wflow_calibrated', 'tolerance_pcrglob']].mean(axis=1).to_list()\n",
    "\n",
    "# # Add basin_ids and set index\n",
    "df_wflow_pcrglob_comp['basin_id'] = df_kge.index\n",
    "df_wflow_pcrglob_comp = df_wflow_pcrglob_comp.set_index('basin_id')\n",
    "\n",
    "# Join Model A and Model B objective function results\n",
    "df = df_wflow_calibrated_objective.join(df_wflow_uncalibrated_objective,lsuffix='_wflow_calibrated',rsuffix='_pcrglob')\n",
    "\n",
    "# Add absolute objective function difference\n",
    "df_kge_difference = (df['kge_np_wflow_calibrated'] - df['kge_np_pcrglob']).abs()\n",
    "df_kge_difference = df_kge_difference.to_frame('kge_difference')\n",
    "df_nse_difference = (df['nse_wflow_calibrated'] - df['nse_pcrglob']).abs()\n",
    "df_nse_difference = df_nse_difference.to_frame('nse_difference')\n",
    "\n",
    "# Construct dataframe\n",
    "df_wflow_pcrglob_comp = df_wflow_pcrglob_comp.join(df_kge_difference)\n",
    "df_wflow_pcrglob_comp = df_wflow_pcrglob_comp.join(df_nse_difference)\n",
    "\n",
    "# Add sampling uncertainty larger than (LT) objective function difference\n",
    "kge_sampling_LT_objective = []\n",
    "nse_sampling_LT_objective = []\n",
    "\n",
    "for index, row in df_wflow_comp.iterrows():\n",
    "    \n",
    "    if row.kge_average_tolerance > row.kge_difference:\n",
    "        kge_sampling_LT_objective.append(True)\n",
    "    else:\n",
    "        kge_sampling_LT_objective.append(False)\n",
    "    \n",
    "    if row.nse_average_tolerance > row.kge_difference:\n",
    "        nse_sampling_LT_objective.append(True)\n",
    "    else:\n",
    "        nse_sampling_LT_objective.append(False)\n",
    "\n",
    "df_wflow_pcrglob_comp['kge_sampling_LT_objective'] = kge_sampling_LT_objective    \n",
    "df_wflow_pcrglob_comp['nse_sampling_LT_objective'] = nse_sampling_LT_objective\n",
    "\n",
    "df_wflow_pcrglob_comp.to_csv(f'{RESULTS}/sampling_uncertainty_overview_wflow_calibrated_pcr-globwb.csv')"
   ]
  },
  {
   "cell_type": "code",
   "execution_count": null,
   "id": "c6e2071c-d5c9-4416-85ae-d3c5d36b1117",
   "metadata": {},
   "outputs": [],
   "source": []
  }
 ],
 "metadata": {
  "kernelspec": {
   "display_name": "Python 3 (ipykernel)",
   "language": "python",
   "name": "python3"
  },
  "language_info": {
   "codemirror_mode": {
    "name": "ipython",
    "version": 3
   },
   "file_extension": ".py",
   "mimetype": "text/x-python",
   "name": "python",
   "nbconvert_exporter": "python",
   "pygments_lexer": "ipython3",
   "version": "3.10.6"
  }
 },
 "nbformat": 4,
 "nbformat_minor": 5
}
