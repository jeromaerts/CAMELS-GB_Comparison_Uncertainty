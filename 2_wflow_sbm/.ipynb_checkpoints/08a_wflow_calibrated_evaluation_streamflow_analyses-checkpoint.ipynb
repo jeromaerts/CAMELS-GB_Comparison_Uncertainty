{
 "cells": [
  {
   "cell_type": "markdown",
   "id": "82731e23-3738-4cb4-8351-c148f74f4dbf",
   "metadata": {},
   "source": [
    "# Evaluation Streamflow analyses of calibrated wflow results"
   ]
  },
  {
   "cell_type": "code",
   "execution_count": null,
   "id": "670f23f1-b0fb-4342-a48e-a15939b899ec",
   "metadata": {},
   "outputs": [],
   "source": [
    "import numpy as np\n",
    "import xarray as xr\n",
    "import pandas as pd\n",
    "import hydroeval\n",
    "\n",
    "from glob import glob\n",
    "from pathlib import Path"
   ]
  },
  {
   "cell_type": "markdown",
   "id": "3133dd76-0014-4f64-a6b1-0204f00c3da9",
   "metadata": {},
   "source": [
    "# Set Paths"
   ]
  },
  {
   "cell_type": "code",
   "execution_count": null,
   "id": "fb7610f5-ddac-42dc-b819-4f8e14aeb7af",
   "metadata": {},
   "outputs": [],
   "source": [
    "# Set Paths\n",
    "ROOT = Path(\"/gpfs/work1/0/wtrcycle/users/jaerts/camels_uk/\")\n",
    "MODELS = Path(f'{ROOT}/wflow/data/')\n",
    "AUXDATA = Path(f\"{ROOT}/aux_data\")\n",
    "OBSDIR = Path(f\"{AUXDATA}/CAMELS-GB/data/timeseries/\")\n",
    "OUTPUT = Path(f\"{ROOT}/results/wflow_sbm/evaluation_period_calibrated/\")"
   ]
  },
  {
   "cell_type": "markdown",
   "id": "7260ba2a-c883-40d3-b04c-47cbf547e4ef",
   "metadata": {},
   "source": [
    "# Set Config"
   ]
  },
  {
   "cell_type": "code",
   "execution_count": null,
   "id": "aa9d350d-81db-4587-aa90-061d20f16ad2",
   "metadata": {},
   "outputs": [],
   "source": [
    "# Get available basin IDs wflow_sbm\n",
    "basin_dirs = glob(f'{MODELS}/*')\n",
    "basin_ids = [s.split('/')[-1] for s in basin_dirs]\n",
    "basin_ids.sort()\n",
    "\n",
    "\n",
    "# Period (drop first year)\n",
    "start_date = '2008-10-01'\n",
    "end_date   = '2015-09-30'"
   ]
  },
  {
   "cell_type": "markdown",
   "id": "9f00dad5-454e-4537-b137-135ecfdf0a6a",
   "metadata": {},
   "source": [
    "# Define functions"
   ]
  },
  {
   "cell_type": "code",
   "execution_count": null,
   "id": "77c02226-0b74-4529-988f-b7048e319e17",
   "metadata": {},
   "outputs": [],
   "source": [
    "def get_simulations(basin_id, start_date, end_date):\n",
    "    dataframes = []\n",
    "\n",
    "    # Set simulation file\n",
    "    sim_file = glob(f'{MODELS}/{basin_id}/evaluation/output.csv')[0]\n",
    "\n",
    "    # Load simulation dataframe\n",
    "    df = pd.read_csv(sim_file, parse_dates=True, index_col='time')\n",
    "\n",
    "    # Select calibration period (drop first year)\n",
    "    mask = (df.index > start_date) & (df.index <= end_date)\n",
    "    df = df.loc[mask]\n",
    "\n",
    "    # Rename column\n",
    "    df = df.rename(columns={'Q_1': f'evaluation'})\n",
    "\n",
    "    return df\n",
    "\n",
    "\n",
    "def get_observations(basin_id, start_date, end_date):\n",
    "    # Set observation file\n",
    "    obs_file = glob(f'{OBSDIR}/*_{basin_id}_*.csv')[0]\n",
    "    \n",
    "    # Load observation dataframe\n",
    "    df_obs = pd.read_csv(obs_file, parse_dates=True, index_col='date')\n",
    "    \n",
    "    # Select calibration period (drop first year)\n",
    "    mask = (df_obs.index > start_date) & (df_obs.index <= end_date)\n",
    "    df_obs = df_obs.loc[mask]\n",
    "    \n",
    "    return df_obs\n",
    "    \n",
    "    \n",
    "def calculate_objective_functions(basin_id, df_sim, df_obs):\n",
    "    \n",
    "    # Create empty dataframe and lists\n",
    "    df = pd.DataFrame()\n",
    "    basin_ids = []\n",
    "    ksathorfracs = []\n",
    "    nse_values = []\n",
    "    kge_2009_values = []\n",
    "    kge_2012_values = []\n",
    "    kge_np_values = []\n",
    "    kge_np_r_values = []\n",
    "    kge_np_alpha_values = []\n",
    "    kge_np_beta_values = []\n",
    "\n",
    "    # Calculate objective functions for each parameter value\n",
    "\n",
    "    basin_ids.append(basin_id)\n",
    "\n",
    "    # Calculate objective functions and round\n",
    "    nse = hydroeval.evaluator(hydroeval.nse, df_sim[f'evaluation'], df_obs.discharge_vol, axis=1)\n",
    "    nse_values.append(np.round(nse[0], 4))\n",
    "\n",
    "    kge_2009 = hydroeval.evaluator(hydroeval.kge, df_sim[f'evaluation'], df_obs.discharge_vol, axis=1)\n",
    "    kge_2009_values.append(np.round(kge_2009[0][0], 4))\n",
    "\n",
    "    kge_2012 = hydroeval.evaluator(hydroeval.kgeprime, df_sim[f'evaluation'], df_obs.discharge_vol, axis=1)\n",
    "    kge_2012_values.append(np.round(kge_2012[0][0], 4))    \n",
    "\n",
    "    kge_np = hydroeval.evaluator(hydroeval.kgenp, df_sim[f'evaluation'], df_obs.discharge_vol, axis=1)\n",
    "    kge_np_values.append(np.round(kge_np[0][0], 4))    \n",
    "    kge_np_r_values.append(np.round(kge_np[0][1], 4))\n",
    "    kge_np_alpha_values.append(np.round(kge_np[0][2], 4))\n",
    "    kge_np_beta_values.append(np.round(kge_np[0][3], 4))\n",
    "    \n",
    "    df['basin_id'] = basin_ids\n",
    "    df['nse'] = nse_values\n",
    "    df['kge_2009'] = kge_2009_values\n",
    "    df['kge_2012'] = kge_2012_values\n",
    "    df['kge_np'] = kge_np_values\n",
    "    df['kge_np_r'] = kge_np_r_values\n",
    "    df['kge_np_alpha'] = kge_np_alpha_values\n",
    "    df['kge_np_beta'] = kge_np_beta_values\n",
    "\n",
    "    return df"
   ]
  },
  {
   "cell_type": "markdown",
   "id": "f815b0d6-907c-4af3-ab90-41634c2ce6cb",
   "metadata": {},
   "source": [
    "# Check if output exists"
   ]
  },
  {
   "cell_type": "code",
   "execution_count": null,
   "id": "444124e9-0a91-46f7-a55d-17660361ab5d",
   "metadata": {},
   "outputs": [],
   "source": [
    "df = pd.DataFrame()\n",
    "basins = []\n",
    "exists = []\n",
    "\n",
    "for basin_id in basin_ids:\n",
    "    basins.append(basin_id)\n",
    "\n",
    "    # check if file exists\n",
    "    sim_file = Path(f'{MODELS}/{basin_id}/evaluation/output.csv')\n",
    "    if sim_file.is_file() is False:\n",
    "        exists.append(False)\n",
    "    else:\n",
    "        df_sim = pd.read_csv(sim_file)\n",
    "    \n",
    "        # Check if csv containes output\n",
    "        if len(df_sim) == 0:\n",
    "            exists.append(False)\n",
    "        else:\n",
    "            exists.append(True)\n",
    "        \n",
    "df['basin_id'] = basins\n",
    "df['completed'] = exists\n",
    "df = df.reset_index()\n",
    "df = df[df['completed'] == True]\n",
    "\n",
    "basin_ids = df.basin_id.to_list()"
   ]
  },
  {
   "cell_type": "markdown",
   "id": "937dbe34-8400-4edb-8c20-e6d9e877387e",
   "metadata": {},
   "source": [
    "# Calculate Objective functions"
   ]
  },
  {
   "cell_type": "code",
   "execution_count": null,
   "id": "9a9d80a4-e8d8-4568-a840-669f92d1fcb3",
   "metadata": {
    "tags": []
   },
   "outputs": [],
   "source": [
    "for basin_id in basin_ids:\n",
    "    print(basin_id)\n",
    "    \n",
    "    # Get sim and obs timeseries\n",
    "    df_sim = get_simulations(basin_id, start_date, end_date)\n",
    "    df_obs = get_observations(basin_id, start_date, end_date)\n",
    "    \n",
    "    df_sim.to_csv(f'{OUTPUT}/simulations/{basin_id}_wflow_calibrated_evaluation_simulations.csv')\n",
    "    df_obs.to_csv(f'{OUTPUT}/observations/{basin_id}_wflow_calibrated_evaluation_observations.csv')   \n",
    "    \n",
    "    # Calculate objective function for each water year and take average\n",
    "    years = list(range(int(start_date[:4]), int(end_date[:4])))\n",
    "    \n",
    "    objective_dfs = []\n",
    "    for year in years:\n",
    "        start_year = f'{year}-10-01'\n",
    "        end_year = f'{year+1}-09-30'\n",
    "        \n",
    "        # Select water year\n",
    "        mask = (df_sim.index >= start_year) & (df_sim.index <= end_year)\n",
    "        df_sim_year = df_sim.loc[mask]\n",
    "        df_obs_year = df_obs.loc[mask]\n",
    "\n",
    "        # Calculate objective function\n",
    "        df_objective = calculate_objective_functions(basin_id, df_sim_year, df_obs_year)\n",
    "        objective_dfs.append(df_objective)\n",
    "    \n",
    "    # Merge water years objective values and take the mean value\n",
    "    df = pd.concat(objective_dfs,axis=1)\n",
    "    df = df.groupby(level=0,axis=1).mean()\n",
    "    df = df.sort_values('kge_np', ascending=False)\n",
    "    df['basin_id'] = [basin_id] * len(df)\n",
    "    df.to_csv(f'{OUTPUT}/objective_functions/{basin_id}_wflow_calibrated_evaluation_objective_functions.csv', index=False)"
   ]
  },
  {
   "cell_type": "markdown",
   "id": "343a3abb-f80c-498f-a829-ed1b4422ecd7",
   "metadata": {},
   "source": [
    "# Create overview dataframe"
   ]
  },
  {
   "cell_type": "code",
   "execution_count": null,
   "id": "1b80d76e-6617-4def-9b3d-f412b5db8469",
   "metadata": {},
   "outputs": [],
   "source": [
    "# Load results and create overview dataframe\n",
    "result_files = glob(f\"{OUTPUT}/objective_functions/*_evaluation_objective_functions.csv\")\n",
    "\n",
    "# Create empty dataframe and lists\n",
    "df_out = pd.DataFrame()\n",
    "basin_ids = []\n",
    "ls_kge_np = []\n",
    "ls_kge_np_r = []\n",
    "ls_kge_np_alpha = []\n",
    "ls_kge_np_beta = []\n",
    "ls_kge_2009 = []\n",
    "ls_kge_2012 = []\n",
    "ls_nse = []\n",
    "\n",
    "for file in result_files:\n",
    "    # Read results and rank descending (kge_np)\n",
    "    df = pd.read_csv(file)\n",
    "    df = df.set_index('kge_np')\n",
    "    df = df.sort_index(ascending=False)\n",
    "    df = df.reset_index()\n",
    "    \n",
    "    # Select first row\n",
    "    df = df.loc[0]\n",
    "    \n",
    "    # Append results\n",
    "    basin_ids.append(int(df['basin_id']))\n",
    "    ls_kge_np.append(df['kge_np'])\n",
    "    ls_kge_np_r.append(df['kge_np_r'])\n",
    "    ls_kge_np_alpha.append(df['kge_np_alpha'])\n",
    "    ls_kge_np_beta.append(df['kge_np_beta'])\n",
    "    ls_kge_2009.append(df['kge_2009'])\n",
    "    ls_kge_2012.append(df['kge_2012'])\n",
    "    ls_nse.append(df['nse'])\n",
    "\n",
    "# Create output dataframe\n",
    "df_out['basin_id'] = basin_ids       \n",
    "df_out['kge_np'] = ls_kge_np    \n",
    "df_out['kge_np_r'] = ls_kge_np_r    \n",
    "df_out['kge_np_alpha'] = ls_kge_np_alpha    \n",
    "df_out['kge_np_beta'] = ls_kge_np_beta    \n",
    "df_out['kge_2009'] = ls_kge_2009    \n",
    "df_out['kge_2012'] = ls_kge_2012    \n",
    "df_out['nse'] = ls_nse \n",
    "\n",
    "# Write output\n",
    "df_out.to_csv(f'{ROOT}/results/wflow_sbm/wflow_calibrated_evaluation_objective_functions_overview.csv')"
   ]
  },
  {
   "cell_type": "code",
   "execution_count": null,
   "id": "74e5ca47-ccd2-4f2e-b3fe-0a2815afe8a0",
   "metadata": {},
   "outputs": [],
   "source": []
  }
 ],
 "metadata": {
  "kernelspec": {
   "display_name": "Python 3 (ipykernel)",
   "language": "python",
   "name": "python3"
  },
  "language_info": {
   "codemirror_mode": {
    "name": "ipython",
    "version": 3
   },
   "file_extension": ".py",
   "mimetype": "text/x-python",
   "name": "python",
   "nbconvert_exporter": "python",
   "pygments_lexer": "ipython3",
   "version": "3.10.6"
  }
 },
 "nbformat": 4,
 "nbformat_minor": 5
}
