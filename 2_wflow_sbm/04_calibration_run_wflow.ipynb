{
 "cells": [
  {
   "cell_type": "markdown",
   "id": "d60b45a4-80a8-456e-aa41-f33adfacc685",
   "metadata": {},
   "source": [
    "# Calibration run wflow_sbm"
   ]
  },
  {
   "cell_type": "code",
   "execution_count": null,
   "id": "9fe1f15f-9155-400a-bb68-9d643c43cc09",
   "metadata": {},
   "outputs": [],
   "source": [
    "import os\n",
    "import subprocess\n",
    "import pandas as pd\n",
    "import xarray as xr\n",
    "\n",
    "from glob import glob\n",
    "from pathlib import Path\n",
    "from pathos.threading import ThreadPool as Pool"
   ]
  },
  {
   "cell_type": "markdown",
   "id": "8faef312-2c5a-4f88-934b-b5f574aa5fa9",
   "metadata": {},
   "source": [
    "# Set Paths"
   ]
  },
  {
   "cell_type": "code",
   "execution_count": null,
   "id": "e97e2764-2854-4daf-859c-e83933a1c175",
   "metadata": {},
   "outputs": [],
   "source": [
    "# Set Paths\n",
    "ROOT = Path('/gpfs/work1/0/wtrcycle/users/jaerts/camels_uk/')\n",
    "MODELS = Path(f'{ROOT}/wflow/data/')\n",
    "\n",
    "julia_path = '/gpfs/home6/jaerts/julia-1.7.3/bin/julia'"
   ]
  },
  {
   "cell_type": "markdown",
   "id": "2df9528e-202d-42b2-9db6-db4a51ee5270",
   "metadata": {},
   "source": [
    "# Config"
   ]
  },
  {
   "cell_type": "code",
   "execution_count": null,
   "id": "0e712276-45be-4e8a-8e76-bfccd4428731",
   "metadata": {},
   "outputs": [],
   "source": [
    "# Get available basin IDs wflow_sbm\n",
    "basin_dirs = glob(f'{MODELS}/*')\n",
    "basin_ids = [s.split('/')[-1] for s in basin_dirs]\n",
    "basin_ids.sort()\n",
    "\n",
    "# Set calibration interval\n",
    "calibration_values = [1,5,10,15,20,\n",
    "                      25,30,35,40,45,\n",
    "                      50,55,60,65,70,\n",
    "                      75,80,85,90,95,\n",
    "                      100,125,150,175,\n",
    "                      200,225,250,275,\n",
    "                      300,350,400,450,550,\n",
    "                      600,650,700,750,800,\n",
    "                      850,900,950,1000,1500,\n",
    "                      2000,2500,3000,4000,\n",
    "                      4500,5000,7500,10000]\n",
    "# Set available cores\n",
    "cores_available = 60"
   ]
  },
  {
   "cell_type": "markdown",
   "id": "86a17934-d747-4f0d-94a1-119c5ff06ffd",
   "metadata": {},
   "source": [
    "# Sort basins by size "
   ]
  },
  {
   "cell_type": "code",
   "execution_count": null,
   "id": "9724fdc7-6236-4d0f-a95d-551b75fecfa2",
   "metadata": {},
   "outputs": [],
   "source": [
    "# Sort by basin size\n",
    "def sort_basin_ids_by_size(basin_ids):\n",
    "    sizes = []\n",
    "    for basin_id in basin_ids:\n",
    "        size = os.path.getsize(f'{MODELS}/{basin_id}/staticmaps.nc')\n",
    "        sizes.append(size)\n",
    "\n",
    "    df = pd.DataFrame()\n",
    "    df['basin_id'] = basin_ids\n",
    "    df['size'] = sizes\n",
    "    df = df.sort_values('size')\n",
    "\n",
    "    basin_ids = df.basin_id.to_list()\n",
    "    \n",
    "    return basin_ids\n",
    "\n",
    "basin_ids_sorted = sort_basin_ids_by_size(basin_ids)"
   ]
  },
  {
   "cell_type": "markdown",
   "id": "93d493df-0c33-40a6-83df-30209b6e0596",
   "metadata": {},
   "source": [
    "# Model Run functions"
   ]
  },
  {
   "cell_type": "code",
   "execution_count": null,
   "id": "4d2b2aef-5f0c-4a3a-91e5-f98123eb1035",
   "metadata": {},
   "outputs": [],
   "source": [
    "def wflow_runner_calibration(julia_path, basin_id, calibration_value):\n",
    "    print(f'Starting: {basin_id} ksathorfrac {calibration_value}')\n",
    "    \n",
    "    # Set config_file\n",
    "    config_file = f'{MODELS}/{basin_id}/wflow_sbm_ksathorfrac_{calibration_value}.toml'\n",
    "    \n",
    "    # Call wflow julia command line\n",
    "    subprocess.call(\n",
    "                    f'{julia_path} -e \"using Wflow; Wflow.run()\" {config_file}',\n",
    "                    # stdout=subprocess.DEVNULL,\n",
    "                    # stderr=subprocess.STDOUT,\n",
    "                    shell=True\n",
    "                   )\n",
    "    \n",
    "    return print(f'Finished: {basin_id} ksathorfrac {calibration_value}')\n",
    "    \n",
    "    "
   ]
  },
  {
   "cell_type": "code",
   "execution_count": null,
   "id": "a7045119-07dc-40a1-b22b-580b94f8f7da",
   "metadata": {
    "tags": []
   },
   "outputs": [],
   "source": [
    "def parallel_run(julia_path, basin_ids, calibration_values, threads=cores_available):\n",
    "    \n",
    "    # Set number of threads (cores) used for parallel run and map threads\n",
    "    if threads is None:\n",
    "        pool = Pool()\n",
    "    else:\n",
    "        pool = Pool(nodes=threads)\n",
    "        \n",
    "    # Run parallel models\n",
    "    pool.map(wflow_runner_calibration, julia_paths, basin_ids, calibration_values)\n",
    "    return"
   ]
  },
  {
   "cell_type": "markdown",
   "id": "696b27dc-f259-4f05-a396-518a93f5a560",
   "metadata": {
    "tags": []
   },
   "source": [
    "## Check completed runs"
   ]
  },
  {
   "cell_type": "code",
   "execution_count": null,
   "id": "6c9d1c52-56fb-41c2-9095-48afad3c01cb",
   "metadata": {
    "tags": []
   },
   "outputs": [],
   "source": [
    "df = pd.DataFrame()\n",
    "basins = []\n",
    "exists = []\n",
    "\n",
    "for basin_id in basin_ids:\n",
    "    basins.append(basin_id)\n",
    "\n",
    "    # check if file exists\n",
    "    sim_file = Path(f'{MODELS}/{basin_id}/ksathorfrac_1/output.csv')\n",
    "    if sim_file.is_file() is False:\n",
    "        exists.append(False)\n",
    "    else:\n",
    "        df_sim = pd.read_csv(sim_file)\n",
    "    \n",
    "        # Check if csv containes output\n",
    "        if len(df_sim) < 3200:\n",
    "            exists.append(False)\n",
    "        else:\n",
    "            exists.append(True)\n",
    "        \n",
    "df['basin_id'] = basins\n",
    "df['completed'] = exists\n",
    "df = df.reset_index()\n",
    "df = df[df['completed'] == False]\n",
    "\n",
    "basin_ids_sorted = df.basin_id.to_list()\n",
    "basin_ids_sorted"
   ]
  },
  {
   "cell_type": "markdown",
   "id": "711213df-642b-477b-98c9-1d3bc2d0d5dd",
   "metadata": {},
   "source": [
    "# Create lists and run function"
   ]
  },
  {
   "cell_type": "code",
   "execution_count": null,
   "id": "eca766db-f02e-48b0-8c38-f48212253b2e",
   "metadata": {
    "tags": []
   },
   "outputs": [],
   "source": [
    "for basin_id in basins_redo:\n",
    "    julia_paths = [julia_path] * len(calibration_values)\n",
    "    basin_ids = [basin_id] * len(calibration_values)\n",
    "\n",
    "    parallel_run(julia_path, basin_ids, calibration_values, threads=cores_available)"
   ]
  }
 ],
 "metadata": {
  "kernelspec": {
   "display_name": "Python 3 (ipykernel)",
   "language": "python",
   "name": "python3"
  },
  "language_info": {
   "codemirror_mode": {
    "name": "ipython",
    "version": 3
   },
   "file_extension": ".py",
   "mimetype": "text/x-python",
   "name": "python",
   "nbconvert_exporter": "python",
   "pygments_lexer": "ipython3",
   "version": "3.10.6"
  }
 },
 "nbformat": 4,
 "nbformat_minor": 5
}
