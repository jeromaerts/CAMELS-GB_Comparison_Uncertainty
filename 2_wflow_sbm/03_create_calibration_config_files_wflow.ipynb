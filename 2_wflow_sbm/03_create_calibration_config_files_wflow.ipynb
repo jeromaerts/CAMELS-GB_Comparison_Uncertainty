{
 "cells": [
  {
   "cell_type": "markdown",
   "id": "38c7748f-68a2-45a3-ae9e-1993bb519f35",
   "metadata": {},
   "source": [
    "# Generate calibration forcing files"
   ]
  },
  {
   "cell_type": "code",
   "execution_count": 4,
   "id": "9782dc71-3f41-4535-899b-cd30bb44a369",
   "metadata": {},
   "outputs": [],
   "source": [
    "from glob import glob\n",
    "from pathlib import Path\n",
    "\n",
    "import toml"
   ]
  },
  {
   "cell_type": "markdown",
   "id": "0185c369-d926-436a-9df8-8d39384ae8bf",
   "metadata": {
    "tags": []
   },
   "source": [
    "## Set Paths"
   ]
  },
  {
   "cell_type": "code",
   "execution_count": 5,
   "id": "f4ce90f4-8d3b-4bac-a8bc-362ac1380d96",
   "metadata": {},
   "outputs": [],
   "source": [
    "# Snellius paths\n",
    "ROOT = Path('/gpfs/work1/0/wtrcycle/users/jaerts/camels_uk/')\n",
    "MODELS = Path(f'{ROOT}/wflow/data/')"
   ]
  },
  {
   "cell_type": "markdown",
   "id": "29832e54-c646-48c5-897f-4b420c0ce3bb",
   "metadata": {},
   "source": [
    "## Set config"
   ]
  },
  {
   "cell_type": "code",
   "execution_count": 6,
   "id": "b87d6927-c581-45ce-8da5-88a5524ce80b",
   "metadata": {},
   "outputs": [],
   "source": [
    "# Get available basin IDs wflow_sbm\n",
    "basin_dirs = glob(f'{MODELS}/*')\n",
    "basin_ids = [s.split('/')[-1] for s in basin_dirs]\n",
    "basin_ids.sort()\n",
    "\n",
    "# Set calibration interval\n",
    "calibration_values = [1,5,10,15,20,\n",
    "                      25,30,35,40,45,\n",
    "                      50,55,60,65,70,\n",
    "                      75,80,85,90,95,\n",
    "                      100,125,150,175,\n",
    "                      200,225,250,275,\n",
    "                      300,350,400,450,550,\n",
    "                      600,650,700,750,800,\n",
    "                      850,900,950,1000,1500,\n",
    "                      2000,2500,3000,4000,\n",
    "                      4500,5000,7500,10000]"
   ]
  },
  {
   "cell_type": "markdown",
   "id": "f218bc09-d9a1-49fc-af27-f460da8225aa",
   "metadata": {},
   "source": [
    "# Generate config_files"
   ]
  },
  {
   "cell_type": "code",
   "execution_count": 7,
   "id": "fc5c53a6-f1a9-4a34-9956-9abfd5f77749",
   "metadata": {
    "tags": []
   },
   "outputs": [],
   "source": [
    "# Calibration Period\n",
    "for basin_id in basin_ids:\n",
    "    for calibration_value in calibration_values:\n",
    "        config_file = toml.load(f'{MODELS}/{basin_id}/wflow_sbm.toml')\n",
    "        config_file['loglevel'] = \"debug\"      \n",
    "        config_file['path_log'] = f\"log_ksathorfrac_{calibration_value}.txt\"    \n",
    "        config_file['starttime'] = '2000-01-01T00:00:00'\n",
    "        config_file['endtime'] = '2008-12-31T00:00:00'\n",
    "\n",
    "        config_file['input']['path_forcing'] = f'ceh-gear_chess_camels-gb_{basin_id}_2000_2017.nc'\n",
    "        config_file['input']['path_static'] = f'staticmaps_ksathorfrac_{calibration_value}.nc'\n",
    "        \n",
    "        config_file['state']['path_output'] = f'ksathorfrac_{calibration_value}/outstate/outstates.nc'\n",
    "        config_file['output']['path'] = f'ksathorfrac_{calibration_value}/output.nc'\n",
    "        config_file['csv']['path'] = f'ksathorfrac_{calibration_value}/output.csv'\n",
    "        \n",
    "        with open(f'{MODELS}/{basin_id}/wflow_sbm_ksathorfrac_{calibration_value}.toml', 'w') as f:\n",
    "            toml.dump(config_file, f)"
   ]
  },
  {
   "cell_type": "code",
   "execution_count": null,
   "id": "0c29e7a0-029a-4c91-b81f-515229f0b853",
   "metadata": {},
   "outputs": [],
   "source": []
  }
 ],
 "metadata": {
  "kernelspec": {
   "display_name": "Python 3 (ipykernel)",
   "language": "python",
   "name": "python3"
  },
  "language_info": {
   "codemirror_mode": {
    "name": "ipython",
    "version": 3
   },
   "file_extension": ".py",
   "mimetype": "text/x-python",
   "name": "python",
   "nbconvert_exporter": "python",
   "pygments_lexer": "ipython3",
   "version": "3.10.6"
  }
 },
 "nbformat": 4,
 "nbformat_minor": 5
}
