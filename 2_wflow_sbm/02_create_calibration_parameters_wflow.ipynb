{
 "cells": [
  {
   "cell_type": "markdown",
   "id": "630fc691-b819-456a-a5b8-98fffa623723",
   "metadata": {},
   "source": [
    "# Generate calibration parameters wflow_sbm\n",
    "## Modify staticmaps.nc"
   ]
  },
  {
   "cell_type": "code",
   "execution_count": null,
   "id": "efbe2117-1ebf-43f5-acca-7608f1841dc9",
   "metadata": {},
   "outputs": [],
   "source": [
    "from glob import glob\n",
    "from pathlib import Path\n",
    "\n",
    "import xarray as xr\n",
    "from dask.diagnostics import ProgressBar"
   ]
  },
  {
   "cell_type": "markdown",
   "id": "bfaaee34-43b9-42f7-a4e0-8cff96b15d1c",
   "metadata": {},
   "source": [
    "## Set Paths"
   ]
  },
  {
   "cell_type": "code",
   "execution_count": null,
   "id": "95c64544-c204-43df-9291-ebf18aa75438",
   "metadata": {},
   "outputs": [],
   "source": [
    "# Snellius paths\n",
    "ROOT = Path('/gpfs/work1/0/wtrcycle/users/jaerts/camels_uk/')\n",
    "MODELS = Path(f'{ROOT}/wflow/data/')"
   ]
  },
  {
   "cell_type": "markdown",
   "id": "426b6b18-bd45-4bb8-be96-79b7016c8390",
   "metadata": {},
   "source": [
    "## Set config"
   ]
  },
  {
   "cell_type": "code",
   "execution_count": null,
   "id": "671f5e4c-e589-4eb8-9a91-2afd8ed49882",
   "metadata": {},
   "outputs": [],
   "source": [
    "# Get available basin IDs wflow_sbm\n",
    "basin_dirs = glob(f'{MODELS}/*')\n",
    "basin_ids = [s.split('/')[-1] for s in basin_dirs]\n",
    "basin_ids.sort()\n",
    "\n",
    "# Set calibration interval\n",
    "calibration_values = [1,5,10,15,20,\n",
    "                      25,30,35,40,45,\n",
    "                      50,55,60,65,70,\n",
    "                      75,80,85,90,95,\n",
    "                      100,125,150,175,\n",
    "                      200,225,250,275,\n",
    "                      300,350,400,450,550,\n",
    "                      600,650,700,750,800,\n",
    "                      850,900,950,1000,1500,\n",
    "                      2000,2500,3000,4000,\n",
    "                      4500,5000,7500,10000]"
   ]
  },
  {
   "cell_type": "markdown",
   "id": "9782f372-0c1e-4592-b6d7-656cae729ebe",
   "metadata": {},
   "source": [
    "# Generate calibration parameters wflow_sbm"
   ]
  },
  {
   "cell_type": "code",
   "execution_count": null,
   "id": "11829627-0b99-46cd-8fb0-5d68ed6c9689",
   "metadata": {},
   "outputs": [],
   "source": [
    "def modify_staticmaps(modeldir, basin_id, calibration_values):\n",
    "\n",
    "    # Modify staticmaps.nc\n",
    "    for calibration_value in calibration_values: \n",
    "        # Load dataset\n",
    "        ds = xr.open_dataset(f'{modeldir}/{basin_id}/staticmaps.nc')\n",
    "        # Multiply with calibration value\n",
    "        ds['KsatHorFrac'] = ds.KsatHorFrac * (calibration_value / 100)\n",
    "        \n",
    "        # Save to netcdf\n",
    "        fname = f'{modeldir}/{basin_id}/staticmaps_ksathorfrac_{calibration_value}.nc'\n",
    "        \n",
    "        write_job = ds.to_netcdf(fname, compute=False)\n",
    "        # with ProgressBar():\n",
    "        write_job.compute()\n",
    "        \n",
    "    return print(f'Finished {basin_id}')"
   ]
  },
  {
   "cell_type": "code",
   "execution_count": null,
   "id": "e5060095-81e3-4144-a2d8-b46dcc45eab0",
   "metadata": {
    "tags": []
   },
   "outputs": [],
   "source": [
    "# Run function\n",
    "for basin_id in basin_ids:\n",
    "    modify_staticmaps(MODELS, basin_id, calibration_values)"
   ]
  },
  {
   "cell_type": "code",
   "execution_count": null,
   "id": "dfb75128-d5b0-48a8-b073-81985214ce62",
   "metadata": {},
   "outputs": [],
   "source": []
  }
 ],
 "metadata": {
  "kernelspec": {
   "display_name": "Python 3 (ipykernel)",
   "language": "python",
   "name": "python3"
  },
  "language_info": {
   "codemirror_mode": {
    "name": "ipython",
    "version": 3
   },
   "file_extension": ".py",
   "mimetype": "text/x-python",
   "name": "python",
   "nbconvert_exporter": "python",
   "pygments_lexer": "ipython3",
   "version": "3.10.6"
  }
 },
 "nbformat": 4,
 "nbformat_minor": 5
}
