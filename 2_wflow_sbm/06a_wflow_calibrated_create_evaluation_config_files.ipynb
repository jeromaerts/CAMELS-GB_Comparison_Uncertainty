{
 "cells": [
  {
   "cell_type": "markdown",
   "id": "c8154e80-6b0a-410c-890d-aaa5e391da8a",
   "metadata": {},
   "source": [
    "# Create wflow evaluation period config file using calibrated parameters\n",
    "## Based on best performing ksathorfrac values"
   ]
  },
  {
   "cell_type": "code",
   "execution_count": null,
   "id": "8617334a-51d8-4882-9b52-e8fd92fc4ab8",
   "metadata": {},
   "outputs": [],
   "source": [
    "from glob import glob\n",
    "from pathlib import Path\n",
    "\n",
    "import toml\n",
    "import pandas as pd"
   ]
  },
  {
   "cell_type": "markdown",
   "id": "60feb716-8650-4612-852e-aca466906e76",
   "metadata": {},
   "source": [
    "# Set Paths"
   ]
  },
  {
   "cell_type": "code",
   "execution_count": null,
   "id": "428c2588-def1-48e7-8274-9f5d7531aa8e",
   "metadata": {},
   "outputs": [],
   "source": [
    "# Set Paths\n",
    "ROOT = Path(\"/gpfs/work1/0/wtrcycle/users/jaerts/camels_uk/\")\n",
    "MODELS = Path(f'{ROOT}/wflow/data/')\n",
    "RESULTS = Path(f\"{ROOT}/results/\")\n",
    "\n",
    "template = f\"{ROOT}/aux_data/Wflow_SBM/template_evaluation.toml\""
   ]
  },
  {
   "cell_type": "markdown",
   "id": "72b56aaa-0689-443a-8295-f70670ca5df7",
   "metadata": {},
   "source": [
    "# Load calibration results"
   ]
  },
  {
   "cell_type": "code",
   "execution_count": null,
   "id": "10373357-cf72-4924-bd7c-ad86fb8b9859",
   "metadata": {
    "tags": []
   },
   "outputs": [],
   "source": [
    "# Load calibration file\n",
    "calibration_file = f\"{RESULTS}/wflow_sbm/wflow_calibration_objective_function_overview.csv\"\n",
    "df = pd.read_csv(calibration_file, index_col='basin_id')\n",
    "\n",
    "basin_ids = df.index.to_list()"
   ]
  },
  {
   "cell_type": "code",
   "execution_count": null,
   "id": "4b52e2ae-85a6-4ad8-bffb-125f3a12beec",
   "metadata": {},
   "outputs": [],
   "source": [
    "len(basin_ids)"
   ]
  },
  {
   "cell_type": "markdown",
   "id": "dac190b0-0b70-40e7-b540-473a6e0900f5",
   "metadata": {},
   "source": [
    "# Create config files based on calibrated parameters"
   ]
  },
  {
   "cell_type": "code",
   "execution_count": null,
   "id": "884d87c6-9ee0-4df2-8633-af68384cf39d",
   "metadata": {},
   "outputs": [],
   "source": [
    "# Evaluation Period\n",
    "for basin_id in basin_ids:\n",
    "    calibration_values = int(df.loc[int(basin_id)].ksathorfrac)  \n",
    "    \n",
    "    config_file = toml.load(template)\n",
    "    config_file['loglevel'] = \"debug\"      \n",
    "    config_file['path_log'] = f\"log_evaluation.txt\"    \n",
    "    \n",
    "    # Add timeperiod\n",
    "    config_file['starttime'] = '2008-01-01T00:00:00'\n",
    "    config_file['endtime'] = '2015-12-31T00:00:00'\n",
    "    \n",
    "    # Add file location\n",
    "    config_file['input']['path_forcing'] = f'ceh-gear_chess_camels-gb_{basin_id}_2000_2017.nc'\n",
    "    config_file['input']['path_static'] = f'staticmaps_ksathorfrac_{calibration_values}.nc'\n",
    "\n",
    "    # Add output\n",
    "    config_file['state']['path_output'] = f'evaluation/outstate/outstates.nc'\n",
    "    config_file['output']['path'] = f'evaluation/output.nc'\n",
    "    config_file['csv']['path'] = f'evaluation/output.csv'\n",
    "   \n",
    "    with open(f'{MODELS}/{basin_id}/wflow_sbm_evaluation.toml', 'w') as f:\n",
    "        toml.dump(config_file, f)"
   ]
  }
 ],
 "metadata": {
  "kernelspec": {
   "display_name": "Python 3 (ipykernel)",
   "language": "python",
   "name": "python3"
  },
  "language_info": {
   "codemirror_mode": {
    "name": "ipython",
    "version": 3
   },
   "file_extension": ".py",
   "mimetype": "text/x-python",
   "name": "python",
   "nbconvert_exporter": "python",
   "pygments_lexer": "ipython3",
   "version": "3.10.6"
  }
 },
 "nbformat": 4,
 "nbformat_minor": 5
}
