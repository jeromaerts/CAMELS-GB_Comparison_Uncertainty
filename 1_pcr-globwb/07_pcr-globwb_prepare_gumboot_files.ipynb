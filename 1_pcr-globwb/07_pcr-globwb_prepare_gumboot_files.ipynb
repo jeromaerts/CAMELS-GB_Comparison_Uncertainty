{
 "cells": [
  {
   "cell_type": "markdown",
   "id": "fbb7ab6b-84c7-4f72-9135-39c91b7b31ac",
   "metadata": {},
   "source": [
    "# Prepare simulation timeseries for the GUMBOOT package"
   ]
  },
  {
   "cell_type": "code",
   "execution_count": null,
   "id": "25950d89-3872-458c-8e72-c4d40d014cbd",
   "metadata": {},
   "outputs": [],
   "source": [
    "import pandas as pd\n",
    "\n",
    "from glob import glob\n",
    "from pathlib import Path"
   ]
  },
  {
   "cell_type": "markdown",
   "id": "dede6d25-c503-4c8f-869d-302af2d43302",
   "metadata": {},
   "source": [
    "## Set Paths"
   ]
  },
  {
   "cell_type": "code",
   "execution_count": null,
   "id": "91c0211a-977e-46fe-930a-b500ce07f67e",
   "metadata": {},
   "outputs": [],
   "source": [
    "# Set Paths\n",
    "ROOT = Path('/gpfs/work1/0/wtrcycle/users/jaerts/camels_uk/')\n",
    "MODELS = Path(f'{ROOT}/pcr-globwb/')\n",
    "AUXDATA = Path(f'{ROOT}/aux_data/')\n",
    "OBSDIR = Path(f\"{AUXDATA}/CAMELS-GB/data/timeseries/\")\n",
    "OUTPUT = Path(f'{ROOT}/results/pcr-globwb/evaluation_period/')"
   ]
  },
  {
   "cell_type": "markdown",
   "id": "bcbfff56-be4f-4838-9cc5-3186d426611b",
   "metadata": {},
   "source": [
    "## Config"
   ]
  },
  {
   "cell_type": "code",
   "execution_count": null,
   "id": "1d844a21-ecc2-449b-a656-71a5dc94e3f8",
   "metadata": {},
   "outputs": [],
   "source": [
    "# Get available basin IDs\n",
    "df_ids = pd.read_csv(f\"{AUXDATA}/CAMELS-GB/data/CAMELS_GB_topographic_attributes.csv\", index_col='gauge_id')\n",
    "basin_ids = df_ids.index.to_list()\n",
    "\n",
    "# Remove basin_ids that return nan values\n",
    "basin_ids.remove(18017)\n",
    "basin_ids.remove(18018)\n",
    "basin_ids.remove(54038)\n",
    "basin_ids.remove(76011)\n",
    "\n",
    "# Time period (drop first year)\n",
    "start_date = '2008-01-01'\n",
    "end_date   = '2015-09-30'"
   ]
  },
  {
   "cell_type": "markdown",
   "id": "79fb6f8a-631c-4e93-9ce5-5602f95e6e35",
   "metadata": {},
   "source": [
    "# Prepare files for whole evaluation period"
   ]
  },
  {
   "cell_type": "code",
   "execution_count": null,
   "id": "bef1a229-8087-4aa1-9d3e-f72c0c672558",
   "metadata": {},
   "outputs": [],
   "source": [
    "for i, basin_id in enumerate(basin_ids):\n",
    "    print(i, end='\\r')\n",
    "    \n",
    "    # Load simulation dataframe and adjust time\n",
    "    df_sim = pd.read_csv(f'{OUTPUT}/simulations/{basin_id}_pcr-globwb_evaluation_simulations.csv')\n",
    "    df_sim = df_sim.rename(columns={'sim':'sim'})\n",
    "    df_sim['time'] = pd.to_datetime(df_sim['time'])\n",
    "    df_sim = df_sim.set_index('time')   \n",
    "    \n",
    "    # Load observation dataframe\n",
    "\n",
    "    df_obs = pd.read_csv(f'{OUTPUT}/observations/{basin_id}_pcr-globwb_evaluation_observations.csv', parse_dates=True, index_col='date')\n",
    "    \n",
    "    # Select evaluation period (drop first year)\n",
    "    mask = (df_obs.index > start_date) & (df_obs.index <= end_date)\n",
    "    df_obs = df_obs.loc[mask]\n",
    "    \n",
    "    # Join dataframes and rename columns\n",
    "    df_eval = df_sim.join(df_obs.discharge_vol)\n",
    "    df_eval = df_eval.reset_index()\n",
    "    df_eval = df_eval.rename(columns={'time':'date', 'discharge_vol':'obs'})\n",
    "    \n",
    "    if df_eval.columns[0] == 'index':\n",
    "        df_eval = df_eval.rename(columns={'index':'date'})\n",
    "    df_eval = df_eval.set_index('date')\n",
    "    df_eval = df_eval[['obs', 'sim']]\n",
    "    \n",
    "    # Save Gumboot dataframe\n",
    "    df_eval.to_csv(f'{OUTPUT}/gumboot/{basin_id}_gumboot_pcr-globwb_evaluation_simulations.csv')"
   ]
  },
  {
   "cell_type": "markdown",
   "id": "60bb6271-0099-49ad-9757-b35497323c9a",
   "metadata": {},
   "source": [
    "# Prepare Files per flow category evaluation period"
   ]
  },
  {
   "cell_type": "code",
   "execution_count": null,
   "id": "8342586b-7ba1-4026-8562-1430fb5e7bec",
   "metadata": {},
   "outputs": [],
   "source": [
    "# Set flow categories based on percentiles\n",
    "flow_categories = {'low_flow': (5, 25),\n",
    "                   'mean_flow': (25, 75),\n",
    "                   'high_flow': (75, 95)}"
   ]
  },
  {
   "cell_type": "code",
   "execution_count": null,
   "id": "8694b50f-3010-46a1-b9c2-9cc3d729a6ca",
   "metadata": {
    "tags": []
   },
   "outputs": [],
   "source": [
    "for i, basin_id in enumerate(basin_ids):\n",
    "    \n",
    "    for category in flow_categories:\n",
    "        print(f'{basin_id}: {category}', end='\\r')\n",
    "        # Load simulation dataframe and adjust time\n",
    "        df_sim = pd.read_csv(f'{OUTPUT}/flow_categories/{basin_id}_pcr-globwb_evaluation_simulations_{category}.csv')\n",
    "        df_sim['date'] = pd.to_datetime(df_sim['date'])\n",
    "        df_sim = df_sim.set_index('date')   \n",
    "\n",
    "        # Load observation dataframe\n",
    "        df_obs = pd.read_csv(f'{OUTPUT}/observations/{basin_id}_pcr-globwb_evaluation_observations_{category}.csv', parse_dates=True, index_col='date')\n",
    "        \n",
    "        # Select evaluation period (drop first year)\n",
    "        mask = (df_obs.index > start_date) & (df_obs.index <= end_date)\n",
    "        df_obs = df_obs.loc[mask]\n",
    "\n",
    "        # Join dataframes and rename columns\n",
    "        df_eval = df_sim.join(df_obs.discharge_vol)\n",
    "        df_eval = df_eval.reset_index()\n",
    "        df_eval = df_eval.rename(columns={'discharge_vol':'obs'})\n",
    "\n",
    "        if df_eval.columns[0] == 'index':\n",
    "            df_eval = df_eval.rename(columns={'index':'date'})\n",
    "        df_eval = df_eval.set_index('date')\n",
    "\n",
    "        # Save Gumboot dataframe\n",
    "        df_eval.to_csv(f'{OUTPUT}/gumboot/{basin_id}_gumboot_pcr-globwb_evaluation_simulations_{category}.csv')"
   ]
  },
  {
   "cell_type": "code",
   "execution_count": null,
   "id": "d73b1c86-61e1-48ff-8df1-75c23f06bf0f",
   "metadata": {},
   "outputs": [],
   "source": []
  }
 ],
 "metadata": {
  "kernelspec": {
   "display_name": "Python 3 (ipykernel)",
   "language": "python",
   "name": "python3"
  },
  "language_info": {
   "codemirror_mode": {
    "name": "ipython",
    "version": 3
   },
   "file_extension": ".py",
   "mimetype": "text/x-python",
   "name": "python",
   "nbconvert_exporter": "python",
   "pygments_lexer": "ipython3",
   "version": "3.10.6"
  }
 },
 "nbformat": 4,
 "nbformat_minor": 5
}
