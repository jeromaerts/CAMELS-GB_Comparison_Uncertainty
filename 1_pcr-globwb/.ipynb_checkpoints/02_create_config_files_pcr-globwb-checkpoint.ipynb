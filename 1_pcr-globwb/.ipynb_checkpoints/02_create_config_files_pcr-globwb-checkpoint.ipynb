{
 "cells": [
  {
   "cell_type": "markdown",
   "id": "10538cdc-daf3-4dfd-b682-ae614c562d04",
   "metadata": {},
   "source": [
    "# Create config files PCR-GLOBWB\n",
    "### /gpfs/work1/0/dfguu/users/edwin/data/pcrglobwb_input_arise/develop/"
   ]
  },
  {
   "cell_type": "code",
   "execution_count": 1,
   "id": "31ff46cd-339c-47a0-a8ab-2fb12967b6a1",
   "metadata": {},
   "outputs": [],
   "source": [
    "from glob import glob\n",
    "from pathlib import Path\n",
    "\n",
    "from configparser import ConfigParser"
   ]
  },
  {
   "cell_type": "markdown",
   "id": "7d11ffed-9577-45f2-b1b1-9314bdc945bd",
   "metadata": {},
   "source": [
    "# Set Paths"
   ]
  },
  {
   "cell_type": "code",
   "execution_count": 2,
   "id": "6f0989a7-b5f9-4305-bc6b-448741fd1083",
   "metadata": {},
   "outputs": [],
   "source": [
    "# Snellius paths\n",
    "ROOT = Path('/gpfs/work1/0/wtrcycle/users/jaerts/camels_uk/')\n",
    "MODELS = Path(f'{ROOT}/pcr-globwb/')\n",
    "FORCING = Path(f'{ROOT}/forcing/')\n",
    "AUXDATA = Path(f'{ROOT}/aux_data/')"
   ]
  },
  {
   "cell_type": "markdown",
   "id": "cdb0aa80-0452-4d75-b770-27d66e210b01",
   "metadata": {},
   "source": [
    "# Set config"
   ]
  },
  {
   "cell_type": "code",
   "execution_count": 3,
   "id": "cf102886-292c-4602-9a22-33c2464c6aac",
   "metadata": {},
   "outputs": [],
   "source": [
    "# Get available basin IDs wflow_sbm\n",
    "basin_dirs = glob(f'{MODELS}/*')\n",
    "basin_ids = [s.split('/')[-1] for s in basin_dirs]\n",
    "basin_ids.remove('uk')\n",
    "basin_ids.sort()\n",
    "\n",
    "\n",
    "# Template .ini file\n",
    "template = f'{AUXDATA}/PCR-GLOBWB/template_1k_setup_file.ini'"
   ]
  },
  {
   "cell_type": "markdown",
   "id": "b2b0f1f7-c97e-4fd1-840e-48e8a829fc7a",
   "metadata": {},
   "source": [
    "## Create UK config"
   ]
  },
  {
   "cell_type": "code",
   "execution_count": 5,
   "id": "9ad415d7-afaf-42ce-bfe9-f9224c846c97",
   "metadata": {},
   "outputs": [],
   "source": [
    "basin_ids = ['uk']\n",
    "for basin_id in basin_ids:\n",
    "    # Load config parser\n",
    "    config = ConfigParser()\n",
    "    config.optionxform = str\n",
    "\n",
    "    # Load config file\n",
    "    config.read(template)\n",
    "\n",
    "    # Set Global Options\n",
    "    config['globalOptions']['outputDir'] = f'{MODELS}/{basin_id}/'\n",
    "    config['globalOptions']['cloneMap'] = f'{MODELS}/{basin_id}/{basin_id}_30sec_clone.map'\n",
    "    config['globalOptions']['landmask'] = f'{MODELS}/{basin_id}/{basin_id}_30sec_clone.map'\n",
    "    \n",
    "    # Set Period and Spin-up\n",
    "    config['globalOptions']['startTime'] = \"2007-01-01\"\n",
    "    config['globalOptions']['endTime'] = '2017-12-31'\n",
    "    config['globalOptions']['maxSpinUpsInYears'] = '30'\n",
    "\n",
    "    # Set Meteo Options \n",
    "    config['meteoOptions']['precipitationNC'] = f'{MODELS}/{basin_id}/ceh-gear_chess_camels-gb_{basin_id}_pr_clim2000-2007_2017.nc'\n",
    "    config['meteoOptions']['temperatureNC']   = f'{MODELS}/{basin_id}/ceh-gear_chess_camels-gb_{basin_id}_tas_clim2000-2007_2017.nc'\n",
    "    config['meteoOptions']['refETPotFileNC']  = f'{MODELS}/{basin_id}/ceh-gear_chess_camels-gb_{basin_id}_pet_clim2000-2007_2017.nc'\n",
    "    \n",
    "    config['meteoDownscalingOptions']['downscalePrecipitation'] = 'True'\n",
    "    config['meteoDownscalingOptions']['downscaleTemperature'] = 'True' \n",
    "    config['meteoDownscalingOptions']['downscaleReferenceETPot'] = 'True'\n",
    "\n",
    "    # Write output to basin directory\n",
    "    outfile = f'{MODELS}/{basin_id}/{basin_id}.ini'\n",
    "    with open(outfile, \"w\") as configfile:\n",
    "            config.write(configfile)"
   ]
  }
 ],
 "metadata": {
  "kernelspec": {
   "display_name": "Python 3 (ipykernel)",
   "language": "python",
   "name": "python3"
  },
  "language_info": {
   "codemirror_mode": {
    "name": "ipython",
    "version": 3
   },
   "file_extension": ".py",
   "mimetype": "text/x-python",
   "name": "python",
   "nbconvert_exporter": "python",
   "pygments_lexer": "ipython3",
   "version": "3.10.6"
  }
 },
 "nbformat": 4,
 "nbformat_minor": 5
}
