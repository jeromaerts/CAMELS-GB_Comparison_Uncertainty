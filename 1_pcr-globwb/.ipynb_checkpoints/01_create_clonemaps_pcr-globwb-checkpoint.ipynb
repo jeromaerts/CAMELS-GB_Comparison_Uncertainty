{
 "cells": [
  {
   "cell_type": "markdown",
   "id": "5fc1a04a-ada1-4d57-bf1f-fe503b90a0e8",
   "metadata": {},
   "source": [
    "# Create clonemaps for PCR-GLOBWB\n",
    "### PCR-GLOBWB uses binary maps (clone maps) to specify extent and resolution"
   ]
  },
  {
   "cell_type": "markdown",
   "id": "94e201a7-b18f-437b-a095-0f662373aed1",
   "metadata": {},
   "source": [
    "### Snellius Dutch Cluster Parameter location: /gpfs/work1/0/dfguu/users/edwin/data/pcrglobwb_input_arise/develop/"
   ]
  },
  {
   "cell_type": "code",
   "execution_count": 1,
   "id": "3014d774-096e-4a30-8db0-9a8341f17f7d",
   "metadata": {},
   "outputs": [
    {
     "name": "stderr",
     "output_type": "stream",
     "text": [
      "/gpfs/home6/jaerts/mambaforge/envs/wflow_state_flux/lib/python3.10/site-packages/geopandas/_compat.py:111: UserWarning: The Shapely GEOS version (3.11.0-CAPI-1.17.0) is incompatible with the GEOS version PyGEOS was compiled with (3.10.1-CAPI-1.16.0). Conversions between both will be slow.\n",
      "  warnings.warn(\n"
     ]
    }
   ],
   "source": [
    "import os, math\n",
    "import subprocess\n",
    "import rioxarray\n",
    "import xarray as xr\n",
    "import geopandas as gpd\n",
    "import pandas as pd\n",
    "\n",
    "from glob import glob\n",
    "from pathlib import Path"
   ]
  },
  {
   "cell_type": "markdown",
   "id": "d75ebe28-3b78-4c98-af3f-d43fb4f48c8a",
   "metadata": {},
   "source": [
    "# Set Paths"
   ]
  },
  {
   "cell_type": "code",
   "execution_count": 2,
   "id": "104d46ef-aa0d-4f0d-a3bd-0ad0a12d2b29",
   "metadata": {},
   "outputs": [],
   "source": [
    "ROOT = Path('/gpfs/work1/0/wtrcycle/users/jaerts/camels_uk/')\n",
    "AUXDATA = Path(f\"{ROOT}/aux_data\")\n",
    "MODELS = Path(f'{ROOT}/pcr-globwb/')\n",
    "FORCING = Path(f'{ROOT}/forcing/')"
   ]
  },
  {
   "cell_type": "markdown",
   "id": "bb4f35eb-eb02-4d7f-af87-9c7c5a76f37b",
   "metadata": {},
   "source": [
    "# Config"
   ]
  },
  {
   "cell_type": "code",
   "execution_count": 3,
   "id": "76a968fa-7cab-41be-a0f4-c8477469fce0",
   "metadata": {},
   "outputs": [],
   "source": [
    "# Get available basin IDs wflow_sbm\n",
    "basin_dirs = glob(f'{MODELS}/*')\n",
    "basin_ids = [s.split('/')[-1] for s in basin_dirs]\n",
    "basin_ids.remove('uk')\n",
    "basin_ids.sort()"
   ]
  },
  {
   "cell_type": "markdown",
   "id": "149158cb-ebf3-40eb-9ee1-80cc46e36d93",
   "metadata": {},
   "source": [
    "# Read boundary shapefiles"
   ]
  },
  {
   "cell_type": "code",
   "execution_count": 4,
   "id": "34fa720d-f041-4efd-b5a5-c71bc250cb25",
   "metadata": {
    "tags": []
   },
   "outputs": [
    {
     "name": "stderr",
     "output_type": "stream",
     "text": [
      "/gpfs/home6/jaerts/mambaforge/envs/wflow_state_flux/lib/python3.10/site-packages/pyproj/crs/crs.py:130: FutureWarning: '+init=<authority>:<code>' syntax is deprecated. '<authority>:<code>' is the preferred initialization method. When making the change, be mindful of axis order changes: https://pyproj4.github.io/pyproj/stable/gotchas.html#axis-order-changes-in-proj-6\n",
      "  in_crs_string = _prepare_from_proj_string(in_crs_string)\n"
     ]
    }
   ],
   "source": [
    "# Read shapefile\n",
    "gdf = gpd.read_file(f\"{AUXDATA}/CAMELS-GB/data/CAMELS_GB_catchment_boundaries/CAMELS_GB_catchment_boundaries.shp\")\n",
    "gdf = gdf.set_index('ID_STRING')\n",
    "\n",
    "# Reproject shapefile\n",
    "gdf = gdf.to_crs({'init':'epsg:4326'})"
   ]
  },
  {
   "cell_type": "code",
   "execution_count": 5,
   "id": "2da826fd-91c7-469d-85c0-fe154c251731",
   "metadata": {},
   "outputs": [
    {
     "name": "stdout",
     "output_type": "stream",
     "text": [
      "-6.5881170968048375 50.109672237001284 1.4603321575734183 59.10994915877443\n"
     ]
    }
   ],
   "source": [
    "# Get maximum extent\n",
    "minx = gdf.bounds.minx.min()\n",
    "miny = gdf.bounds.miny.min()\n",
    "\n",
    "maxx = gdf.bounds.maxx.max()\n",
    "maxy = gdf.bounds.maxy.max()\n",
    "\n",
    "print(minx,miny,maxx,maxy)"
   ]
  },
  {
   "cell_type": "markdown",
   "id": "8812dc91-2a58-4d96-807d-b8a27e63d453",
   "metadata": {},
   "source": [
    "# Create clonemaps function"
   ]
  },
  {
   "cell_type": "code",
   "execution_count": 7,
   "id": "1f0eaeb4-15bc-4ee5-87f6-c1e383eb11d8",
   "metadata": {},
   "outputs": [],
   "source": [
    "def create_clonemap(basin_id, lonmin,latmin,lonmax,latmax):\n",
    "    global_clonemap = f\"{AUXDATA}/PCR-GLOBWB/global_30sec_clone.map\"\n",
    "    output_clonemap = f\"{MODELS}/{basin_id}/{basin_id}_30sec_clone.map\"\n",
    "    \n",
    "    # Remove existing file\n",
    "    if output_clonemap:\n",
    "        OUTPUT = Path(output_clonemap)\n",
    "        OUTPUT.unlink(output_clonemap)\n",
    "\n",
    "    subprocess.call(\n",
    "        f\"gdal_translate -of PCRaster {global_clonemap} -projwin \"\n",
    "        f\"{lonmin} {latmax} {lonmax} {latmin} {output_clonemap}\",\n",
    "        shell=True,\n",
    "    )\n",
    "\n",
    "    return print(f'finished: {basin_id}')"
   ]
  },
  {
   "cell_type": "code",
   "execution_count": 8,
   "id": "d1a17657-c222-44a0-961e-0115816849af",
   "metadata": {},
   "outputs": [],
   "source": [
    "def create_nc_clone(basin_id, lonmin,latmin,lonmax,latmax):\n",
    "    global_nc_clone = f\"{AUXDATA}/PCR-GLOBWB/global_30sec_clone_correct_lat.nc\"\n",
    "    output_nc_clone = f\"{MODELS}/{basin_id}/{basin_id}_30sec_nc_clone.nc\"\n",
    "    \n",
    "    # Remove existing file\n",
    "    if output_nc_clone:\n",
    "        OUTPUT = Path(output_nc_clone)\n",
    "        OUTPUT.unlink(output_nc_clone)\n",
    "        \n",
    "    subprocess.call(\n",
    "        f\"gdal_translate -of NetCDF {global_nc_clone} -projwin \"\n",
    "        f\"{lonmin} {latmax} {lonmax} {latmin} {output_nc_clone}\",\n",
    "        shell=True,\n",
    "    )\n",
    "    \n",
    "    return print(f'finished: {basin_id}')"
   ]
  },
  {
   "cell_type": "markdown",
   "id": "a25ecb7b-2187-4a28-ac19-070668735207",
   "metadata": {},
   "source": [
    "## UK Clonemap"
   ]
  },
  {
   "cell_type": "code",
   "execution_count": 11,
   "id": "3e2b67b4-894f-4fc6-8a75-dc629bc9406c",
   "metadata": {},
   "outputs": [
    {
     "name": "stdout",
     "output_type": "stream",
     "text": [
      "Input file size is 43200, 21600\n",
      "0...10...20...30...40...50...60...70...80...90...100 - done.\n",
      "finished: uk\n",
      "Input file size is 43200, 21600\n",
      "0...10...20...30...40...50...60...70...80...90...100 - done.\n",
      "finished: uk\n"
     ]
    }
   ],
   "source": [
    "basin_id = 'uk'\n",
    "\n",
    "lonmin = -8.0\n",
    "latmin = 50.0\n",
    "lonmax = 1.5\n",
    "latmax = 59.5\n",
    "\n",
    "create_clonemap(basin_id, lonmin,latmin,lonmax,latmax)\n",
    "create_nc_clone(basin_id, lonmin,latmin,lonmax,latmax)"
   ]
  },
  {
   "cell_type": "code",
   "execution_count": null,
   "id": "5429473b-3d36-4711-b52d-be191424e0c8",
   "metadata": {},
   "outputs": [],
   "source": []
  }
 ],
 "metadata": {
  "kernelspec": {
   "display_name": "Python 3 (ipykernel)",
   "language": "python",
   "name": "python3"
  },
  "language_info": {
   "codemirror_mode": {
    "name": "ipython",
    "version": 3
   },
   "file_extension": ".py",
   "mimetype": "text/x-python",
   "name": "python",
   "nbconvert_exporter": "python",
   "pygments_lexer": "ipython3",
   "version": "3.10.6"
  }
 },
 "nbformat": 4,
 "nbformat_minor": 5
}
