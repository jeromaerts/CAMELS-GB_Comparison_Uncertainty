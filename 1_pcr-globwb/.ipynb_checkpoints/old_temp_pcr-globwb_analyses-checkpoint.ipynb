{
 "cells": [
  {
   "cell_type": "markdown",
   "id": "ec810938-a52d-42a3-b829-301e70cdb79a",
   "metadata": {},
   "source": [
    "# Streamflow analyses PCR-GLOBWB"
   ]
  },
  {
   "cell_type": "code",
   "execution_count": 1,
   "id": "359ee338-9aba-4a61-9bfd-4fc4acdfebc1",
   "metadata": {},
   "outputs": [],
   "source": [
    "import os\n",
    "import hydroeval\n",
    "import xarray as xr\n",
    "import pandas as pd\n",
    "import numpy as np\n",
    "\n",
    "from pathlib import Path\n",
    "from glob import glob"
   ]
  },
  {
   "cell_type": "markdown",
   "id": "4ee5d18e-9e9f-4acf-a45c-3810aac44dfa",
   "metadata": {},
   "source": [
    "# Set Paths"
   ]
  },
  {
   "cell_type": "code",
   "execution_count": 2,
   "id": "644671e1-7a0a-4fb4-80e1-f20d97b45edb",
   "metadata": {},
   "outputs": [],
   "source": [
    "# Set Paths\n",
    "ROOT = Path('/gpfs/work1/0/wtrcycle/users/jaerts/camels_uk/')\n",
    "MODELS = Path(f'{ROOT}/pcr-globwb/')\n",
    "AUXDATA = Path(f'{ROOT}/aux_data/')\n",
    "OBSDIR = Path(f\"{AUXDATA}/CAMELS-GB/data/timeseries/\")\n",
    "OUTPUT = Path(f'{ROOT}/results/pcr-globwb/evaluation/')"
   ]
  },
  {
   "cell_type": "markdown",
   "id": "2668b105-2071-40f1-b5ab-42b89a5a6c62",
   "metadata": {},
   "source": [
    "# UK CloneMap Run\n",
    "## Config"
   ]
  },
  {
   "cell_type": "code",
   "execution_count": 3,
   "id": "f579f059-f76d-45a4-9674-898a8d7de152",
   "metadata": {},
   "outputs": [],
   "source": [
    "# Get available basin IDs\n",
    "basin_dirs = glob(f'{MODELS}/*')\n",
    "basin_ids = [s.split('/')[-1] for s in basin_dirs]\n",
    "basin_ids.remove('uk')\n",
    "basin_ids.sort()\n",
    "\n",
    "# Time period (drop first year)\n",
    "start_date = '2008-01-01'\n",
    "end_date   = '2015-09-30'\n",
    "# Temp REMOVE!!!\n",
    "end_date   = '2013-12-31'"
   ]
  },
  {
   "cell_type": "markdown",
   "id": "bcc9ae4c-6de6-48d0-9d5c-ad93c1456e84",
   "metadata": {},
   "source": [
    "## Retrieve data functions"
   ]
  },
  {
   "cell_type": "code",
   "execution_count": 4,
   "id": "a4534a19-c628-48e0-9c6e-2a7dfafdc590",
   "metadata": {},
   "outputs": [],
   "source": [
    "def get_station_location(basin_id):\n",
    "    # Load location file\n",
    "    location_file = f\"{AUXDATA}/CAMELS-GB/data/CAMELS_GB_topographic_attributes.csv\"\n",
    "    df_loc = pd.read_csv(location_file, index_col='gauge_id')\n",
    "    \n",
    "    # Select basin_ids and retrieve lat lon\n",
    "    df_loc = df_loc.loc[int(basin_id)]\n",
    "    latlon = (df_loc.gauge_lat, df_loc.gauge_lon)\n",
    "\n",
    "    return latlon\n",
    "\n",
    "def get_observations(basin_id, start_date, end_date):\n",
    "    # Set observation file\n",
    "    obs_file = glob(f'{OBSDIR}/*_{basin_id}_*.csv')[0]\n",
    "    \n",
    "    # Load observation dataframe\n",
    "    df_obs = pd.read_csv(obs_file, parse_dates=True, index_col='date')\n",
    "    \n",
    "    # Select calibration period (drop first year)\n",
    "    mask = (df_obs.index > start_date) & (df_obs.index <= end_date)\n",
    "    df_obs = df_obs.loc[mask]\n",
    "    \n",
    "    return df_obs\n",
    "\n",
    "def get_simulations(basin_id, start_date, end_date):\n",
    "    # Load simulation results\n",
    "    sim_file = f\"{MODELS}/uk/netcdf/discharge_dailyTot_output.nc\"\n",
    "    ds_sim = xr.open_dataset(sim_file)\n",
    "\n",
    "    # Get station location\n",
    "    latlon = get_station_location(basin_id)\n",
    "\n",
    "    # Extract station location timeseries\n",
    "    ds_sim = ds_sim.discharge.sel(lat=latlon[0], lon=latlon[1], method='nearest')\n",
    "\n",
    "    # Convert to dataframe\n",
    "    df_sim = ds_sim.to_dataframe()\n",
    "\n",
    "    # Select calibration period (drop first year)\n",
    "    mask = (df_sim.index > start_date) & (df_sim.index <= end_date)\n",
    "    df_sim = df_sim.loc[mask]\n",
    "\n",
    "    # Rename column\n",
    "    df_sim = df_sim.drop(columns=['lat','lon'])\n",
    "    df_sim = df_sim.rename(columns={'discharge': f'sim'})\n",
    "\n",
    "    return df_sim"
   ]
  },
  {
   "cell_type": "markdown",
   "id": "e433e600-53f0-4839-be2b-94ce6f7b876b",
   "metadata": {},
   "source": [
    "# Adjust station location to river network"
   ]
  },
  {
   "cell_type": "code",
   "execution_count": 5,
   "id": "781d8329-470c-4a6b-ac68-77cf4e868ae5",
   "metadata": {},
   "outputs": [],
   "source": [
    "def get_adjusted_station_location_simulations(basin_id, start_date, end_date):\n",
    "\n",
    "     # Get station_location\n",
    "    station_lat, station_lon = get_station_location(basin_id)\n",
    "\n",
    "    # Create 4 pixel buffer\n",
    "    buffer = 0.0083333\n",
    "    min_lat = station_lat-buffer\n",
    "    max_lat = station_lat+buffer\n",
    "    min_lon = station_lon-buffer\n",
    "    max_lon = station_lon+buffer\n",
    "\n",
    "    # Load simulation file\n",
    "    sim_file = f\"{MODELS}/uk/netcdf/discharge_dailyTot_output.nc\"\n",
    "    ds = xr.open_dataset(sim_file)\n",
    "    da = ds.sel(lat=slice(max_lat,min_lat), lon=slice(min_lon,max_lon)).discharge\n",
    "\n",
    "    # Load observation file\n",
    "    df_obs = get_observations(basin_id, start_date, end_date)\n",
    "\n",
    "    da = abs(da - df_obs.discharge_vol.mean())\n",
    "    da_max = da.where(da==da.min(), drop=True).squeeze()\n",
    "\n",
    "    # Select pixel with highest discharge value\n",
    "    df_sim = ds.discharge.sel(lat=da_max.lat.values, lon=da_max.lon.values).to_dataframe()\n",
    "\n",
    "    # Select calibration period (drop first year)\n",
    "    mask = (df_sim.index > start_date) & (df_sim.index <= end_date)\n",
    "    df_sim = df_sim.loc[mask]\n",
    "\n",
    "    # Rename column\n",
    "    df_sim = df_sim.drop(columns=['lat','lon'])\n",
    "    df_sim = df_sim.rename(columns={'discharge': f'sim'})\n",
    "    \n",
    "    return df_sim"
   ]
  },
  {
   "cell_type": "markdown",
   "id": "bac23101-a2bb-4c83-89ba-87154eabfa2f",
   "metadata": {},
   "source": [
    "## Calculate objective functions"
   ]
  },
  {
   "cell_type": "code",
   "execution_count": 6,
   "id": "df253e79-497a-4475-9608-ead2e5c98962",
   "metadata": {},
   "outputs": [],
   "source": [
    "def calculate_objective_functions(basin_id, df_sim, df_obs):\n",
    "    \n",
    "    # Create empty dataframe and lists\n",
    "    df = pd.DataFrame()\n",
    "\n",
    "    # Calculate objective functions and round\n",
    "    nse = hydroeval.evaluator(hydroeval.nse, df_sim[f'sim'], df_obs.discharge_vol, axis=1)\n",
    "    nse = np.round(nse[0], 4)\n",
    "\n",
    "    kge_2009 = hydroeval.evaluator(hydroeval.kge, df_sim[f'sim'], df_obs.discharge_vol, axis=1)\n",
    "    kge_2009 = np.round(kge_2009[0][0], 4)\n",
    "\n",
    "    kge_2012 = hydroeval.evaluator(hydroeval.kgeprime, df_sim[f'sim'], df_obs.discharge_vol, axis=1)\n",
    "    kge_2012 = np.round(kge_2012[0][0], 4)\n",
    "\n",
    "    kge_np = hydroeval.evaluator(hydroeval.kgenp, df_sim[f'sim'], df_obs.discharge_vol, axis=1)\n",
    "    kge_np_value = np.round(kge_np[0][0], 4)\n",
    "    kge_np_r = np.round(kge_np[0][1], 4)\n",
    "    kge_np_alpha = np.round(kge_np[0][2], 4)\n",
    "    kge_np_beta = np.round(kge_np[0][3], 4)\n",
    "    \n",
    "    df['basin_id'] = [basin_id]\n",
    "    df['nse']      = [nse]\n",
    "    df['kge_2009'] = [kge_2009]\n",
    "    df['kge_2012'] = [kge_2012]\n",
    "    df['kge_np']   = [kge_np_value]\n",
    "\n",
    "    df['kge_np_r'] = [kge_np_r]\n",
    "    df['kge_np_alpha'] = [kge_np_alpha]\n",
    "    df['kge_np_beta'] = [kge_np_beta]\n",
    "    print(df)\n",
    "    return df"
   ]
  },
  {
   "cell_type": "markdown",
   "id": "7da42b65-b82d-4cda-b76c-39cfbe9b77dd",
   "metadata": {},
   "source": [
    "# Streamflow Analyses"
   ]
  },
  {
   "cell_type": "code",
   "execution_count": null,
   "id": "43ed8451-415d-49ac-a6f5-e6647f0d9510",
   "metadata": {
    "tags": []
   },
   "outputs": [
    {
     "name": "stdout",
     "output_type": "stream",
     "text": [
      "10003\n",
      "  basin_id     nse  kge_2009  kge_2012  kge_np  kge_np_r  kge_np_alpha  \\\n",
      "0    10003  0.3215    0.3408    0.2974  0.6442    0.6976        0.8615   \n",
      "\n",
      "   kge_np_beta  \n",
      "0       1.1263  \n",
      "1001\n",
      "  basin_id     nse  kge_2009  kge_2012  kge_np  kge_np_r  kge_np_alpha  \\\n",
      "0     1001  0.1366    0.0951     0.074   0.453    0.5368        0.7235   \n",
      "\n",
      "   kge_np_beta  \n",
      "0       1.0906  \n",
      "101002\n",
      "  basin_id     nse  kge_2009  kge_2012  kge_np  kge_np_r  kge_np_alpha  \\\n",
      "0   101002  0.1639    0.3389    0.3294  0.6368    0.6636        0.8659   \n",
      "\n",
      "   kge_np_beta  \n",
      "0       1.0277  \n",
      "101005\n",
      "  basin_id     nse  kge_2009  kge_2012  kge_np  kge_np_r  kge_np_alpha  \\\n",
      "0   101005 -2.2368    -1.013   -1.0655 -0.9397    0.6318        0.8037   \n",
      "\n",
      "   kge_np_beta  \n",
      "0       2.8943  \n",
      "102001\n",
      "  basin_id     nse  kge_2009  kge_2012  kge_np  kge_np_r  kge_np_alpha  \\\n",
      "0   102001 -0.2201   -0.3869   -0.1699  0.0437    0.6539        0.7382   \n",
      "\n",
      "   kge_np_beta  \n",
      "0       0.1478  \n",
      "106001\n",
      "  basin_id     nse  kge_2009  kge_2012  kge_np  kge_np_r  kge_np_alpha  \\\n",
      "0   106001 -0.0752   -0.2073   -0.2053  0.0598    0.1031         0.718   \n",
      "\n",
      "   kge_np_beta  \n",
      "0       0.9887  \n",
      "107001\n",
      "  basin_id     nse  kge_2009  kge_2012  kge_np  kge_np_r  kge_np_alpha  \\\n",
      "0   107001 -0.3865   -0.1459   -0.2499  -0.013    0.3195        0.6951   \n",
      "\n",
      "   kge_np_beta  \n",
      "0       1.6857  \n",
      "11001\n",
      "  basin_id     nse  kge_2009  kge_2012  kge_np  kge_np_r  kge_np_alpha  \\\n",
      "0    11001  0.2883    0.2667    0.2797  0.6262     0.653        0.8663   \n",
      "\n",
      "   kge_np_beta  \n",
      "0       0.9623  \n",
      "11003\n",
      "  basin_id     nse  kge_2009  kge_2012  kge_np  kge_np_r  kge_np_alpha  \\\n",
      "0    11003 -1.3809   -0.5166   -0.2054 -0.0761    0.6105        0.8995   \n",
      "\n",
      "   kge_np_beta  \n",
      "0       0.0018  \n",
      "11004\n",
      "  basin_id     nse  kge_2009  kge_2012  kge_np  kge_np_r  kge_np_alpha  \\\n",
      "0    11004  0.3594    0.3531    0.3764    0.64    0.6635        0.8859   \n",
      "\n",
      "   kge_np_beta  \n",
      "0       0.9423  \n",
      "12001\n",
      "  basin_id     nse  kge_2009  kge_2012  kge_np  kge_np_r  kge_np_alpha  \\\n",
      "0    12001  0.1096    0.0271    0.0164  0.4386     0.484        0.7853   \n",
      "\n",
      "   kge_np_beta  \n",
      "0       1.0529  \n",
      "12002\n",
      "  basin_id     nse  kge_2009  kge_2012  kge_np  kge_np_r  kge_np_alpha  \\\n",
      "0    12002 -1.1585   -0.5505   -0.2211 -0.1264    0.4861        0.9255   \n",
      "\n",
      "   kge_np_beta  \n",
      "0       0.0005  \n",
      "12005\n",
      "  basin_id     nse  kge_2009  kge_2012  kge_np  kge_np_r  kge_np_alpha  \\\n",
      "0    12005 -0.9828   -0.6105   -0.4199  -0.222    0.3197        0.7848   \n",
      "\n",
      "   kge_np_beta  \n",
      "0        0.008  \n",
      "12006\n",
      "  basin_id     nse  kge_2009  kge_2012  kge_np  kge_np_r  kge_np_alpha  \\\n",
      "0    12006 -40.331   -5.3297   -5.3266  -5.272    0.3193         0.781   \n",
      "\n",
      "   kge_np_beta  \n",
      "0       7.2311  \n",
      "12007\n",
      "  basin_id     nse  kge_2009  kge_2012  kge_np  kge_np_r  kge_np_alpha  \\\n",
      "0    12007  0.0633   -0.0812   -0.0642  0.2674    0.3254        0.7338   \n",
      "\n",
      "   kge_np_beta  \n",
      "0       0.8964  \n",
      "12008\n",
      "  basin_id     nse  kge_2009  kge_2012  kge_np  kge_np_r  kge_np_alpha  \\\n",
      "0    12008 -0.4573   -0.5622   -0.2996 -0.0882    0.5889        0.8454   \n",
      "\n",
      "   kge_np_beta  \n",
      "0       0.0044  \n",
      "12009\n",
      "  basin_id     nse  kge_2009  kge_2012  kge_np  kge_np_r  kge_np_alpha  \\\n",
      "0    12009  0.1178    0.0375    -0.038   0.269    0.5173        0.6767   \n",
      "\n",
      "   kge_np_beta  \n",
      "0       1.4437  \n",
      "13001\n",
      "  basin_id     nse  kge_2009  kge_2012  kge_np  kge_np_r  kge_np_alpha  \\\n",
      "0    13001 -0.6771   -0.5983   -0.3557 -0.1394    0.4738        0.8482   \n",
      "\n",
      "   kge_np_beta  \n",
      "0       0.0008  \n",
      "13004\n",
      "  basin_id     nse  kge_2009  kge_2012  kge_np  kge_np_r  kge_np_alpha  \\\n",
      "0    13004 -0.0387    0.0801   -0.0402  0.2203    0.6057        0.7702   \n",
      "\n",
      "   kge_np_beta  \n",
      "0       1.6322  \n",
      "13005\n",
      "  basin_id     nse  kge_2009  kge_2012  kge_np  kge_np_r  kge_np_alpha  \\\n",
      "0    13005 -0.3596    0.1176    0.0172  0.3027    0.7475        0.8165   \n",
      "\n",
      "   kge_np_beta  \n",
      "0       1.6235  \n",
      "13007\n",
      "  basin_id     nse  kge_2009  kge_2012  kge_np  kge_np_r  kge_np_alpha  \\\n",
      "0    13007 -0.6339   -0.6842   -0.3593  -0.179     0.378        0.9409   \n",
      "\n",
      "   kge_np_beta  \n",
      "0       0.0001  \n",
      "13008\n",
      "  basin_id     nse  kge_2009  kge_2012  kge_np  kge_np_r  kge_np_alpha  \\\n",
      "0    13008 -0.9535   -0.5427   -0.2457 -0.0878    0.5914        0.8539   \n",
      "\n",
      "   kge_np_beta  \n",
      "0       0.0026  \n",
      "14001\n",
      "  basin_id     nse  kge_2009  kge_2012  kge_np  kge_np_r  kge_np_alpha  \\\n",
      "0    14001  0.2205    0.3384    0.2404  0.5839    0.7962         0.842   \n",
      "\n",
      "   kge_np_beta  \n",
      "0       1.3265  \n",
      "14002\n",
      "  basin_id     nse  kge_2009  kge_2012  kge_np  kge_np_r  kge_np_alpha  \\\n",
      "0    14002 -0.6754   -0.5587   -0.2476 -0.0479    0.5621         0.892   \n",
      "\n",
      "   kge_np_beta  \n",
      "0       0.0541  \n",
      "14005\n",
      "  basin_id     nse  kge_2009  kge_2012  kge_np  kge_np_r  kge_np_alpha  \\\n",
      "0    14005  0.1016    0.1991    0.1111  0.5222    0.7392        0.8053   \n",
      "\n",
      "   kge_np_beta  \n",
      "0       1.3498  \n",
      "15006\n",
      "  basin_id     nse  kge_2009  kge_2012  kge_np  kge_np_r  kge_np_alpha  \\\n",
      "0    15006  0.3661    0.3224    0.3568  0.6569    0.7071        0.8443   \n",
      "\n",
      "   kge_np_beta  \n",
      "0       0.9121  \n",
      "15007\n",
      "  basin_id     nse  kge_2009  kge_2012  kge_np  kge_np_r  kge_np_alpha  \\\n",
      "0    15007  0.4396    0.4129    0.4188  0.6688    0.7041        0.8518   \n",
      "\n",
      "   kge_np_beta  \n",
      "0       0.9863  \n",
      "15010\n",
      "  basin_id     nse  kge_2009  kge_2012  kge_np  kge_np_r  kge_np_alpha  \\\n",
      "0    15010  0.2601    0.2148    0.1854  0.6048    0.6937        0.7755   \n",
      "\n",
      "   kge_np_beta  \n",
      "0       1.1094  \n",
      "15011\n",
      "  basin_id     nse  kge_2009  kge_2012  kge_np  kge_np_r  kge_np_alpha  \\\n",
      "0    15011 -0.0448    0.1007   -0.0003  0.2393    0.4506        0.7851   \n",
      "\n",
      "   kge_np_beta  \n",
      "0       1.4802  \n",
      "15012\n",
      "  basin_id     nse  kge_2009  kge_2012  kge_np  kge_np_r  kge_np_alpha  \\\n",
      "0    15012 -1.3691   -0.5711   -0.3268 -0.1648    0.4259        0.8245   \n",
      "\n",
      "   kge_np_beta  \n",
      "0       0.0018  \n",
      "15013\n",
      "  basin_id     nse  kge_2009  kge_2012  kge_np  kge_np_r  kge_np_alpha  \\\n",
      "0    15013 -0.5654   -0.6189   -0.3551 -0.1604    0.4335        0.8362   \n",
      "\n",
      "   kge_np_beta  \n",
      "0       0.0006  \n",
      "15014\n",
      "  basin_id     nse  kge_2009  kge_2012  kge_np  kge_np_r  kge_np_alpha  \\\n",
      "0    15014 -0.6156   -0.5441   -0.1846 -0.1182    0.5107        0.8776   \n",
      "\n",
      "   kge_np_beta  \n",
      "0        0.002  \n",
      "15016\n",
      "  basin_id     nse  kge_2009  kge_2012  kge_np  kge_np_r  kge_np_alpha  \\\n",
      "0    15016 -1.7751   -0.5886    -0.264 -0.2671    0.2257        0.9199   \n",
      "\n",
      "   kge_np_beta  \n",
      "0       0.0002  \n",
      "15021\n"
     ]
    }
   ],
   "source": [
    "for i, basin_id in enumerate(basin_ids):\n",
    "    print(i, end='\\r')\n",
    "    print(basin_id)\n",
    "    df_sim = get_simulations(basin_id, start_date, end_date)\n",
    "    df_obs = get_observations(basin_id, start_date, end_date)\n",
    "\n",
    "    df_objective = calculate_objective_functions(basin_id, df_sim, df_obs)\n",
    "    \n",
    "    df_sim.to_csv(f'{OUTPUT}/{basin_id}_calibration_simulations.csv')\n",
    "    df_objective.to_csv(f'{OUTPUT}/{basin_id}_calibration_objective_functions.csv', index=False)"
   ]
  },
  {
   "cell_type": "markdown",
   "id": "e3ca524b-291b-4c15-bc98-57e78f5dbd3a",
   "metadata": {},
   "source": [
    "# Create overview dataframe"
   ]
  },
  {
   "cell_type": "code",
   "execution_count": null,
   "id": "e11a870e-d3b6-4662-a4ec-63ca6e7935b0",
   "metadata": {},
   "outputs": [],
   "source": []
  },
  {
   "cell_type": "code",
   "execution_count": null,
   "id": "11c8a1bc-c379-4b6d-9284-856dade0f33a",
   "metadata": {},
   "outputs": [],
   "source": []
  },
  {
   "cell_type": "code",
   "execution_count": null,
   "id": "9b5ea356-cc42-441b-8a77-cfbf3e159976",
   "metadata": {},
   "outputs": [],
   "source": []
  },
  {
   "cell_type": "code",
   "execution_count": null,
   "id": "28b79fb1-5339-42b3-93e7-c0366f47098d",
   "metadata": {},
   "outputs": [],
   "source": []
  },
  {
   "cell_type": "code",
   "execution_count": null,
   "id": "7c5f2e02-ddca-45c8-a8c2-09201182412b",
   "metadata": {},
   "outputs": [],
   "source": []
  },
  {
   "cell_type": "markdown",
   "id": "4f76e4b8-fd46-41a7-b44a-b9cf45865313",
   "metadata": {},
   "source": [
    "# Streamflow analyses with adjusted station location\n"
   ]
  },
  {
   "cell_type": "code",
   "execution_count": null,
   "id": "a3c344ac-b177-4123-ae20-03eb6d251f7a",
   "metadata": {
    "tags": []
   },
   "outputs": [],
   "source": [
    "for i, basin_id in enumerate(basin_ids):\n",
    "    print(i, end='\\r')\n",
    "    print(basin_id)\n",
    "    df_sim = get_adjusted_station_location_simulations(basin_id, start_date, end_date)\n",
    "    df_obs = get_observations(basin_id, start_date, end_date)\n",
    "\n",
    "    df_objective = calculate_objective_functions(basin_id, df_sim, df_obs)\n",
    "    \n",
    "    df_sim.to_csv(f'{OUTPUT}/{basin_id}_evaluation_simulations_adjusted_location_4px.csv')\n",
    "    df_objective.to_csv(f'{OUTPUT}/{basin_id}_evaluation_objective_functions_adjusted_location_4px.csv', index=False)"
   ]
  },
  {
   "cell_type": "code",
   "execution_count": null,
   "id": "7dd7924c-27b0-4bbf-944f-d0c0a31b4b90",
   "metadata": {},
   "outputs": [],
   "source": []
  },
  {
   "cell_type": "code",
   "execution_count": null,
   "id": "b4204578-95b4-4b42-9a50-6146f00c45cb",
   "metadata": {},
   "outputs": [],
   "source": []
  },
  {
   "cell_type": "code",
   "execution_count": null,
   "id": "f8a63132-7669-4a06-ac06-de00448bdde4",
   "metadata": {},
   "outputs": [],
   "source": []
  },
  {
   "cell_type": "code",
   "execution_count": null,
   "id": "1d313402-75e0-4838-9679-df748a438ecb",
   "metadata": {},
   "outputs": [],
   "source": []
  },
  {
   "cell_type": "code",
   "execution_count": null,
   "id": "9b643054-79d6-4829-bfbc-fb2f2323d394",
   "metadata": {},
   "outputs": [],
   "source": []
  },
  {
   "cell_type": "code",
   "execution_count": null,
   "id": "a1f96111-e490-433e-8876-4d89737be91e",
   "metadata": {},
   "outputs": [],
   "source": []
  },
  {
   "cell_type": "code",
   "execution_count": null,
   "id": "014b2483-fa71-4fd9-97fb-79d0da468a53",
   "metadata": {},
   "outputs": [],
   "source": []
  },
  {
   "cell_type": "code",
   "execution_count": null,
   "id": "8ab7c6b7-5297-4f7a-a516-26dc5fb75e0b",
   "metadata": {},
   "outputs": [],
   "source": [
    "basin_id = basin_ids[0]\n",
    "\n",
    "sim_file = f\"{MODELS}/uk/netcdf/discharge_dailyTot_output.nc\"\n",
    "ds_sim = xr.open_dataset(sim_file)\n",
    "\n",
    "# Get station location\n",
    "latlon = get_station_location(basin_id)\n",
    "\n",
    "# Extract station location timeseries\n",
    "ds_sim2 = ds_sim.discharge.sel(lat=latlon[0], lon=latlon[1], method='nearest')"
   ]
  },
  {
   "cell_type": "code",
   "execution_count": null,
   "id": "a6da09a7-0fee-4059-8da2-e6bcd2ff2321",
   "metadata": {},
   "outputs": [],
   "source": [
    "ds_sim2.plot()"
   ]
  },
  {
   "cell_type": "code",
   "execution_count": null,
   "id": "c02d1db6-528f-4ba8-8996-812697e029bf",
   "metadata": {},
   "outputs": [],
   "source": [
    "df_obs = get_observations(basin_id, start_date, end_date)"
   ]
  },
  {
   "cell_type": "code",
   "execution_count": null,
   "id": "ed25d22c-d1cb-424d-83fd-9703090fbf86",
   "metadata": {
    "tags": []
   },
   "outputs": [],
   "source": [
    "df_obs"
   ]
  },
  {
   "cell_type": "code",
   "execution_count": null,
   "id": "49416780-47b0-4737-9249-aae6f8114af6",
   "metadata": {},
   "outputs": [],
   "source": [
    "df = ds_sim2.to_dataframe()"
   ]
  },
  {
   "cell_type": "code",
   "execution_count": null,
   "id": "fc640f2d-5949-44b3-9139-e0cab00bcbbd",
   "metadata": {},
   "outputs": [],
   "source": [
    "df = df.join(df_obs)"
   ]
  },
  {
   "cell_type": "code",
   "execution_count": null,
   "id": "a0295c97-ab94-435f-89ae-920c2d271518",
   "metadata": {},
   "outputs": [],
   "source": [
    "df.discharge.plot()\n",
    "df.discharge_vol.plot()"
   ]
  },
  {
   "cell_type": "code",
   "execution_count": null,
   "id": "886dbe50-c28f-4656-ad87-bf70ac0b0488",
   "metadata": {},
   "outputs": [],
   "source": [
    "df"
   ]
  },
  {
   "cell_type": "code",
   "execution_count": null,
   "id": "22eda142-d6f1-443e-854e-51340a18f8a0",
   "metadata": {},
   "outputs": [],
   "source": []
  },
  {
   "cell_type": "code",
   "execution_count": null,
   "id": "d31aa6c3-d2f4-4721-ab93-aba570030e1a",
   "metadata": {},
   "outputs": [],
   "source": [
    "min_lon = -2.25 \n",
    "min_lat = 57.2 \n",
    "max_lon =  -2.75\n",
    "max_lat = 57.4 \n",
    "\n",
    "cropped_ds = ds_sim.sel(lat=slice(min_lat,max_lat), lon=slice(min_lon,max_lon))"
   ]
  },
  {
   "cell_type": "code",
   "execution_count": null,
   "id": "ea341cdf-a36b-4306-a87f-a20527379d96",
   "metadata": {},
   "outputs": [],
   "source": [
    "ds_sim.discharge.isel(time=1500).plot()"
   ]
  },
  {
   "cell_type": "code",
   "execution_count": null,
   "id": "5b2362f7-a625-4cd4-99e9-698f4b3da908",
   "metadata": {},
   "outputs": [],
   "source": [
    "sim_file = f\"{MODELS}/uk/netcdf/discharge_dailyTot_output.nc\""
   ]
  },
  {
   "cell_type": "code",
   "execution_count": null,
   "id": "4007f962-197d-474c-a278-938354867c01",
   "metadata": {},
   "outputs": [],
   "source": [
    "# Create empty dataframe and lists\n",
    "df = pd.DataFrame()\n",
    "\n",
    "# Calculate objective functions and round\n",
    "nse = hydroeval.evaluator(hydroeval.nse, df_sim[f'sim'], df_obs.discharge_vol, axis=1)\n",
    "nse = np.round(nse[0], 4)\n",
    "\n",
    "kge_2009 = hydroeval.evaluator(hydroeval.kge, df_sim[f'sim'], df_obs.discharge_vol, axis=1)\n",
    "kge_2009 = np.round(kge_2009[0][0], 4)\n",
    "\n",
    "kge_2012 = hydroeval.evaluator(hydroeval.kgeprime, df_sim[f'sim'], df_obs.discharge_vol, axis=1)\n",
    "kge_2012 = np.round(kge_2012[0][0], 4)\n",
    "\n",
    "kge_np = hydroeval.evaluator(hydroeval.kgenp, df_sim[f'sim'], df_obs.discharge_vol, axis=1)\n",
    "kge_np_value = np.round(kge_np[0][0], 4)\n",
    "kge_np_r = np.round(kge_np[0][1], 4)\n",
    "kge_np_alpha = np.round(kge_np[0][2], 4)\n",
    "kge_np_beta = np.round(kge_np[0][3], 4)\n",
    "\n",
    "df['basin_id'] = [basin_id]\n",
    "df['nse']      = [nse]\n",
    "df['kge_2009'] = [kge_2009]\n",
    "df['kge_2012'] = [kge_2012]\n",
    "df['kge_np']   = [kge_np_value]\n",
    "\n",
    "df['kge_np_r'] = [kge_np_r]\n",
    "df['kge_np_alpha'] = [kge_np_alpha]\n",
    "df['kge_np_beta'] = [kge_np_beta]"
   ]
  },
  {
   "cell_type": "code",
   "execution_count": null,
   "id": "0efbb149-f585-46f6-9aaa-97f50f78d22f",
   "metadata": {},
   "outputs": [],
   "source": [
    "df_sim = get_simulations(basin_id, start_date, end_date)\n",
    "df_obs = get_observations(basin_id, start_date, end_date)\n",
    "\n",
    "df_objective = calculate_objective_functions(basin_id, df_sim, df_obs)\n",
    "\n",
    "df_sim.to_csv(f'{OUTPUT}/{basin_id}_calibration_simulations.csv')\n",
    "df_objective.to_csv(f'{OUTPUT}/{basin_id}_calibration_objective_functions.csv', index=False)"
   ]
  },
  {
   "cell_type": "code",
   "execution_count": null,
   "id": "a3a0bcff-654e-4d44-b8ee-51f030c4f069",
   "metadata": {},
   "outputs": [],
   "source": [
    "df_objective"
   ]
  },
  {
   "cell_type": "markdown",
   "id": "0ca44143-04d5-4da4-93ac-4cc0777cf041",
   "metadata": {},
   "source": [
    "## Calculate objective functions"
   ]
  },
  {
   "cell_type": "code",
   "execution_count": null,
   "id": "43f5fde3-5551-4866-9a4f-24a24c7ae040",
   "metadata": {
    "tags": []
   },
   "outputs": [],
   "source": [
    "for i, basin_id in enumerate(basin_ids):\n",
    "    print(i, end='\\r')\n",
    "    df_sim = get_simulations(basin_id, start_date, end_date)\n",
    "    df_obs = get_observations(basin_id, start_date, end_date)\n",
    "\n",
    "    df_objective = calculate_objective_functions(basin_id, df_sim, df_obs)\n",
    "    \n",
    "    df_sim.to_csv(f'{OUTPUT}/{basin_id}_calibration_simulations.csv')\n",
    "    df_objective.to_csv(f'{OUTPUT}/{basin_id}_calibration_objective_functions.csv', index=False)"
   ]
  },
  {
   "cell_type": "markdown",
   "id": "1c270d23-4fb0-4281-a434-ad9f8139a061",
   "metadata": {},
   "source": [
    "# Create overview dataframe"
   ]
  },
  {
   "cell_type": "code",
   "execution_count": null,
   "id": "6ab28e21-7bd1-4f3a-8c7f-2c63080ea792",
   "metadata": {},
   "outputs": [],
   "source": [
    "# Load results and create overview dataframe\n",
    "result_files = glob(f\"{OUTPUT}/*_calibration_objective_functions.csv\")\n",
    "\n",
    "# Create empty dataframe and lists\n",
    "df_out = pd.DataFrame()\n",
    "basin_ids = []\n",
    "ls_kge_np = []\n",
    "ls_kge_np_r = []\n",
    "ls_kge_np_alpha = []\n",
    "ls_kge_np_beta = []\n",
    "ls_kge_2009 = []\n",
    "ls_kge_2012 = []\n",
    "ls_nse = []\n",
    "\n",
    "for file in result_files:\n",
    "    # Read results\n",
    "    df = pd.read_csv(file)\n",
    "    \n",
    "    # Select first row\n",
    "    df = df.loc[0]\n",
    "    \n",
    "#     # Append results\n",
    "#     basin_ids.append(int(df['basin_id']))\n",
    "#     ls_kge_np.append(df['kge_np'])\n",
    "#     ls_kge_np_r.append(df['kge_np_r'])\n",
    "#     ls_kge_np_alpha.append(df['kge_np_alpha'])\n",
    "#     ls_kge_np_beta.append(df['kge_np_beta'])\n",
    "#     ls_kge_2009.append(df['kge_2009'])\n",
    "#     ls_kge_2012.append(df['kge_2012'])\n",
    "#     ls_nse.append(df['nse'])\n",
    "\n",
    "# # Create output dataframe\n",
    "# df_out['basin_id'] = basin_ids    \n",
    "# df_out['kge_np'] = ls_kge_np    \n",
    "# df_out['kge_np_r'] = ls_kge_np_r    \n",
    "# df_out['kge_np_alpha'] = ls_kge_np_alpha    \n",
    "# df_out['kge_np_beta'] = ls_kge_np_beta    \n",
    "# df_out['kge_2009'] = ls_kge_2009    \n",
    "# df_out['kge_2012'] = ls_kge_2012    \n",
    "# df_out['nse'] = ls_nse \n",
    "\n",
    "# # Write output\n",
    "# df_out.to_csv(f'{ROOT}/results/pcr-globwb/evaluation_overview_wflow.csv')"
   ]
  },
  {
   "cell_type": "code",
   "execution_count": null,
   "id": "5570e28f-942f-457c-86ad-20407f95404b",
   "metadata": {},
   "outputs": [],
   "source": [
    "df"
   ]
  },
  {
   "cell_type": "code",
   "execution_count": null,
   "id": "1104eb3c-d780-4692-8c30-1b8b11b2dcd4",
   "metadata": {},
   "outputs": [],
   "source": []
  },
  {
   "cell_type": "code",
   "execution_count": null,
   "id": "a16f9e57-cf0e-4d50-be4a-715c66a06b01",
   "metadata": {},
   "outputs": [],
   "source": []
  },
  {
   "cell_type": "code",
   "execution_count": null,
   "id": "ff1a802d-195e-4fc7-861c-e6fb06d7b18f",
   "metadata": {},
   "outputs": [],
   "source": []
  },
  {
   "cell_type": "code",
   "execution_count": null,
   "id": "d84b0aa1-383b-4566-a4da-33a0fbe6d8a4",
   "metadata": {},
   "outputs": [],
   "source": []
  },
  {
   "cell_type": "code",
   "execution_count": null,
   "id": "7b53b169-9980-4411-bb93-7ea6fa868bc6",
   "metadata": {},
   "outputs": [],
   "source": []
  },
  {
   "cell_type": "code",
   "execution_count": null,
   "id": "57f160e6-d6eb-4d5a-a0ab-a32eaa62d283",
   "metadata": {},
   "outputs": [],
   "source": []
  },
  {
   "cell_type": "code",
   "execution_count": null,
   "id": "d5ac8136-d5ad-4a00-bd79-9491f9b4720c",
   "metadata": {},
   "outputs": [],
   "source": []
  },
  {
   "cell_type": "code",
   "execution_count": null,
   "id": "67db3e1e-0524-4eaa-8402-32af2ac508a5",
   "metadata": {},
   "outputs": [],
   "source": []
  },
  {
   "cell_type": "markdown",
   "id": "c91912b9-2d73-4a57-b8e4-c59dfdfd20b2",
   "metadata": {},
   "source": [
    "# individual basin sim file analyses"
   ]
  },
  {
   "cell_type": "markdown",
   "id": "39d9ebaa-301f-4b32-98c4-0d7f90a54229",
   "metadata": {},
   "source": [
    "# Check if output exists"
   ]
  },
  {
   "cell_type": "code",
   "execution_count": null,
   "id": "ed510301-c433-48e9-a81d-3a374bc4b7e3",
   "metadata": {},
   "outputs": [],
   "source": [
    "basin_exists = []\n",
    "\n",
    "for basin_id in basin_ids:\n",
    "    sim_file = Path(f'{MODELS}/{basin_id}/netcdf/discharge_dailyTot_output.nc')\n",
    "    if sim_file.is_file() is True and os.path.getsize(sim_file) > 10000:\n",
    "        basin_exists.append(basin_id)"
   ]
  },
  {
   "cell_type": "code",
   "execution_count": null,
   "id": "ebe675b9-ecd1-40bd-aaa2-b3bc5d0656a8",
   "metadata": {},
   "outputs": [],
   "source": [
    "basin_exists"
   ]
  },
  {
   "cell_type": "markdown",
   "id": "03b0f552-40ba-46a7-8617-b5d4eefd6e7c",
   "metadata": {},
   "source": [
    "# Retrieve data functions"
   ]
  },
  {
   "cell_type": "code",
   "execution_count": null,
   "id": "5e8f7919-f168-466f-8318-b3df7ee0a183",
   "metadata": {
    "tags": []
   },
   "outputs": [],
   "source": [
    "def get_station_location(basin_id):\n",
    "    # Load location file\n",
    "    location_file = f\"{AUXDATA}/CAMELS-GB/data/CAMELS_GB_topographic_attributes.csv\"\n",
    "    df_loc = pd.read_csv(location_file, index_col='gauge_id')\n",
    "    \n",
    "    # Select basin_ids and retrieve lat lon\n",
    "    df_loc = df_loc.loc[int(basin_id)]\n",
    "    latlon = (df_loc.gauge_lat, df_loc.gauge_lon)\n",
    "\n",
    "    return latlon\n",
    "\n",
    "def get_observations(basin_id, start_date, end_date):\n",
    "    # Set observation file\n",
    "    obs_file = glob(f'{OBSDIR}/*_{basin_id}_*.csv')[0]\n",
    "    \n",
    "    # Load observation dataframe\n",
    "    df_obs = pd.read_csv(obs_file, parse_dates=True, index_col='date')\n",
    "    \n",
    "    # Select calibration period (drop first year)\n",
    "    mask = (df_obs.index > start_date) & (df_obs.index <= end_date)\n",
    "    df_obs = df_obs.loc[mask]\n",
    "    \n",
    "    return df_obs\n",
    "\n",
    "def get_simulations(basin_id, calibration_values, start_date, end_date):\n",
    "    dataframes = []\n",
    "\n",
    "    for calibration_value in calibration_values:\n",
    "        # Set simulation file\n",
    "        sim_file = glob(f'{MODELS}/{basin_id}/ksathorfrac_{calibration_value}/output.csv')[0]\n",
    "\n",
    "        # Load simulation dataframe\n",
    "        df = pd.read_csv(sim_file, parse_dates=True, index_col='time')\n",
    "\n",
    "        # Select calibration period (drop first year)\n",
    "        mask = (df.index > start_date) & (df.index <= end_date)\n",
    "        df = df.loc[mask]\n",
    "        \n",
    "        # Rename column\n",
    "        df = df.rename(columns={'Q_1': f'ksathorfrac_{calibration_value}'})\n",
    "        \n",
    "        # Append to list\n",
    "        dataframes.append(df)\n",
    "\n",
    "    # Concat simulation dataframes\n",
    "    df_sim = pd.concat(dataframes,  axis=1, ignore_index=False)\n",
    "    \n",
    "    return df_sim\n",
    "\n",
    "def calculate_objective_functions(basin_id, df_sim, df_obs, calibration_values):\n",
    "    \n",
    "    # Create empty dataframe and lists\n",
    "    df = pd.DataFrame()\n",
    "    basin_ids = []\n",
    "    ksathorfracs = []\n",
    "    nse_values = []\n",
    "    kge_2009_values = []\n",
    "    kge_2012_values = []\n",
    "    kge_np_values = []\n",
    "    kge_np_r_values = []\n",
    "    kge_np_alpha_values = []\n",
    "    kge_np_beta_values = []\n",
    "\n",
    "    # Calculate objective functions for each parameter value\n",
    "    for calibration_value in calibration_values:\n",
    "        basin_ids.append(basin_id)\n",
    "        ksathorfracs.append(calibration_value)\n",
    "\n",
    "        # Calculate objective functions and round\n",
    "        nse = hydroeval.evaluator(hydroeval.nse, df_sim[f'ksathorfrac_{calibration_value}'], df_obs.discharge_vol, axis=1)\n",
    "        nse_values.append(np.round(nse[0], 4))\n",
    "\n",
    "        kge_2009 = hydroeval.evaluator(hydroeval.kge, df_sim[f'ksathorfrac_{calibration_value}'], df_obs.discharge_vol, axis=1)\n",
    "        kge_2009_values.append(np.round(kge_2009[0][0], 4))\n",
    "\n",
    "        kge_2012 = hydroeval.evaluator(hydroeval.kgeprime, df_sim[f'ksathorfrac_{calibration_value}'], df_obs.discharge_vol, axis=1)\n",
    "        kge_2012_values.append(np.round(kge_2012[0][0], 4))    \n",
    "\n",
    "        kge_np = hydroeval.evaluator(hydroeval.kgenp, df_sim[f'ksathorfrac_{calibration_value}'], df_obs.discharge_vol, axis=1)\n",
    "        kge_np_values.append(np.round(kge_np[0][0], 4))    \n",
    "        kge_np_r_values.append(np.round(kge_np[0][1], 4))\n",
    "        kge_np_alpha_values.append(np.round(kge_np[0][2], 4))\n",
    "        kge_np_beta_values.append(np.round(kge_np[0][3], 4))\n",
    "    \n",
    "    df['basin_id'] = basin_ids\n",
    "    df['ksathorfrac'] = ksathorfracs\n",
    "    df['nse'] = nse_values\n",
    "    df['kge_2009'] = kge_2009_values\n",
    "    df['kge_2012'] = kge_2012_values\n",
    "    df['kge_np'] = kge_np_values\n",
    "    df['kge_np_r'] = kge_np_r_values\n",
    "    df['kge_np_alpha'] = kge_np_alpha_values\n",
    "    df['kge_np_beta'] = kge_np_beta_values\n",
    "\n",
    "    return df"
   ]
  },
  {
   "cell_type": "code",
   "execution_count": null,
   "id": "8c0df003-99e9-49a9-a2d3-16bec6dd9a94",
   "metadata": {},
   "outputs": [],
   "source": [
    "basin_exists = ['1001']"
   ]
  },
  {
   "cell_type": "code",
   "execution_count": null,
   "id": "c6f2518c-a9ce-409c-8de7-daeade51ea32",
   "metadata": {
    "tags": []
   },
   "outputs": [],
   "source": [
    "for basin_id in basin_exists:\n",
    "    print(basin_id)\n",
    "    latlon = get_station_location(basin_id)\n",
    "\n",
    "    sim_file = f\"{MODELS}/{basin_id}/netcdf/discharge_dailyTot_output.nc\"\n",
    "    ds_sim = xr.open_dataset(sim_file)\n",
    "    ds_sim.sel(lat=latlon[0], lon=latlon[1], method='nearest').discharge.plot()\n",
    "    df_obs = get_observations(basin_id, start_date, end_date)\n",
    "    df_obs.discharge_vol.plot()"
   ]
  },
  {
   "cell_type": "code",
   "execution_count": null,
   "id": "86f48079-403e-4445-aa3b-6eceda64b93b",
   "metadata": {},
   "outputs": [],
   "source": []
  },
  {
   "cell_type": "code",
   "execution_count": null,
   "id": "37bedbe3-042a-40e7-a255-855770e682d6",
   "metadata": {
    "tags": []
   },
   "outputs": [],
   "source": [
    "xr.open_dataset(\"/gpfs/work1/0/wtrcycle/users/jaerts/camels_uk/pcr-globwb/12005/netcdf/discharge_dailyTot_output.nc\")"
   ]
  },
  {
   "cell_type": "code",
   "execution_count": null,
   "id": "e2152067-4b7d-4422-a11e-f686fb25f553",
   "metadata": {},
   "outputs": [],
   "source": [
    "dataframes = []\n",
    "\n",
    "    for calibration_value in calibration_values:\n",
    "        # Set simulation file\n",
    "        sim_file = glob(f'{MODELS}/{basin_id}/ksathorfrac_{calibration_value}/output.csv')[0]\n",
    "\n",
    "        # Load simulation dataframe\n",
    "        df = pd.read_csv(sim_file, parse_dates=True, index_col='time')\n",
    "\n",
    "        # Select calibration period (drop first year)\n",
    "        mask = (df.index > start_date) & (df.index <= end_date)\n",
    "        df = df.loc[mask]\n",
    "        \n",
    "        # Rename column\n",
    "        df = df.rename(columns={'Q_1': f'ksathorfrac_{calibration_value}'})\n",
    "        \n",
    "        # Append to list\n",
    "        dataframes.append(df)\n",
    "\n",
    "    # Concat simulation dataframes\n",
    "    df_sim = pd.concat(dataframes,  axis=1, ignore_index=False)"
   ]
  },
  {
   "cell_type": "code",
   "execution_count": null,
   "id": "589b4618-5b23-43fc-a04c-b437b4ee7442",
   "metadata": {},
   "outputs": [],
   "source": [
    "latlon"
   ]
  },
  {
   "cell_type": "code",
   "execution_count": null,
   "id": "1d42e8b0-5948-4468-bd98-b730e07886ae",
   "metadata": {},
   "outputs": [],
   "source": []
  },
  {
   "cell_type": "code",
   "execution_count": null,
   "id": "801cb260-2c27-414e-95b9-caa5a00c0682",
   "metadata": {},
   "outputs": [],
   "source": [
    "len(basin_ids)"
   ]
  },
  {
   "cell_type": "code",
   "execution_count": null,
   "id": "a19064b5-dc1d-4d0d-ab1a-ca5107c27750",
   "metadata": {},
   "outputs": [],
   "source": [
    "import xarray as xr\n",
    "\n",
    "import glob\n",
    "from dask.diagnostics import ProgressBar"
   ]
  },
  {
   "cell_type": "code",
   "execution_count": null,
   "id": "72d265bb-82db-42e2-ad91-e6a5418f7c4d",
   "metadata": {},
   "outputs": [],
   "source": [
    "files = glob.glob(\"/gpfs/work1/0/wtrcycle/users/jaerts/camels_uk/pcr-globwb/uk/ceh-gear_chess_camels-gb_uk_pet_20*.nc\")"
   ]
  },
  {
   "cell_type": "code",
   "execution_count": null,
   "id": "1338d4a3-3d98-445f-bdc1-96137378a240",
   "metadata": {},
   "outputs": [],
   "source": [
    "ds = xr.open_mfdataset(files, chunks={'time':1})\n"
   ]
  },
  {
   "cell_type": "code",
   "execution_count": null,
   "id": "a5f5cd3b-dec5-4105-8fca-9fe4fa51f22d",
   "metadata": {},
   "outputs": [],
   "source": [
    "# Output filename\n",
    "output_fname = f'{BASINDIR}/ceh-gear_chess_camels-gb_{basin_id}_{variable}_{year}.nc'\n",
    "\n",
    "# Remove existing file\n",
    "if output_fname:\n",
    "    OUTPUT = Path(output_fname)\n",
    "    OUTPUT.unlink(output_fname)\n",
    "\n",
    "# Save to netcdf\n",
    "write_job = da.to_netcdf(output_fname, encoding={f'{variable}': {'_FillValue': -9999, 'missing_value':-9999}}, compute=False)\n",
    "with ProgressBar():\n",
    "    write_job.compute()"
   ]
  },
  {
   "cell_type": "code",
   "execution_count": null,
   "id": "d3d47ce2-43ed-4d2c-ba0f-b25efcfa85fb",
   "metadata": {},
   "outputs": [],
   "source": [
    "ds = xr.open_dataset(\"/gpfs/work1/0/wtrcycle/users/jaerts/camels_uk/pcr-globwb/uk/netcdf/discharge_dailyTot_output.nc\")"
   ]
  },
  {
   "cell_type": "code",
   "execution_count": null,
   "id": "ca7600e0-920b-4812-a136-3a423a70813e",
   "metadata": {},
   "outputs": [],
   "source": [
    "ds.discharge.isel(time=200).plot()"
   ]
  },
  {
   "cell_type": "code",
   "execution_count": null,
   "id": "88426a06-7ca5-4039-9c18-c1f306d78824",
   "metadata": {},
   "outputs": [],
   "source": []
  }
 ],
 "metadata": {
  "kernelspec": {
   "display_name": "Python 3 (ipykernel)",
   "language": "python",
   "name": "python3"
  },
  "language_info": {
   "codemirror_mode": {
    "name": "ipython",
    "version": 3
   },
   "file_extension": ".py",
   "mimetype": "text/x-python",
   "name": "python",
   "nbconvert_exporter": "python",
   "pygments_lexer": "ipython3",
   "version": "3.10.4"
  }
 },
 "nbformat": 4,
 "nbformat_minor": 5
}
