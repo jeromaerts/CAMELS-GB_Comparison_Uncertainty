{
 "cells": [
  {
   "cell_type": "code",
   "execution_count": null,
   "id": "39800caf-b105-41b4-88ca-fafccf49691b",
   "metadata": {},
   "outputs": [],
   "source": [
    "# Combine Preprocessed forcing variables into single dataframe"
   ]
  },
  {
   "cell_type": "code",
   "execution_count": 1,
   "id": "eac95219-eca5-4a2e-92f8-d550b6666895",
   "metadata": {},
   "outputs": [],
   "source": [
    "import xarray as xr\n",
    "\n",
    "import glob\n",
    "\n",
    "from pathlib import Path\n",
    "from dask.diagnostics import ProgressBar"
   ]
  },
  {
   "cell_type": "code",
   "execution_count": 2,
   "id": "f8a5569e-5fa2-4f98-a923-8735de52bd4c",
   "metadata": {},
   "outputs": [
    {
     "name": "stdout",
     "output_type": "stream",
     "text": [
      "pet\n",
      "[########################################] | 100% Completed | 248.60 s\n",
      "pr\n",
      "[########################################] | 100% Completed | 252.61 s\n",
      "tas\n",
      "[########################################] | 100% Completed | 251.83 s\n"
     ]
    }
   ],
   "source": [
    "for variable in ['pet','pr','tas']:\n",
    "    print(variable)\n",
    "    basin_id = 'uk'\n",
    "    files = glob.glob(f\"/gpfs/work1/0/wtrcycle/users/jaerts/camels_uk/pcr-globwb/uk/ceh-gear_chess_camels-gb_uk_{variable}_*.nc\")\n",
    "    ds = xr.open_mfdataset(files, chunks={'time':1})\n",
    "    # Output filename\n",
    "    output_fname = f'/gpfs/work1/0/wtrcycle/users/jaerts/camels_uk/pcr-globwb/uk/ceh-gear_chess_camels-gb_{basin_id}_{variable}_clim2000-2007_2017.nc'\n",
    "\n",
    "    # Remove existing file\n",
    "    if output_fname:\n",
    "        OUTPUT = Path(output_fname)\n",
    "        OUTPUT.unlink(output_fname)\n",
    "\n",
    "    # Save to netcdf\n",
    "    write_job = ds.to_netcdf(output_fname, encoding={f'{variable}': {'_FillValue': -9999, 'missing_value':-9999}}, compute=False)\n",
    "    with ProgressBar():\n",
    "        write_job.compute()"
   ]
  },
  {
   "cell_type": "code",
   "execution_count": null,
   "id": "250bc464-87d0-4d8b-b50e-0457ed47f7cc",
   "metadata": {},
   "outputs": [],
   "source": []
  }
 ],
 "metadata": {
  "kernelspec": {
   "display_name": "Python 3 (ipykernel)",
   "language": "python",
   "name": "python3"
  },
  "language_info": {
   "codemirror_mode": {
    "name": "ipython",
    "version": 3
   },
   "file_extension": ".py",
   "mimetype": "text/x-python",
   "name": "python",
   "nbconvert_exporter": "python",
   "pygments_lexer": "ipython3",
   "version": "3.10.6"
  }
 },
 "nbformat": 4,
 "nbformat_minor": 5
}
