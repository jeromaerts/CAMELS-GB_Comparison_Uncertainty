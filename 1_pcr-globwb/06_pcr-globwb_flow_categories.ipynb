{
 "cells": [
  {
   "cell_type": "markdown",
   "id": "ce7d7d7e-c57a-40dc-af07-d5594c9b613a",
   "metadata": {},
   "source": [
    "# Select simulations that match flow categories that are based on observation percentiles\n",
    "## Calculate objective functions per category"
   ]
  },
  {
   "cell_type": "code",
   "execution_count": null,
   "id": "56b806b3-3bc4-44b8-a66c-98a151368faf",
   "metadata": {},
   "outputs": [],
   "source": [
    "import hydroeval\n",
    "import numpy as np\n",
    "import pandas as pd\n",
    "\n",
    "from pathlib import Path\n",
    "from glob import glob"
   ]
  },
  {
   "cell_type": "markdown",
   "id": "d07ce8ca-6ee7-436b-98b2-765a54366ceb",
   "metadata": {
    "tags": []
   },
   "source": [
    "## Set Paths"
   ]
  },
  {
   "cell_type": "code",
   "execution_count": null,
   "id": "1e30b80e-81ff-4e10-8a4b-6991b96ab0c5",
   "metadata": {},
   "outputs": [],
   "source": [
    "# Set Paths\n",
    "ROOT = Path(\"/gpfs/work1/0/wtrcycle/users/jaerts/camels_uk/\")\n",
    "AUXDATA = Path(f\"{ROOT}/aux_data\")\n",
    "RESULTS = Path(f\"{ROOT}/results/\")\n",
    "OBSDIR = Path(f\"{AUXDATA}/CAMELS-GB/data/timeseries/\")\n",
    "\n",
    "# Set uncertainty estimate file\n",
    "uncertainty_file = f\"{AUXDATA}/CAMELS-GB/data/CAMELS_GB_hydrometry_attributes.csv\""
   ]
  },
  {
   "cell_type": "markdown",
   "id": "839639e9-cb54-4017-b04b-f8d96f47a085",
   "metadata": {},
   "source": [
    "## Config"
   ]
  },
  {
   "cell_type": "code",
   "execution_count": null,
   "id": "cceca622-b2aa-42dc-bf62-8f61a75f059d",
   "metadata": {},
   "outputs": [],
   "source": [
    "# Get available basin IDs\n",
    "df_ids = pd.read_csv(f\"{AUXDATA}/CAMELS-GB/data/CAMELS_GB_topographic_attributes.csv\", index_col='gauge_id')\n",
    "basin_ids = df_ids.index.to_list()\n",
    "\n",
    "# Remove basin_ids that return nan values\n",
    "basin_ids.remove(18017)\n",
    "basin_ids.remove(18018)\n",
    "basin_ids.remove(54038)\n",
    "basin_ids.remove(76011)\n",
    "\n",
    "# Time period (drop first year)\n",
    "start_date = '2008-10-01'\n",
    "end_date   = '2015-09-30'"
   ]
  },
  {
   "cell_type": "markdown",
   "id": "6cf85d4d-8358-452e-aa22-548961f8fb28",
   "metadata": {},
   "source": [
    "## Define Functions"
   ]
  },
  {
   "cell_type": "code",
   "execution_count": null,
   "id": "76e2f742-8e52-4774-84e1-28b72156d47b",
   "metadata": {},
   "outputs": [],
   "source": [
    "def calculate_objective_functions(basin_id, df_sim, df_obs):\n",
    "    \n",
    "    # Create empty dataframe and lists\n",
    "    df = pd.DataFrame()\n",
    "\n",
    "    # Combine obs and sim because of nan values\n",
    "    df_eval = df_obs.discharge_vol.to_frame().join(df_sim)\n",
    "    df_eval = df_eval.dropna()\n",
    "    \n",
    "    # Calculate objective functions and round\n",
    "    nse = hydroeval.evaluator(hydroeval.nse, df_eval[f'sim'], df_eval.discharge_vol, axis=1)\n",
    "    nse = np.round(nse[0], 4)\n",
    "\n",
    "    kge_2009 = hydroeval.evaluator(hydroeval.kge, df_eval[f'sim'], df_eval.discharge_vol, axis=1)\n",
    "    kge_2009 = np.round(kge_2009[0][0], 4)\n",
    "\n",
    "    kge_2012 = hydroeval.evaluator(hydroeval.kgeprime, df_eval[f'sim'], df_eval.discharge_vol, axis=1)\n",
    "    kge_2012 = np.round(kge_2012[0][0], 4)\n",
    "\n",
    "    kge_np = hydroeval.evaluator(hydroeval.kgenp, df_eval[f'sim'], df_eval.discharge_vol, axis=1)\n",
    "    kge_np_value = np.round(kge_np[0][0], 4)\n",
    "    kge_np_r = np.round(kge_np[0][1], 4)\n",
    "    kge_np_alpha = np.round(kge_np[0][2], 4)\n",
    "    kge_np_beta = np.round(kge_np[0][3], 4)\n",
    "\n",
    "    df['basin_id'] = [basin_id]\n",
    "    df['nse']      = [nse]\n",
    "    df['kge_2009'] = [kge_2009]\n",
    "    df['kge_2012'] = [kge_2012]\n",
    "    df['kge_np']   = [kge_np_value]\n",
    "\n",
    "    df['kge_np_r'] = [kge_np_r]\n",
    "    df['kge_np_alpha'] = [kge_np_alpha]\n",
    "    df['kge_np_beta'] = [kge_np_beta]\n",
    "    \n",
    "    return df"
   ]
  },
  {
   "cell_type": "markdown",
   "id": "e575c4c9-545a-4ddb-be82-adcef3c2f0ab",
   "metadata": {},
   "source": [
    "## Load uncertainty estimates and drop nan values"
   ]
  },
  {
   "cell_type": "code",
   "execution_count": null,
   "id": "64462cda-2586-4b06-97fe-328dd1b9d7d3",
   "metadata": {},
   "outputs": [],
   "source": [
    "# load uncertainty file and drop nan\n",
    "df_uncertainty = pd.read_csv(uncertainty_file, index_col='gauge_id')\n",
    "\n",
    "df_uncertainty = df_uncertainty[df_uncertainty['q5_uncert_upper'].notna()]\n",
    "df_uncertainty = df_uncertainty[df_uncertainty['q5_uncert_lower'].notna()]\n",
    "df_uncertainty = df_uncertainty[df_uncertainty['q95_uncert_upper'].notna()]\n",
    "df_uncertainty = df_uncertainty[df_uncertainty['q95_uncert_lower'].notna()]"
   ]
  },
  {
   "cell_type": "markdown",
   "id": "bccde8f3-9bb4-4909-9e02-b4053d0e1f45",
   "metadata": {},
   "source": [
    "## Calculate observation timeseries based percentiles\n",
    "### Select sim based on obs percentiles\n",
    "### Calculate objective functions per percentile"
   ]
  },
  {
   "cell_type": "code",
   "execution_count": null,
   "id": "91161554-010f-49c7-a32d-2d84f5257f92",
   "metadata": {},
   "outputs": [],
   "source": [
    "# Set flow categories based on percentiles\n",
    "flow_categories = {'low_flow': (5, 25),\n",
    "                   'mean_flow': (25, 75),\n",
    "                   'high_flow': (75, 95)}"
   ]
  },
  {
   "cell_type": "code",
   "execution_count": null,
   "id": "87b8910b-5524-4279-989b-26bd27947ead",
   "metadata": {
    "tags": []
   },
   "outputs": [],
   "source": [
    "for basin_id in basin_ids:\n",
    "    # Get model simulation timeseries\n",
    "    df_model = pd.read_csv(f\"{RESULTS}/pcr-globwb/evaluation_period/simulations/{basin_id}_pcr-globwb_evaluation_simulations.csv\", index_col='time')\n",
    "\n",
    "    # Get obervation timeseries\n",
    "    df_obs = pd.read_csv(f'{OBSDIR}/CAMELS_GB_hydromet_timeseries_{basin_id}_19701001-20150930.csv', index_col='date')\n",
    "\n",
    "    # Select evaluation period\n",
    "    mask = (df_obs.index >= start_date) & (df_obs.index <= end_date)\n",
    "    df_obs = df_obs.loc[mask]\n",
    "\n",
    "    # Drop NaN values observation timeseries\n",
    "    df_obs = df_obs[df_obs['discharge_vol'].notna()]\n",
    "    \n",
    "    # Loop Flow Categories\n",
    "    for category in flow_categories:\n",
    "        # Calculate percentiles\n",
    "        lower = flow_categories[category][0]\n",
    "        upper = flow_categories[category][1]\n",
    "\n",
    "        obs_perc_lower = np.percentile(df_obs.discharge_vol,lower,axis=0)\n",
    "        obs_perc_upper = np.percentile(df_obs.discharge_vol,upper,axis=0)\n",
    "\n",
    "        # Select observations based on percentiles\n",
    "        mask = (df_obs.discharge_vol >= obs_perc_lower) & (df_obs.discharge_vol <= obs_perc_upper)\n",
    "        df_obs_selected = df_obs.loc[mask]\n",
    "\n",
    "        # Select simulations that match observation based flow category\n",
    "        df_sim_selected = df_obs_selected.join(df_model)\n",
    "        df_sim_selected = df_sim_selected[['sim']]\n",
    "\n",
    "        # Export selected simulations\n",
    "        df_sim_selected.to_csv(f'{RESULTS}/pcr-globwb/evaluation_period/flow_categories/{basin_id}_pcr-globwb_evaluation_simulations_{category}.csv')\n",
    "\n",
    "        # Export selected observation\n",
    "        df_obs_selected = df_obs_selected[['discharge_vol']]\n",
    "        df_obs_selected.to_csv(f'{RESULTS}/pcr-globwb/evaluation_period/observations/{basin_id}_pcr-globwb_evaluation_observations_{category}.csv')\n",
    "        \n",
    "        # Calculate objective function for each water year and take average\n",
    "        years = list(range(int(start_date[:4]), int(end_date[:4])))\n",
    "\n",
    "        objective_dfs = []\n",
    "        for year in years:\n",
    "            start_year = f'{year}-10-01'\n",
    "            end_year = f'{year+1}-09-30'\n",
    "\n",
    "            # Select water year\n",
    "            mask_sim = (df_sim_selected.index >= start_year) & (df_sim_selected.index <= end_year)\n",
    "            mask_obs = (df_obs_selected.index >= start_year) & (df_obs_selected.index <= end_year)\n",
    "\n",
    "            df_sim_year = df_sim_selected.loc[mask_sim]\n",
    "            df_obs_year = df_obs_selected.loc[mask_obs]\n",
    "\n",
    "            # Calculate objective function\n",
    "            df_objective = calculate_objective_functions(basin_id, df_sim_year, df_obs_year)\n",
    "            objective_dfs.append(df_objective)\n",
    "\n",
    "        # Merge water years objective values and take the mean value\n",
    "        df = pd.concat(objective_dfs,axis=1)\n",
    "        df = df.groupby(level=0,axis=1).mean()\n",
    "        df = df.sort_values('kge_np', ascending=False)\n",
    "        df['basin_id'] = [basin_id] * len(df)\n",
    "        df.to_csv(f'{RESULTS}/pcr-globwb/evaluation_period/objective_functions/{basin_id}_evaluation_objective_functions_{category}.csv', index=False)"
   ]
  },
  {
   "cell_type": "markdown",
   "id": "3a1d71d4-9c30-4090-ae0d-8c9bf56c75a2",
   "metadata": {},
   "source": [
    "# Create overview files"
   ]
  },
  {
   "cell_type": "code",
   "execution_count": null,
   "id": "1cb26dec-303a-4e59-94b7-4817186f5b5b",
   "metadata": {},
   "outputs": [],
   "source": [
    "for category in flow_categories:\n",
    "\n",
    "    files = glob(f'{RESULTS}/pcr-globwb/evaluation_period/objective_functions/*_evaluation_objective_functions_{category}.csv')\n",
    "\n",
    "    dataframes = []\n",
    "    \n",
    "    for file in files:\n",
    "        df = pd.read_csv(file)\n",
    "        dataframes.append(df)\n",
    "\n",
    "    df_out = pd.concat(dataframes)\n",
    "    df_out.to_csv(f'{ROOT}/results/pcr-globwb/pcr-globwb_evaluation_period_objective_functions_overview_{category}.csv')"
   ]
  },
  {
   "cell_type": "code",
   "execution_count": null,
   "id": "6e68c7f8-12ac-46b7-b78e-850345285d3a",
   "metadata": {},
   "outputs": [],
   "source": []
  }
 ],
 "metadata": {
  "kernelspec": {
   "display_name": "Python 3 (ipykernel)",
   "language": "python",
   "name": "python3"
  },
  "language_info": {
   "codemirror_mode": {
    "name": "ipython",
    "version": 3
   },
   "file_extension": ".py",
   "mimetype": "text/x-python",
   "name": "python",
   "nbconvert_exporter": "python",
   "pygments_lexer": "ipython3",
   "version": "3.10.6"
  }
 },
 "nbformat": 4,
 "nbformat_minor": 5
}
