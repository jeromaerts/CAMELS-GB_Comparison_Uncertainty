{
 "cells": [
  {
   "cell_type": "markdown",
   "id": "b7c81b85-09a2-4c40-b7cf-963183d915e4",
   "metadata": {},
   "source": [
    "# Calculate observation uncertainty in m3/s"
   ]
  },
  {
   "cell_type": "code",
   "execution_count": null,
   "id": "d669d7b1-e2c3-4fa8-a24b-dc2bf0267ac4",
   "metadata": {},
   "outputs": [],
   "source": [
    "import numpy as np\n",
    "import pandas as pd\n",
    "\n",
    "from glob import glob\n",
    "from pathlib import Path"
   ]
  },
  {
   "cell_type": "markdown",
   "id": "063f747c-0f18-474b-af13-b2202fe4e7aa",
   "metadata": {},
   "source": [
    "# Set Path"
   ]
  },
  {
   "cell_type": "code",
   "execution_count": null,
   "id": "737d2d1c-13fb-4ac3-a2e4-d93a4f34bf2f",
   "metadata": {},
   "outputs": [],
   "source": [
    "# Set Paths\n",
    "ROOT = Path(\"/gpfs/work1/0/wtrcycle/users/jaerts/camels_uk/\")\n",
    "AUXDATA = Path(f\"{ROOT}/aux_data\")\n",
    "RESULTS = Path(f\"{ROOT}/results/\")\n",
    "OBSDIR = Path(f\"{AUXDATA}/CAMELS-GB/data/timeseries/\")"
   ]
  },
  {
   "cell_type": "markdown",
   "id": "061f404b-9b5a-43e2-a514-5d70eb696c09",
   "metadata": {},
   "source": [
    "# Set Config"
   ]
  },
  {
   "cell_type": "code",
   "execution_count": null,
   "id": "14aeb135-89b2-4650-a08b-3db517bda351",
   "metadata": {},
   "outputs": [],
   "source": [
    "uncertainty_file = f\"{AUXDATA}/CAMELS-GB/data/CAMELS_GB_hydrometry_attributes.csv\"\n",
    "\n",
    "# load uncertainty file and drop nan\n",
    "df_uncertainty = pd.read_csv(uncertainty_file, index_col='gauge_id')\n",
    "\n",
    "df_uncertainty = df_uncertainty[df_uncertainty['q5_uncert_upper'].notna()]\n",
    "df_uncertainty = df_uncertainty[df_uncertainty['q5_uncert_lower'].notna()]\n",
    "df_uncertainty = df_uncertainty[df_uncertainty['q95_uncert_upper'].notna()]\n",
    "df_uncertainty = df_uncertainty[df_uncertainty['q95_uncert_lower'].notna()]\n",
    "\n",
    "# Load available basin_IDs\n",
    "df_basin_ids = pd.read_csv(f\"{AUXDATA}/available_basin_ids_uncertainty.csv\", index_col='basin_id')\n",
    "basin_ids = df_basin_ids.index.to_list()\n",
    "\n",
    "# Remove basin_ids that return nan values\n",
    "basin_ids.remove(54038)\n",
    "\n",
    "# Set flow categories based on percentiles\n",
    "flow_categories = {'low_flow': (5, 25),\n",
    "                   'mean_flow': (25, 75),\n",
    "                   'high_flow': (75, 95)}"
   ]
  },
  {
   "cell_type": "code",
   "execution_count": null,
   "id": "48c7bca5-0a6d-4550-b390-de14f222774d",
   "metadata": {
    "tags": []
   },
   "outputs": [],
   "source": [
    "for basin_id in basin_ids:\n",
    "    print(basin_id)\n",
    "    for category in flow_categories:\n",
    "        # Load percentile based observations\n",
    "        df_obs = pd.read_csv(f\"{RESULTS}/pcr-globwb/evaluation_period/observations/{basin_id}_pcr-globwb_evaluation_observations_{category}.csv\")\n",
    "        \n",
    "        # Get uncertainty per percentiles\n",
    "        lower = flow_categories[category][0]\n",
    "        upper = flow_categories[category][1]\n",
    "        df = df_uncertainty.loc[basin_id]\n",
    "        \n",
    "        # Calculate average uncertainty per category in percentage\n",
    "        uncertainty_lower = (np.abs(df[f'q{lower}_uncert_lower']) + np.abs(df[f'q{lower}_uncert_upper'])) / 2\n",
    "        uncertainty_upper = (np.abs(df[f'q{upper}_uncert_lower']) + np.abs(df[f'q{upper}_uncert_upper'])) / 2\n",
    "        uncertainty_average = (uncertainty_lower + uncertainty_upper) / 2\n",
    "        \n",
    "        # Calculate observation uncertainty in m3/s\n",
    "        df_obs['observation_uncertainty'] = df_obs.discharge_vol * (uncertainty_average/100)\n",
    "        df_obs['uncertainty_percentage'] = [uncertainty_average] * len(df_obs)\n",
    "        # Save output\n",
    "        df_obs.to_csv(f\"{RESULTS}/obs_flow_categories/{category}_{basin_id}_observation_uncertainty_m3s.csv\")"
   ]
  },
  {
   "cell_type": "code",
   "execution_count": null,
   "id": "de5c41fb-a0e6-4a66-baf0-846376407ff1",
   "metadata": {},
   "outputs": [],
   "source": []
  }
 ],
 "metadata": {
  "kernelspec": {
   "display_name": "Python 3 (ipykernel)",
   "language": "python",
   "name": "python3"
  },
  "language_info": {
   "codemirror_mode": {
    "name": "ipython",
    "version": 3
   },
   "file_extension": ".py",
   "mimetype": "text/x-python",
   "name": "python",
   "nbconvert_exporter": "python",
   "pygments_lexer": "ipython3",
   "version": "3.10.6"
  }
 },
 "nbformat": 4,
 "nbformat_minor": 5
}
