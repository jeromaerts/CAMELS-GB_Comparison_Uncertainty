{
 "cells": [
  {
   "cell_type": "markdown",
   "id": "3cc45265-c5fe-43ea-9c4e-1760dd44d67a",
   "metadata": {},
   "source": [
    "# Calculate model differences for all flow categories"
   ]
  },
  {
   "cell_type": "code",
   "execution_count": null,
   "id": "5b8e967f-8364-4ad4-9bec-6f9452828861",
   "metadata": {},
   "outputs": [],
   "source": [
    "import os\n",
    "from glob import glob\n",
    "from pathlib import Path\n",
    "\n",
    "import numpy as np\n",
    "import xarray as xr\n",
    "import pandas as pd\n",
    "\n",
    "import pylab as plot\n",
    "import matplotlib.pyplot as plt\n",
    "import seaborn as sns"
   ]
  },
  {
   "cell_type": "markdown",
   "id": "5c19715f-d93e-4d89-be92-aa5027d066b5",
   "metadata": {},
   "source": [
    "# Set Paths"
   ]
  },
  {
   "cell_type": "code",
   "execution_count": null,
   "id": "afeb1330-bb1d-4f0e-a5ca-c45c34764f22",
   "metadata": {},
   "outputs": [],
   "source": [
    "# Set Paths\n",
    "ROOT = Path(\"/gpfs/work1/0/wtrcycle/users/jaerts/camels_uk/\")\n",
    "AUXDATA = Path(f\"{ROOT}/aux_data\")\n",
    "RESULTS = Path(f\"{ROOT}/results/\")\n",
    "OBSDIR = Path(f\"{AUXDATA}/CAMELS-GB/data/timeseries/\")"
   ]
  },
  {
   "cell_type": "markdown",
   "id": "fcd1541e-a1f2-410c-b5ac-349ac32e867b",
   "metadata": {},
   "source": [
    "# Set Config"
   ]
  },
  {
   "cell_type": "code",
   "execution_count": null,
   "id": "0738f262-da7e-483c-b46e-0a227d906c1e",
   "metadata": {},
   "outputs": [],
   "source": [
    "# Load available basin_IDs\n",
    "df_basin_ids = pd.read_csv(f\"{AUXDATA}/available_basin_ids_uncertainty.csv\", index_col='basin_id')\n",
    "basin_ids = df_basin_ids.index.to_list()\n",
    "# Set flow categories based on percentiles\n",
    "flow_categories = {'low_flow': (5, 25),\n",
    "                   'mean_flow': (25, 75),\n",
    "                   'high_flow': (75, 95)}"
   ]
  },
  {
   "cell_type": "markdown",
   "id": "15a9b278-d224-419d-ae34-49f91de5ece9",
   "metadata": {},
   "source": [
    "# Model simulation difference wflow calibrated & default"
   ]
  },
  {
   "cell_type": "code",
   "execution_count": null,
   "id": "910cb8f7-05d1-4736-ba33-357dd6f93669",
   "metadata": {
    "tags": []
   },
   "outputs": [],
   "source": [
    "model_a_path = f'{RESULTS}/wflow_sbm/evaluation_period_calibrated/flow_categories/'\n",
    "model_b_path = f'{RESULTS}/wflow_sbm/evaluation_period_uncalibrated/flow_categories/'\n",
    "\n",
    "for basin_id in basin_ids:\n",
    "    print(basin_id)\n",
    "    for category in flow_categories:\n",
    "        model_a_files = glob(f'{model_a_path}/{basin_id}*{category}*')\n",
    "\n",
    "        for file_a in model_a_files:\n",
    "            basin_id = file_a.split('/')[-1].split('_')[0]\n",
    "            file_b = glob(f'{model_b_path}/{basin_id}*{category}*')[0]\n",
    "\n",
    "            df_a = pd.read_csv(file_a, index_col='date')\n",
    "            df_b = pd.read_csv(file_b, index_col='date')\n",
    "            df_diff = df_a.join(df_b, lsuffix='_a',rsuffix='_b')\n",
    "            df_diff['model_difference_wflow_calibrated_uncalibrated'] = (df_diff['evaluation_a'] - df_diff['evaluation_b']).abs()\n",
    "            df_diff.to_csv(f'{RESULTS}/model_differences/wflow_calibrated_uncalibrated/{basin_id}_model_simulation_difference_wflow_calibrated_uncalibrated_{category}.csv')\n"
   ]
  },
  {
   "cell_type": "markdown",
   "id": "59cc9141-465d-4693-bff0-67c61e07a9c7",
   "metadata": {},
   "source": [
    "# Model simulation difference wflow calibrated & PCR-GLOBWB"
   ]
  },
  {
   "cell_type": "code",
   "execution_count": null,
   "id": "e27ec579-85c8-416f-b729-d2780708bb9a",
   "metadata": {
    "tags": []
   },
   "outputs": [],
   "source": [
    "model_a_path = f'{RESULTS}/wflow_sbm/evaluation_period_calibrated/flow_categories/'\n",
    "model_b_path = f'{RESULTS}/pcr-globwb/evaluation_period/flow_categories/'\n",
    "\n",
    "for basin_id in basin_ids:\n",
    "    print(basin_id)\n",
    "    for category in flow_categories:\n",
    "        model_a_files = glob(f'{model_a_path}/{basin_id}*{category}*')\n",
    "    \n",
    "        for file_a in model_a_files:\n",
    "            basin_id = file_a.split('/')[-1].split('_')[0]\n",
    "            file_b = glob(f'{model_b_path}/{basin_id}*{category}*')[0]\n",
    "\n",
    "            df_a = pd.read_csv(file_a, index_col='date')\n",
    "            df_b = pd.read_csv(file_b)\n",
    "            df_b = df_b.set_index(df_b.iloc[:, 0].name)\n",
    "            df_diff = df_a.join(df_b, lsuffix='_a',rsuffix='_b')\n",
    "            df_diff['model_difference_wflow_calibrated_pcr-globwb'] = (df_diff['evaluation'] - df_diff['sim']).abs()\n",
    "            df_diff.to_csv(f'{RESULTS}/model_differences/wflow_pcr-globwb/{basin_id}_model_simulation_difference_wflow_calibrated_pcr-globwb_{category}.csv')\n"
   ]
  },
  {
   "cell_type": "code",
   "execution_count": null,
   "id": "398631c7-a46e-4d42-a97c-7f66fea83641",
   "metadata": {},
   "outputs": [],
   "source": []
  }
 ],
 "metadata": {
  "kernelspec": {
   "display_name": "Python 3 (ipykernel)",
   "language": "python",
   "name": "python3"
  },
  "language_info": {
   "codemirror_mode": {
    "name": "ipython",
    "version": 3
   },
   "file_extension": ".py",
   "mimetype": "text/x-python",
   "name": "python",
   "nbconvert_exporter": "python",
   "pygments_lexer": "ipython3",
   "version": "3.10.6"
  }
 },
 "nbformat": 4,
 "nbformat_minor": 5
}
