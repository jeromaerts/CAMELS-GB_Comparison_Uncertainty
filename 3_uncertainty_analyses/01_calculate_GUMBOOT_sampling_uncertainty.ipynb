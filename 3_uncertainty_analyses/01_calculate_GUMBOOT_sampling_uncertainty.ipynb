{
 "cells": [
  {
   "cell_type": "markdown",
   "id": "642214e6-d174-4690-9da7-1ad22511f891",
   "metadata": {},
   "source": [
    "# Calculate GUMBOOT sampling uncertainty\n",
    "### Jackknife and bootstrap"
   ]
  },
  {
   "cell_type": "code",
   "execution_count": null,
   "id": "e832c257-a7e8-4da5-bfad-525960b61554",
   "metadata": {},
   "outputs": [],
   "source": [
    "# Load Package\n",
    "# install.packages(\"gumboot\")\n",
    "library('gumboot')"
   ]
  },
  {
   "cell_type": "markdown",
   "id": "3b4ec307-43ba-44a5-897e-f9164141f77a",
   "metadata": {},
   "source": [
    "## Adjusted model code in Gumboot package"
   ]
  },
  {
   "cell_type": "code",
   "execution_count": null,
   "id": "bfae3399-0c19-4580-a5c5-b2c8ee6d3967",
   "metadata": {
    "tags": []
   },
   "outputs": [],
   "source": [
    "## Adjusted code in package Bootjack function trace('bootjack', edit=TRUE):\n",
    "# qSimValid = qSimValid[!is.na(qSimValid)]\n",
    "# qObsValid = qObsValid[!is.na(qObsValid)]\n",
    "\n",
    "\n",
    "# rankSim <- order(order(qSimValid)) -1\n",
    "# rankObs <- order(order(qObsValid)) -1\n",
    "\n",
    "\n",
    "# r_num <- sum((rankObs - mean(rankObs)) * (rankSim - mean(rankSim)))\n",
    "# r_den <- sqrt(sum((rankObs - mean(rankObs))^2) * sum((rankSim - mean(rankSim))^2))\n",
    "# r <- r_num / r_den\n",
    "\n",
    "# alpha <- 1 - 0.5 * sum(abs(fdcSim - fdcObs))\n",
    "# beta <-  mean(qSimValid)/ mean(qObsValid)\n",
    "\n",
    "# kge_np <- 1 - sqrt((r - 1) ^2 + (alpha - 1)^2 + (beta - 1)^2)\n",
    "# kge_np"
   ]
  },
  {
   "cell_type": "markdown",
   "id": "fd261229-2026-4cba-8667-32542c72127b",
   "metadata": {},
   "source": [
    "# wflow_sbm Calibrated GUMBOOT"
   ]
  },
  {
   "cell_type": "code",
   "execution_count": null,
   "id": "33d5ab0d-b548-4f53-9c51-45f49561204e",
   "metadata": {},
   "outputs": [],
   "source": [
    "# Evaluation result files\n",
    "files <- Sys.glob(sprintf(\"/gpfs/work1/0/wtrcycle/users/jaerts/camels_uk/results/wflow_sbm/evaluation_period_calibrated/gumboot/*_evaluation_simulations.csv\"))"
   ]
  },
  {
   "cell_type": "markdown",
   "id": "47c89025-46b8-4d4f-962f-577991a655a3",
   "metadata": {},
   "source": [
    "## KGE-NP"
   ]
  },
  {
   "cell_type": "code",
   "execution_count": null,
   "id": "523b57a9-2f11-447c-91b4-781791cddaa9",
   "metadata": {
    "tags": []
   },
   "outputs": [],
   "source": [
    "# Create empty dataframe\n",
    "df_total = data.frame()\n",
    "\n",
    "# Loop files\n",
    "for (file in files){\n",
    "    \n",
    "    # Load data\n",
    "    df <- read.csv(file)\n",
    "    df['date'] <- as.Date(df$date)\n",
    "    \n",
    "    # Select info\n",
    "    basin_id = strsplit(file,'/')[[1]][13]\n",
    "    basin_id = strsplit(basin_id,'_')[[1]][1]\n",
    "    \n",
    "    \n",
    "    \n",
    "    # Calculate bootjack\n",
    "    data <- bootjack(flows = df,\n",
    "             GOF_stat = 'KGE',\n",
    "             nSample = 500,\n",
    "             waterYearMonth=13,\n",
    "             seed=1000,\n",
    "             minDays = 100,\n",
    "             minYears = 5)\n",
    "    \n",
    "    df_data <- data.frame(data)\n",
    "    df_data$basin_id <- basin_id\n",
    "    df_total <- rbind(df_total,df_data)\n",
    "}\n",
    "\n",
    "write.csv(df_total,\"/gpfs/work1/0/wtrcycle/users/jaerts/camels_uk/results/wflow_sbm/wflow_calibrated_kge_np_gumboot.csv\", row.names = FALSE)"
   ]
  },
  {
   "cell_type": "markdown",
   "id": "0619ab8f-9fb5-49c9-8de9-10140901ba08",
   "metadata": {},
   "source": [
    "## NSE"
   ]
  },
  {
   "cell_type": "code",
   "execution_count": null,
   "id": "d7549a4d-5dc8-4c89-b0aa-916d5280302a",
   "metadata": {},
   "outputs": [],
   "source": [
    "# Create empty dataframe\n",
    "df_total = data.frame()\n",
    "\n",
    "# Loop files\n",
    "for (file in files){\n",
    "    \n",
    "    # Load data\n",
    "    df <- read.csv(file)\n",
    "    df['date'] <- as.Date(df$date)\n",
    "    \n",
    "    # Select info\n",
    "    basin_id = strsplit(file,'/')[[1]][13]\n",
    "    basin_id = strsplit(basin_id,'_')[[1]][1]\n",
    "    \n",
    "    \n",
    "    \n",
    "    # Calculate bootjack\n",
    "    data <- bootjack(flows = df,\n",
    "             GOF_stat = 'NSE',\n",
    "             nSample = 500,\n",
    "             waterYearMonth=13,\n",
    "             seed=1000,\n",
    "             minDays = 100,\n",
    "             minYears = 5)\n",
    "    \n",
    "    df_data <- data.frame(data)\n",
    "    df_data$basin_id <- basin_id\n",
    "    df_total <- rbind(df_total,df_data)\n",
    "}\n",
    "\n",
    "write.csv(df_total,\"/gpfs/work1/0/wtrcycle/users/jaerts/camels_uk/results/wflow_sbm/wflow_calibrated_nse_gumboot.csv\", row.names = FALSE)"
   ]
  },
  {
   "cell_type": "markdown",
   "id": "03eff000-1dec-4345-ba33-41b32ebc9397",
   "metadata": {},
   "source": [
    "# wflow_sbm Uncalibrated GUMBOOT"
   ]
  },
  {
   "cell_type": "code",
   "execution_count": null,
   "id": "b84bd79f-b266-4b14-ad8b-c8aa4a90955f",
   "metadata": {},
   "outputs": [],
   "source": [
    "# Evaluation result files\n",
    "files <- Sys.glob(sprintf(\"/gpfs/work1/0/wtrcycle/users/jaerts/camels_uk/results/wflow_sbm/evaluation_period_uncalibrated/gumboot/*_evaluation_simulations.csv\"))"
   ]
  },
  {
   "cell_type": "markdown",
   "id": "24c77609-2ace-4faf-856c-df596ea4e83b",
   "metadata": {},
   "source": [
    "## KGE-NP"
   ]
  },
  {
   "cell_type": "code",
   "execution_count": null,
   "id": "7c9ec51f-0085-45b1-a46c-74667bd50949",
   "metadata": {},
   "outputs": [],
   "source": [
    "# Create empty dataframe\n",
    "df_total = data.frame()\n",
    "\n",
    "# Loop files\n",
    "for (file in files){\n",
    "\n",
    "    # Load data\n",
    "    df <- read.csv(file)\n",
    "    df['date'] <- as.Date(df$date)\n",
    "    \n",
    "    # Select info\n",
    "    basin_id = strsplit(file,'/')[[1]][13]\n",
    "    basin_id = strsplit(basin_id,'_')[[1]][1]\n",
    "    \n",
    "    \n",
    "    \n",
    "    # Calculate bootjack\n",
    "    data <- bootjack(flows = df,\n",
    "             GOF_stat = 'KGE',\n",
    "             nSample = 500,\n",
    "             waterYearMonth=13,\n",
    "             seed=1000,\n",
    "             minDays = 100,\n",
    "             minYears = 5)\n",
    "    \n",
    "    df_data <- data.frame(data)\n",
    "    df_data$basin_id <- basin_id\n",
    "    df_total <- rbind(df_total,df_data)\n",
    "}\n",
    "\n",
    "write.csv(df_total,\"/gpfs/work1/0/wtrcycle/users/jaerts/camels_uk/results/wflow_sbm/wflow_uncalibrated_kge_np_gumboot.csv\", row.names = FALSE)"
   ]
  },
  {
   "cell_type": "markdown",
   "id": "84da9f65-25c7-4a01-954a-c855e6289dfa",
   "metadata": {},
   "source": [
    "## NSE"
   ]
  },
  {
   "cell_type": "code",
   "execution_count": null,
   "id": "7578b439-b494-46bf-b003-a15289bbc0fb",
   "metadata": {},
   "outputs": [],
   "source": [
    "# Create empty dataframe\n",
    "df_total = data.frame()\n",
    "\n",
    "# Loop files\n",
    "for (file in files){\n",
    "    \n",
    "    # Load data\n",
    "    df <- read.csv(file)\n",
    "    df['date'] <- as.Date(df$date)\n",
    "    \n",
    "    # Select info\n",
    "    basin_id = strsplit(file,'/')[[1]][13]\n",
    "    basin_id = strsplit(basin_id,'_')[[1]][1]\n",
    "    \n",
    "    \n",
    "    \n",
    "    # Calculate bootjack\n",
    "    data <- bootjack(flows = df,\n",
    "             GOF_stat = 'NSE',\n",
    "             nSample = 500,\n",
    "             waterYearMonth=13,\n",
    "             seed=1000,\n",
    "             minDays = 100,\n",
    "             minYears = 5)\n",
    "    \n",
    "    df_data <- data.frame(data)\n",
    "    df_data$basin_id <- basin_id\n",
    "    df_total <- rbind(df_total,df_data)\n",
    "}\n",
    "\n",
    "write.csv(df_total,\"/gpfs/work1/0/wtrcycle/users/jaerts/camels_uk/results/wflow_sbm/wflow_uncalibrated_nse_gumboot.csv\", row.names = FALSE)"
   ]
  },
  {
   "cell_type": "markdown",
   "id": "b475cebb-7f8a-4322-8202-315cf29b0d08",
   "metadata": {},
   "source": [
    "# PCR-GLOBWB"
   ]
  },
  {
   "cell_type": "code",
   "execution_count": null,
   "id": "ba70434a-7876-4803-bd0b-96feb47a299c",
   "metadata": {},
   "outputs": [],
   "source": [
    "# Evaluation result files\n",
    "files <- Sys.glob(sprintf(\"/gpfs/work1/0/wtrcycle/users/jaerts/camels_uk/results/pcr-globwb/evaluation_period/gumboot/*_gumboot_pcr-globwb_evaluation_simulations.csv\"))"
   ]
  },
  {
   "cell_type": "markdown",
   "id": "d6bc6dcf-f9ac-43d3-be22-90e7a149107a",
   "metadata": {},
   "source": [
    "## KGE-NP"
   ]
  },
  {
   "cell_type": "code",
   "execution_count": null,
   "id": "9436163e-1736-4394-8c8d-9cec4fa8a552",
   "metadata": {
    "tags": []
   },
   "outputs": [],
   "source": [
    "# Create empty dataframe\n",
    "df_total = data.frame()\n",
    "\n",
    "# Loop files\n",
    "for (file in files){\n",
    "\n",
    "    # Load data\n",
    "    df <- read.csv(file)\n",
    "    df['date'] <- as.Date(df$date)\n",
    "    \n",
    "    # Select info\n",
    "    basin_id = strsplit(file,'/')[[1]][13]\n",
    "    basin_id = strsplit(basin_id,'_')[[1]][1]\n",
    "    \n",
    "    \n",
    "    \n",
    "    # Calculate bootjack\n",
    "    data <- bootjack(flows = df,\n",
    "             GOF_stat = 'KGE',\n",
    "             nSample = 500,\n",
    "             waterYearMonth=13,\n",
    "             seed=1000,\n",
    "             minDays = 100,\n",
    "             minYears = 5)\n",
    "    \n",
    "    df_data <- data.frame(data)\n",
    "    df_data$basin_id <- basin_id\n",
    "    df_total <- rbind(df_total,df_data)\n",
    "}\n",
    "\n",
    "write.csv(df_total,\"/gpfs/work1/0/wtrcycle/users/jaerts/camels_uk/results/pcr-globwb/pcr-globwb_kge_np_gumboot.csv\", row.names = FALSE)"
   ]
  },
  {
   "cell_type": "markdown",
   "id": "06df883a-5ccc-40ae-be74-869c86edbed9",
   "metadata": {},
   "source": [
    "## NSE"
   ]
  },
  {
   "cell_type": "code",
   "execution_count": null,
   "id": "cd608ea3-88ae-4358-a53e-b860cc75f9c6",
   "metadata": {},
   "outputs": [],
   "source": [
    "# Create empty dataframe\n",
    "df_total = data.frame()\n",
    "\n",
    "# Loop files\n",
    "for (file in files){\n",
    "    \n",
    "    # Load data\n",
    "    df <- read.csv(file)\n",
    "    df['date'] <- as.Date(df$date)\n",
    "    \n",
    "    # Select info\n",
    "    basin_id = strsplit(file,'/')[[1]][13]\n",
    "    basin_id = strsplit(basin_id,'_')[[1]][1]\n",
    "    \n",
    "    \n",
    "    \n",
    "    # Calculate bootjack\n",
    "    data <- bootjack(flows = df,\n",
    "             GOF_stat = 'NSE',\n",
    "             nSample = 500,\n",
    "             waterYearMonth=13,\n",
    "             seed=1000,\n",
    "             minDays = 100,\n",
    "             minYears = 5)\n",
    "    \n",
    "    df_data <- data.frame(data)\n",
    "    df_data$basin_id <- basin_id\n",
    "    df_total <- rbind(df_total,df_data)\n",
    "}\n",
    "\n",
    "write.csv(df_total,\"/gpfs/work1/0/wtrcycle/users/jaerts/camels_uk/results/pcr-globwb/pcr-globwb_nse_gumboot.csv\", row.names = FALSE)"
   ]
  }
 ],
 "metadata": {
  "kernelspec": {
   "display_name": "R",
   "language": "R",
   "name": "ir"
  },
  "language_info": {
   "codemirror_mode": "r",
   "file_extension": ".r",
   "mimetype": "text/x-r-source",
   "name": "R",
   "pygments_lexer": "r",
   "version": "4.2.1"
  }
 },
 "nbformat": 4,
 "nbformat_minor": 5
}
