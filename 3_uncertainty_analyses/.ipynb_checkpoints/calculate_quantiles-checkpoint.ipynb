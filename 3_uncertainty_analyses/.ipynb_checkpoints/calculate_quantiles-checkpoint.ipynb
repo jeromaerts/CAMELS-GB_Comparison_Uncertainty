{
 "cells": [
  {
   "cell_type": "code",
   "execution_count": 1,
   "id": "1a9d47c8-b85c-45a8-a3ee-fd7bdd28909f",
   "metadata": {},
   "outputs": [],
   "source": [
    "import numpy as np\n",
    "import xarray as xr\n",
    "import pandas as pd\n",
    "\n",
    "from pathlib import Path\n",
    "from glob import glob"
   ]
  },
  {
   "cell_type": "code",
   "execution_count": 2,
   "id": "d870d144-324c-4ccb-8973-bb82b41ca544",
   "metadata": {},
   "outputs": [],
   "source": [
    "# Set Paths\n",
    "ROOT = Path(\"/gpfs/work1/0/wtrcycle/users/jaerts/camels_uk/\")\n",
    "AUXDATA = Path(f\"{ROOT}/aux_data\")\n",
    "RESULTS = Path(f\"{ROOT}/calibration_results/run_standard/wflow_sbm/\")\n",
    "MODELS = Path(f'{ROOT}/wflow/data/')\n",
    "OBSDIR = Path(f\"{AUXDATA}/CAMELS-GB/data/timeseries/\")\n",
    "basin_id = '89002'\n",
    "\n",
    "# Time period (drop first year)\n",
    "start_date = '2008-01-01'\n",
    "end_date   = '2015-09-30'"
   ]
  },
  {
   "cell_type": "code",
   "execution_count": 3,
   "id": "e7342523-83d7-42cb-b7a7-5dfbf17676c5",
   "metadata": {},
   "outputs": [],
   "source": [
    "def get_station_location(basin_id):\n",
    "    # Load location file\n",
    "    location_file = f\"{AUXDATA}/CAMELS-GB/data/CAMELS_GB_topographic_attributes.csv\"\n",
    "    df_loc = pd.read_csv(location_file, index_col='gauge_id')\n",
    "    \n",
    "    # Select basin_ids and retrieve lat lon\n",
    "    df_loc = df_loc.loc[int(basin_id)]\n",
    "    latlon = (df_loc.gauge_lat, df_loc.gauge_lon)\n",
    "\n",
    "    return latlon\n",
    "\n",
    "def get_simulations_pcrglobwb(basin_id, start_date, end_date):\n",
    "    \n",
    "    MODELS = Path(f'{ROOT}/pcr-globwb/')\n",
    "    # Load simulation results\n",
    "    sim_file = f\"{MODELS}/uk/netcdf/discharge_dailyTot_output.nc\"\n",
    "    ds_sim = xr.open_dataset(sim_file)\n",
    "\n",
    "    # Get station location\n",
    "    latlon = get_station_location(basin_id)\n",
    "\n",
    "    # Extract station location timeseries\n",
    "    ds_sim = ds_sim.discharge.sel(lat=latlon[0], lon=latlon[1], method='nearest')\n",
    "\n",
    "    # Convert to dataframe\n",
    "    df_sim = ds_sim.to_dataframe()\n",
    "\n",
    "    # Select calibration period (drop first year)\n",
    "    mask = (df_sim.index > start_date) & (df_sim.index <= end_date)\n",
    "    df_sim = df_sim.loc[mask]\n",
    "\n",
    "    # Rename column\n",
    "    df_sim = df_sim.drop(columns=['lat','lon'])\n",
    "    df_sim = df_sim.rename(columns={'discharge': f'sim'})\n",
    "\n",
    "    return df_sim\n",
    "\n",
    "def get_simulations_wflow(basin_id, start_date, end_date):\n",
    "    dataframes = []\n",
    "\n",
    "    # Set simulation file\n",
    "    sim_file = glob(f'{MODELS}/{basin_id}/evaluation/output.csv')[0]\n",
    "\n",
    "    # Load simulation dataframe\n",
    "    df = pd.read_csv(sim_file, parse_dates=True, index_col='time')\n",
    "\n",
    "    # Select calibration period (drop first year)\n",
    "    mask = (df.index > start_date) & (df.index <= end_date)\n",
    "    df = df.loc[mask]\n",
    "\n",
    "    # Rename column\n",
    "    df = df.rename(columns={'Q_1': f'evaluation'})\n",
    "\n",
    "    return df\n",
    "\n",
    "def get_observations(basin_id, start_date, end_date):\n",
    "    # Set observation file\n",
    "    obs_file = glob(f'{OBSDIR}/*_{basin_id}_*.csv')[0]\n",
    "    \n",
    "    # Load observation dataframe\n",
    "    df_obs = pd.read_csv(obs_file, parse_dates=True, index_col='date')\n",
    "    \n",
    "    # Select calibration period (drop first year)\n",
    "    mask = (df_obs.index > start_date) & (df_obs.index <= end_date)\n",
    "    df_obs = df_obs.loc[mask]\n",
    "    \n",
    "    return df_obs"
   ]
  },
  {
   "cell_type": "code",
   "execution_count": null,
   "id": "924724e5-7a0c-433f-b4e4-88e6a2987473",
   "metadata": {},
   "outputs": [],
   "source": []
  },
  {
   "cell_type": "code",
   "execution_count": 4,
   "id": "6841c34c-8474-43f8-a0cb-1af8efb4a641",
   "metadata": {},
   "outputs": [],
   "source": [
    "basin_id = '23008'\n",
    "df_pcrglob = get_simulations_pcrglobwb(basin_id, start_date, end_date)\n",
    "df_wflow = get_simulations_wflow(basin_id, start_date, end_date)\n",
    "df_obs = get_observations(basin_id, start_date, end_date)\n",
    "df_obs = df_obs.dropna(how='all')"
   ]
  },
  {
   "cell_type": "markdown",
   "id": "08b40590-842a-4212-8392-84f1f4b49715",
   "metadata": {},
   "source": [
    "# Calculate quantiles"
   ]
  },
  {
   "cell_type": "code",
   "execution_count": 5,
   "id": "6c1dccec-6fb4-44bd-957e-847ee6633aee",
   "metadata": {},
   "outputs": [],
   "source": [
    "percentiles = [5, 25, 50, 75, 95]\n",
    "\n",
    "p_wflow_ls = []\n",
    "p_pcrglob_ls = []\n",
    "p_obs_ls = []\n",
    "model_uncertainties = []\n",
    "\n",
    "\n",
    "for percentile in percentiles:\n",
    "    \n",
    "    pcrglob = np.percentile(df_pcrglob.sim,percentile)\n",
    "    p_pcrglob_ls.append(pcrglob)\n",
    "    \n",
    "    wflow = np.percentile(df_wflow.evaluation,percentile)\n",
    "    p_wflow_ls.append(wflow)\n",
    "    \n",
    "    obs = np.percentile(df_obs.discharge_vol.dropna(),percentile)\n",
    "    p_obs_ls.append(obs)\n",
    "    \n",
    "    model_uncertainty = abs(((pcrglob - wflow) / wflow) * 100)\n",
    "    model_uncertainties.append(model_uncertainty)"
   ]
  },
  {
   "cell_type": "code",
   "execution_count": 6,
   "id": "30b7610c-e359-4fa0-a701-fd3903741017",
   "metadata": {
    "tags": []
   },
   "outputs": [],
   "source": [
    "df = pd.DataFrame()\n",
    "df['basin_id'] = [basin_id] * len(percentiles)\n",
    "df['percentiles'] = percentiles\n",
    "df['wflow_streamflow_percentile'] = p_wflow_ls\n",
    "df['pcrglobwb_streamflow_percentile'] = p_pcrglob_ls\n",
    "df['observation_streamflow_percentile'] = p_obs_ls\n",
    "df['model_uncertainty'] = model_uncertainties"
   ]
  },
  {
   "cell_type": "code",
   "execution_count": 7,
   "id": "2452f7bf-bbfa-487a-ad0e-dce2315aae3d",
   "metadata": {},
   "outputs": [
    {
     "data": {
      "text/html": [
       "<div>\n",
       "<style scoped>\n",
       "    .dataframe tbody tr th:only-of-type {\n",
       "        vertical-align: middle;\n",
       "    }\n",
       "\n",
       "    .dataframe tbody tr th {\n",
       "        vertical-align: top;\n",
       "    }\n",
       "\n",
       "    .dataframe thead th {\n",
       "        text-align: right;\n",
       "    }\n",
       "</style>\n",
       "<table border=\"1\" class=\"dataframe\">\n",
       "  <thead>\n",
       "    <tr style=\"text-align: right;\">\n",
       "      <th></th>\n",
       "      <th>basin_id</th>\n",
       "      <th>percentiles</th>\n",
       "      <th>wflow_streamflow_percentile</th>\n",
       "      <th>pcrglobwb_streamflow_percentile</th>\n",
       "      <th>observation_streamflow_percentile</th>\n",
       "      <th>model_uncertainty</th>\n",
       "    </tr>\n",
       "  </thead>\n",
       "  <tbody>\n",
       "    <tr>\n",
       "      <th>0</th>\n",
       "      <td>23008</td>\n",
       "      <td>5</td>\n",
       "      <td>0.892552</td>\n",
       "      <td>1.266030</td>\n",
       "      <td>0.76</td>\n",
       "      <td>41.843861</td>\n",
       "    </tr>\n",
       "    <tr>\n",
       "      <th>1</th>\n",
       "      <td>23008</td>\n",
       "      <td>25</td>\n",
       "      <td>1.797430</td>\n",
       "      <td>3.669074</td>\n",
       "      <td>1.37</td>\n",
       "      <td>104.128877</td>\n",
       "    </tr>\n",
       "    <tr>\n",
       "      <th>2</th>\n",
       "      <td>23008</td>\n",
       "      <td>50</td>\n",
       "      <td>3.582030</td>\n",
       "      <td>7.386771</td>\n",
       "      <td>3.08</td>\n",
       "      <td>106.217417</td>\n",
       "    </tr>\n",
       "    <tr>\n",
       "      <th>3</th>\n",
       "      <td>23008</td>\n",
       "      <td>75</td>\n",
       "      <td>8.261567</td>\n",
       "      <td>11.856215</td>\n",
       "      <td>7.60</td>\n",
       "      <td>43.510497</td>\n",
       "    </tr>\n",
       "    <tr>\n",
       "      <th>4</th>\n",
       "      <td>23008</td>\n",
       "      <td>95</td>\n",
       "      <td>26.299509</td>\n",
       "      <td>21.191864</td>\n",
       "      <td>27.70</td>\n",
       "      <td>19.421067</td>\n",
       "    </tr>\n",
       "  </tbody>\n",
       "</table>\n",
       "</div>"
      ],
      "text/plain": [
       "  basin_id  percentiles  wflow_streamflow_percentile  \\\n",
       "0    23008            5                     0.892552   \n",
       "1    23008           25                     1.797430   \n",
       "2    23008           50                     3.582030   \n",
       "3    23008           75                     8.261567   \n",
       "4    23008           95                    26.299509   \n",
       "\n",
       "   pcrglobwb_streamflow_percentile  observation_streamflow_percentile  \\\n",
       "0                         1.266030                               0.76   \n",
       "1                         3.669074                               1.37   \n",
       "2                         7.386771                               3.08   \n",
       "3                        11.856215                               7.60   \n",
       "4                        21.191864                              27.70   \n",
       "\n",
       "   model_uncertainty  \n",
       "0          41.843861  \n",
       "1         104.128877  \n",
       "2         106.217417  \n",
       "3          43.510497  \n",
       "4          19.421067  "
      ]
     },
     "execution_count": 7,
     "metadata": {},
     "output_type": "execute_result"
    }
   ],
   "source": [
    "df"
   ]
  },
  {
   "cell_type": "code",
   "execution_count": 16,
   "id": "1c5777b3-445a-4dbf-a850-f25c61586ee0",
   "metadata": {},
   "outputs": [],
   "source": [
    "p5_wflow = df_wflow[df_wflow.evaluation <= 0.892552]\n",
    "p5_pcrglob = df_pcrglob[df_pcrglob.sim <= 1.266030]"
   ]
  },
  {
   "cell_type": "code",
   "execution_count": 22,
   "id": "7408f5ea-1871-4008-8a19-b6cb93b34aae",
   "metadata": {},
   "outputs": [],
   "source": [
    "p5_wflow_mean = p5_wflow.mean()\n",
    "p5_pcrglob_mean = p5_pcrglob.mean()\n",
    "\n",
    "sampling_mean = p5_wflow_mean.values - p5_pcrglob_mean.values"
   ]
  },
  {
   "cell_type": "code",
   "execution_count": 23,
   "id": "03028e41-2f05-41e5-901d-0536dcdee38c",
   "metadata": {},
   "outputs": [
    {
     "data": {
      "text/plain": [
       "array([0.00085346])"
      ]
     },
     "execution_count": 23,
     "metadata": {},
     "output_type": "execute_result"
    }
   ],
   "source": [
    "sampling_mean"
   ]
  },
  {
   "cell_type": "code",
   "execution_count": 21,
   "id": "7b5b2d72-2bb6-456b-a38f-42b8d6855f49",
   "metadata": {},
   "outputs": [
    {
     "data": {
      "text/plain": [
       "array([0.763849])"
      ]
     },
     "execution_count": 21,
     "metadata": {},
     "output_type": "execute_result"
    }
   ],
   "source": [
    "p5_wflow_mean.values"
   ]
  },
  {
   "cell_type": "code",
   "execution_count": null,
   "id": "dc213ed8-a0a9-4060-bf99-dab30fc7176e",
   "metadata": {},
   "outputs": [],
   "source": []
  },
  {
   "cell_type": "markdown",
   "id": "a6c10034-e2e3-46c9-9780-7e0333fffe47",
   "metadata": {},
   "source": [
    "# Plot flow duration curve"
   ]
  },
  {
   "cell_type": "code",
   "execution_count": 27,
   "id": "ee97e7ab-79e5-406b-bf41-71bf6e92f40f",
   "metadata": {},
   "outputs": [
    {
     "data": {
      "text/html": [
       "<div>\n",
       "<style scoped>\n",
       "    .dataframe tbody tr th:only-of-type {\n",
       "        vertical-align: middle;\n",
       "    }\n",
       "\n",
       "    .dataframe tbody tr th {\n",
       "        vertical-align: top;\n",
       "    }\n",
       "\n",
       "    .dataframe thead th {\n",
       "        text-align: right;\n",
       "    }\n",
       "</style>\n",
       "<table border=\"1\" class=\"dataframe\">\n",
       "  <thead>\n",
       "    <tr style=\"text-align: right;\">\n",
       "      <th></th>\n",
       "      <th>evaluation</th>\n",
       "    </tr>\n",
       "    <tr>\n",
       "      <th>time</th>\n",
       "      <th></th>\n",
       "    </tr>\n",
       "  </thead>\n",
       "  <tbody>\n",
       "    <tr>\n",
       "      <th>2008-01-02</th>\n",
       "      <td>0.000176</td>\n",
       "    </tr>\n",
       "    <tr>\n",
       "      <th>2008-01-03</th>\n",
       "      <td>0.000429</td>\n",
       "    </tr>\n",
       "    <tr>\n",
       "      <th>2008-01-04</th>\n",
       "      <td>0.024771</td>\n",
       "    </tr>\n",
       "    <tr>\n",
       "      <th>2008-01-05</th>\n",
       "      <td>0.044279</td>\n",
       "    </tr>\n",
       "    <tr>\n",
       "      <th>2008-01-06</th>\n",
       "      <td>0.046911</td>\n",
       "    </tr>\n",
       "    <tr>\n",
       "      <th>...</th>\n",
       "      <td>...</td>\n",
       "    </tr>\n",
       "    <tr>\n",
       "      <th>2015-09-26</th>\n",
       "      <td>0.045578</td>\n",
       "    </tr>\n",
       "    <tr>\n",
       "      <th>2015-09-27</th>\n",
       "      <td>0.045597</td>\n",
       "    </tr>\n",
       "    <tr>\n",
       "      <th>2015-09-28</th>\n",
       "      <td>0.045569</td>\n",
       "    </tr>\n",
       "    <tr>\n",
       "      <th>2015-09-29</th>\n",
       "      <td>0.045523</td>\n",
       "    </tr>\n",
       "    <tr>\n",
       "      <th>2015-09-30</th>\n",
       "      <td>0.045477</td>\n",
       "    </tr>\n",
       "  </tbody>\n",
       "</table>\n",
       "<p>2829 rows × 1 columns</p>\n",
       "</div>"
      ],
      "text/plain": [
       "            evaluation\n",
       "time                  \n",
       "2008-01-02    0.000176\n",
       "2008-01-03    0.000429\n",
       "2008-01-04    0.024771\n",
       "2008-01-05    0.044279\n",
       "2008-01-06    0.046911\n",
       "...                ...\n",
       "2015-09-26    0.045578\n",
       "2015-09-27    0.045597\n",
       "2015-09-28    0.045569\n",
       "2015-09-29    0.045523\n",
       "2015-09-30    0.045477\n",
       "\n",
       "[2829 rows x 1 columns]"
      ]
     },
     "execution_count": 27,
     "metadata": {},
     "output_type": "execute_result"
    }
   ],
   "source": [
    "df_wflow"
   ]
  },
  {
   "cell_type": "markdown",
   "id": "bc875bb9-22fd-451e-af0e-3f5b165f4d69",
   "metadata": {},
   "source": [
    "# Calculate percentage difference quantiles"
   ]
  },
  {
   "cell_type": "code",
   "execution_count": null,
   "id": "5d800b2f-1d8d-49d9-b869-aaad15c69ea5",
   "metadata": {},
   "outputs": [],
   "source": []
  }
 ],
 "metadata": {
  "kernelspec": {
   "display_name": "Python 3 (ipykernel)",
   "language": "python",
   "name": "python3"
  },
  "language_info": {
   "codemirror_mode": {
    "name": "ipython",
    "version": 3
   },
   "file_extension": ".py",
   "mimetype": "text/x-python",
   "name": "python",
   "nbconvert_exporter": "python",
   "pygments_lexer": "ipython3",
   "version": "3.10.4"
  }
 },
 "nbformat": 4,
 "nbformat_minor": 5
}
