{
 "cells": [
  {
   "cell_type": "markdown",
   "id": "cdee72c2-5413-4a89-9e7e-d078ae28258d",
   "metadata": {},
   "source": [
    "# Prepare raw forcing data CAMELS-GB\n",
    "## Reproject to wgs84, concatenate files\n",
    "## CEH-GEAR: pr, CHESS-PE: pet, CHESS-met: tas"
   ]
  },
  {
   "cell_type": "code",
   "execution_count": 3,
   "id": "e7612a98-96f4-45fa-9c1a-e714623b9335",
   "metadata": {},
   "outputs": [],
   "source": [
    "# This cell is only used to suppress some distracting output messages\n",
    "import warnings\n",
    "warnings.filterwarnings(\"ignore\", category=UserWarning)"
   ]
  },
  {
   "cell_type": "code",
   "execution_count": 4,
   "id": "5512db35-a54d-4604-b82e-cb103daa987c",
   "metadata": {},
   "outputs": [],
   "source": [
    "import xarray as xr\n",
    "\n",
    "from glob import glob\n",
    "from pathlib import Path\n",
    "\n",
    "import dask\n",
    "import numpy as np\n",
    "from dask.diagnostics import ProgressBar"
   ]
  },
  {
   "cell_type": "markdown",
   "id": "ad00dc88-29ad-4793-8128-2c486a5d8ee5",
   "metadata": {},
   "source": [
    "# Set Paths"
   ]
  },
  {
   "cell_type": "code",
   "execution_count": null,
   "id": "a444409a-736d-4472-88b7-b1f4daae0d26",
   "metadata": {},
   "outputs": [],
   "source": [
    "# Snellius paths\n",
    "ROOT = '/gpfs/work1/0/wtrcycle/users/jaerts/camels_uk/'\n",
    "FORCING_RAW = f'{ROOT}/forcing_raw/'\n",
    "FORCING = f'{ROOT}/forcing/'"
   ]
  },
  {
   "cell_type": "markdown",
   "id": "ab307332-f16d-4f7c-b2b8-8167e1a74675",
   "metadata": {},
   "source": [
    "# Config"
   ]
  },
  {
   "cell_type": "code",
   "execution_count": 7,
   "id": "bab9f8da-abf5-46fc-b944-827c6f4d102b",
   "metadata": {
    "tags": []
   },
   "outputs": [],
   "source": [
    "# Period\n",
    "start_year = \"2000\"\n",
    "end_year = \"2017\"\n",
    "\n",
    "years = list(range(2000,2018))"
   ]
  },
  {
   "cell_type": "markdown",
   "id": "001b0fcb-b507-4a22-a451-2970fcbe97e0",
   "metadata": {},
   "source": [
    "# Prepare tas"
   ]
  },
  {
   "cell_type": "code",
   "execution_count": 16,
   "id": "68c94698-422d-48c4-ab3a-bebbb931aac8",
   "metadata": {
    "collapsed": true,
    "jupyter": {
     "outputs_hidden": true
    },
    "tags": []
   },
   "outputs": [
    {
     "name": "stdout",
     "output_type": "stream",
     "text": [
      "2000\n",
      "crsOSGB\n",
      "time\n",
      "2001\n",
      "crsOSGB\n",
      "time\n",
      "2002\n"
     ]
    },
    {
     "ename": "KeyboardInterrupt",
     "evalue": "",
     "output_type": "error",
     "traceback": [
      "\u001b[0;31m---------------------------------------------------------------------------\u001b[0m",
      "\u001b[0;31mKeyboardInterrupt\u001b[0m                         Traceback (most recent call last)",
      "Input \u001b[0;32mIn [16]\u001b[0m, in \u001b[0;36m<cell line: 2>\u001b[0;34m()\u001b[0m\n\u001b[1;32m     16\u001b[0m ds \u001b[38;5;241m=\u001b[39m ds\u001b[38;5;241m.\u001b[39mrio\u001b[38;5;241m.\u001b[39mwrite_crs(\u001b[38;5;124mf\u001b[39m\u001b[38;5;124m\"\u001b[39m\u001b[38;5;124mepsg:\u001b[39m\u001b[38;5;132;01m{\u001b[39;00mespg\u001b[38;5;132;01m}\u001b[39;00m\u001b[38;5;124m\"\u001b[39m, inplace\u001b[38;5;241m=\u001b[39m\u001b[38;5;28;01mTrue\u001b[39;00m)\n\u001b[1;32m     18\u001b[0m \u001b[38;5;66;03m# Reproject\u001b[39;00m\n\u001b[0;32m---> 19\u001b[0m ds \u001b[38;5;241m=\u001b[39m \u001b[43mds\u001b[49m\u001b[38;5;241;43m.\u001b[39;49m\u001b[43mrio\u001b[49m\u001b[38;5;241;43m.\u001b[39;49m\u001b[43mreproject\u001b[49m\u001b[43m(\u001b[49m\u001b[38;5;124;43m\"\u001b[39;49m\u001b[38;5;124;43mEPSG:4326\u001b[39;49m\u001b[38;5;124;43m\"\u001b[39;49m\u001b[43m)\u001b[49m\n\u001b[1;32m     21\u001b[0m \u001b[38;5;66;03m# Convert kelvin to celcius\u001b[39;00m\n\u001b[1;32m     22\u001b[0m ds \u001b[38;5;241m=\u001b[39m ds \u001b[38;5;241m-\u001b[39m \u001b[38;5;241m272.15\u001b[39m\n",
      "File \u001b[0;32m/gpfs/home6/jaerts/mambaforge/envs/wflow_state_flux/lib/python3.10/site-packages/rioxarray/raster_dataset.py:112\u001b[0m, in \u001b[0;36mRasterDataset.reproject\u001b[0;34m(self, dst_crs, resolution, shape, transform, resampling, nodata, **kwargs)\u001b[0m\n\u001b[1;32m    109\u001b[0m \u001b[38;5;28;01mtry\u001b[39;00m:\n\u001b[1;32m    110\u001b[0m     x_dim, y_dim \u001b[38;5;241m=\u001b[39m _get_spatial_dims(\u001b[38;5;28mself\u001b[39m\u001b[38;5;241m.\u001b[39m_obj, var)\n\u001b[1;32m    111\u001b[0m     resampled_dataset[var] \u001b[38;5;241m=\u001b[39m (\n\u001b[0;32m--> 112\u001b[0m         \u001b[38;5;28;43mself\u001b[39;49m\u001b[38;5;241;43m.\u001b[39;49m\u001b[43m_obj\u001b[49m\u001b[43m[\u001b[49m\u001b[43mvar\u001b[49m\u001b[43m]\u001b[49m\n\u001b[1;32m    113\u001b[0m \u001b[43m        \u001b[49m\u001b[38;5;241;43m.\u001b[39;49m\u001b[43mrio\u001b[49m\u001b[38;5;241;43m.\u001b[39;49m\u001b[43mset_spatial_dims\u001b[49m\u001b[43m(\u001b[49m\u001b[43mx_dim\u001b[49m\u001b[38;5;241;43m=\u001b[39;49m\u001b[43mx_dim\u001b[49m\u001b[43m,\u001b[49m\u001b[43m \u001b[49m\u001b[43my_dim\u001b[49m\u001b[38;5;241;43m=\u001b[39;49m\u001b[43my_dim\u001b[49m\u001b[43m,\u001b[49m\u001b[43m \u001b[49m\u001b[43minplace\u001b[49m\u001b[38;5;241;43m=\u001b[39;49m\u001b[38;5;28;43;01mTrue\u001b[39;49;00m\u001b[43m)\u001b[49m\n\u001b[1;32m    114\u001b[0m \u001b[43m        \u001b[49m\u001b[38;5;241;43m.\u001b[39;49m\u001b[43mrio\u001b[49m\u001b[38;5;241;43m.\u001b[39;49m\u001b[43mreproject\u001b[49m\u001b[43m(\u001b[49m\n\u001b[1;32m    115\u001b[0m \u001b[43m            \u001b[49m\u001b[43mdst_crs\u001b[49m\u001b[43m,\u001b[49m\n\u001b[1;32m    116\u001b[0m \u001b[43m            \u001b[49m\u001b[43mresolution\u001b[49m\u001b[38;5;241;43m=\u001b[39;49m\u001b[43mresolution\u001b[49m\u001b[43m,\u001b[49m\n\u001b[1;32m    117\u001b[0m \u001b[43m            \u001b[49m\u001b[43mshape\u001b[49m\u001b[38;5;241;43m=\u001b[39;49m\u001b[43mshape\u001b[49m\u001b[43m,\u001b[49m\n\u001b[1;32m    118\u001b[0m \u001b[43m            \u001b[49m\u001b[43mtransform\u001b[49m\u001b[38;5;241;43m=\u001b[39;49m\u001b[43mtransform\u001b[49m\u001b[43m,\u001b[49m\n\u001b[1;32m    119\u001b[0m \u001b[43m            \u001b[49m\u001b[43mresampling\u001b[49m\u001b[38;5;241;43m=\u001b[39;49m\u001b[43mresampling\u001b[49m\u001b[43m,\u001b[49m\n\u001b[1;32m    120\u001b[0m \u001b[43m            \u001b[49m\u001b[43mnodata\u001b[49m\u001b[38;5;241;43m=\u001b[39;49m\u001b[43mnodata\u001b[49m\u001b[43m,\u001b[49m\n\u001b[1;32m    121\u001b[0m \u001b[43m            \u001b[49m\u001b[38;5;241;43m*\u001b[39;49m\u001b[38;5;241;43m*\u001b[39;49m\u001b[43mkwargs\u001b[49m\u001b[43m,\u001b[49m\n\u001b[1;32m    122\u001b[0m \u001b[43m        \u001b[49m\u001b[43m)\u001b[49m\n\u001b[1;32m    123\u001b[0m     )\n\u001b[1;32m    124\u001b[0m \u001b[38;5;28;01mexcept\u001b[39;00m MissingSpatialDimensionError:\n\u001b[1;32m    125\u001b[0m     \u001b[38;5;28;01mif\u001b[39;00m \u001b[38;5;28mlen\u001b[39m(\u001b[38;5;28mself\u001b[39m\u001b[38;5;241m.\u001b[39m_obj[var]\u001b[38;5;241m.\u001b[39mdims) \u001b[38;5;241m>\u001b[39m\u001b[38;5;241m=\u001b[39m \u001b[38;5;241m2\u001b[39m \u001b[38;5;129;01mand\u001b[39;00m \u001b[38;5;129;01mnot\u001b[39;00m get_option(\n\u001b[1;32m    126\u001b[0m         SKIP_MISSING_SPATIAL_DIMS\n\u001b[1;32m    127\u001b[0m     ):\n",
      "File \u001b[0;32m/gpfs/home6/jaerts/mambaforge/envs/wflow_state_flux/lib/python3.10/site-packages/rioxarray/raster_array.py:415\u001b[0m, in \u001b[0;36mRasterArray.reproject\u001b[0;34m(self, dst_crs, resolution, shape, transform, resampling, nodata, **kwargs)\u001b[0m\n\u001b[1;32m    411\u001b[0m dst_data \u001b[38;5;241m=\u001b[39m \u001b[38;5;28mself\u001b[39m\u001b[38;5;241m.\u001b[39m_create_dst_data(dst_height, dst_width)\n\u001b[1;32m    413\u001b[0m dst_nodata \u001b[38;5;241m=\u001b[39m \u001b[38;5;28mself\u001b[39m\u001b[38;5;241m.\u001b[39m_get_dst_nodata(nodata)\n\u001b[0;32m--> 415\u001b[0m \u001b[43mrasterio\u001b[49m\u001b[38;5;241;43m.\u001b[39;49m\u001b[43mwarp\u001b[49m\u001b[38;5;241;43m.\u001b[39;49m\u001b[43mreproject\u001b[49m\u001b[43m(\u001b[49m\n\u001b[1;32m    416\u001b[0m \u001b[43m    \u001b[49m\u001b[43msource\u001b[49m\u001b[38;5;241;43m=\u001b[39;49m\u001b[38;5;28;43mself\u001b[39;49m\u001b[38;5;241;43m.\u001b[39;49m\u001b[43m_obj\u001b[49m\u001b[38;5;241;43m.\u001b[39;49m\u001b[43mvalues\u001b[49m\u001b[43m,\u001b[49m\n\u001b[1;32m    417\u001b[0m \u001b[43m    \u001b[49m\u001b[43mdestination\u001b[49m\u001b[38;5;241;43m=\u001b[39;49m\u001b[43mdst_data\u001b[49m\u001b[43m,\u001b[49m\n\u001b[1;32m    418\u001b[0m \u001b[43m    \u001b[49m\u001b[43msrc_transform\u001b[49m\u001b[38;5;241;43m=\u001b[39;49m\u001b[43msrc_affine\u001b[49m\u001b[43m,\u001b[49m\n\u001b[1;32m    419\u001b[0m \u001b[43m    \u001b[49m\u001b[43msrc_crs\u001b[49m\u001b[38;5;241;43m=\u001b[39;49m\u001b[38;5;28;43mself\u001b[39;49m\u001b[38;5;241;43m.\u001b[39;49m\u001b[43mcrs\u001b[49m\u001b[43m,\u001b[49m\n\u001b[1;32m    420\u001b[0m \u001b[43m    \u001b[49m\u001b[43msrc_nodata\u001b[49m\u001b[38;5;241;43m=\u001b[39;49m\u001b[38;5;28;43mself\u001b[39;49m\u001b[38;5;241;43m.\u001b[39;49m\u001b[43mnodata\u001b[49m\u001b[43m,\u001b[49m\n\u001b[1;32m    421\u001b[0m \u001b[43m    \u001b[49m\u001b[43mdst_transform\u001b[49m\u001b[38;5;241;43m=\u001b[39;49m\u001b[43mdst_affine\u001b[49m\u001b[43m,\u001b[49m\n\u001b[1;32m    422\u001b[0m \u001b[43m    \u001b[49m\u001b[43mdst_crs\u001b[49m\u001b[38;5;241;43m=\u001b[39;49m\u001b[43mdst_crs\u001b[49m\u001b[43m,\u001b[49m\n\u001b[1;32m    423\u001b[0m \u001b[43m    \u001b[49m\u001b[43mdst_nodata\u001b[49m\u001b[38;5;241;43m=\u001b[39;49m\u001b[43mdst_nodata\u001b[49m\u001b[43m,\u001b[49m\n\u001b[1;32m    424\u001b[0m \u001b[43m    \u001b[49m\u001b[43mresampling\u001b[49m\u001b[38;5;241;43m=\u001b[39;49m\u001b[43mresampling\u001b[49m\u001b[43m,\u001b[49m\n\u001b[1;32m    425\u001b[0m \u001b[43m    \u001b[49m\u001b[38;5;241;43m*\u001b[39;49m\u001b[38;5;241;43m*\u001b[39;49m\u001b[43mkwargs\u001b[49m\u001b[43m,\u001b[49m\n\u001b[1;32m    426\u001b[0m \u001b[43m\u001b[49m\u001b[43m)\u001b[49m\n\u001b[1;32m    427\u001b[0m \u001b[38;5;66;03m# add necessary attributes\u001b[39;00m\n\u001b[1;32m    428\u001b[0m new_attrs \u001b[38;5;241m=\u001b[39m _generate_attrs(\u001b[38;5;28mself\u001b[39m\u001b[38;5;241m.\u001b[39m_obj, dst_nodata)\n",
      "File \u001b[0;32m/gpfs/home6/jaerts/mambaforge/envs/wflow_state_flux/lib/python3.10/site-packages/rasterio/env.py:392\u001b[0m, in \u001b[0;36mensure_env.<locals>.wrapper\u001b[0;34m(*args, **kwds)\u001b[0m\n\u001b[1;32m    390\u001b[0m \u001b[38;5;28;01melse\u001b[39;00m:\n\u001b[1;32m    391\u001b[0m     \u001b[38;5;28;01mwith\u001b[39;00m Env\u001b[38;5;241m.\u001b[39mfrom_defaults():\n\u001b[0;32m--> 392\u001b[0m         \u001b[38;5;28;01mreturn\u001b[39;00m \u001b[43mf\u001b[49m\u001b[43m(\u001b[49m\u001b[38;5;241;43m*\u001b[39;49m\u001b[43margs\u001b[49m\u001b[43m,\u001b[49m\u001b[43m \u001b[49m\u001b[38;5;241;43m*\u001b[39;49m\u001b[38;5;241;43m*\u001b[39;49m\u001b[43mkwds\u001b[49m\u001b[43m)\u001b[49m\n",
      "File \u001b[0;32m/gpfs/home6/jaerts/mambaforge/envs/wflow_state_flux/lib/python3.10/site-packages/rasterio/warp.py:346\u001b[0m, in \u001b[0;36mreproject\u001b[0;34m(source, destination, src_transform, gcps, rpcs, src_crs, src_nodata, dst_transform, dst_crs, dst_nodata, dst_resolution, src_alpha, dst_alpha, resampling, num_threads, init_dest_nodata, warp_mem_limit, **kwargs)\u001b[0m\n\u001b[1;32m    342\u001b[0m         destination \u001b[38;5;241m=\u001b[39m np\u001b[38;5;241m.\u001b[39mempty((\u001b[38;5;28mint\u001b[39m(dst_count), \u001b[38;5;28mint\u001b[39m(dst_height), \u001b[38;5;28mint\u001b[39m(dst_width)),\n\u001b[1;32m    343\u001b[0m                                dtype\u001b[38;5;241m=\u001b[39msource\u001b[38;5;241m.\u001b[39mdtype)\n\u001b[1;32m    345\u001b[0m \u001b[38;5;66;03m# Call the function in our extension module.\u001b[39;00m\n\u001b[0;32m--> 346\u001b[0m \u001b[43m_reproject\u001b[49m\u001b[43m(\u001b[49m\n\u001b[1;32m    347\u001b[0m \u001b[43m    \u001b[49m\u001b[43msource\u001b[49m\u001b[43m,\u001b[49m\u001b[43m \u001b[49m\u001b[43mdestination\u001b[49m\u001b[43m,\u001b[49m\u001b[43m \u001b[49m\u001b[43msrc_transform\u001b[49m\u001b[38;5;241;43m=\u001b[39;49m\u001b[43msrc_transform\u001b[49m\u001b[43m,\u001b[49m\u001b[43m \u001b[49m\u001b[43mgcps\u001b[49m\u001b[38;5;241;43m=\u001b[39;49m\u001b[43mgcps\u001b[49m\u001b[43m,\u001b[49m\u001b[43m \u001b[49m\u001b[43mrpcs\u001b[49m\u001b[38;5;241;43m=\u001b[39;49m\u001b[43mrpcs\u001b[49m\u001b[43m,\u001b[49m\n\u001b[1;32m    348\u001b[0m \u001b[43m    \u001b[49m\u001b[43msrc_crs\u001b[49m\u001b[38;5;241;43m=\u001b[39;49m\u001b[43msrc_crs\u001b[49m\u001b[43m,\u001b[49m\u001b[43m \u001b[49m\u001b[43msrc_nodata\u001b[49m\u001b[38;5;241;43m=\u001b[39;49m\u001b[43msrc_nodata\u001b[49m\u001b[43m,\u001b[49m\u001b[43m \u001b[49m\u001b[43mdst_transform\u001b[49m\u001b[38;5;241;43m=\u001b[39;49m\u001b[43mdst_transform\u001b[49m\u001b[43m,\u001b[49m\n\u001b[1;32m    349\u001b[0m \u001b[43m    \u001b[49m\u001b[43mdst_crs\u001b[49m\u001b[38;5;241;43m=\u001b[39;49m\u001b[43mdst_crs\u001b[49m\u001b[43m,\u001b[49m\u001b[43m \u001b[49m\u001b[43mdst_nodata\u001b[49m\u001b[38;5;241;43m=\u001b[39;49m\u001b[43mdst_nodata\u001b[49m\u001b[43m,\u001b[49m\u001b[43m \u001b[49m\u001b[43mdst_alpha\u001b[49m\u001b[38;5;241;43m=\u001b[39;49m\u001b[43mdst_alpha\u001b[49m\u001b[43m,\u001b[49m\n\u001b[1;32m    350\u001b[0m \u001b[43m    \u001b[49m\u001b[43msrc_alpha\u001b[49m\u001b[38;5;241;43m=\u001b[39;49m\u001b[43msrc_alpha\u001b[49m\u001b[43m,\u001b[49m\u001b[43m \u001b[49m\u001b[43mresampling\u001b[49m\u001b[38;5;241;43m=\u001b[39;49m\u001b[43mresampling\u001b[49m\u001b[43m,\u001b[49m\n\u001b[1;32m    351\u001b[0m \u001b[43m    \u001b[49m\u001b[43minit_dest_nodata\u001b[49m\u001b[38;5;241;43m=\u001b[39;49m\u001b[43minit_dest_nodata\u001b[49m\u001b[43m,\u001b[49m\u001b[43m \u001b[49m\u001b[43mnum_threads\u001b[49m\u001b[38;5;241;43m=\u001b[39;49m\u001b[43mnum_threads\u001b[49m\u001b[43m,\u001b[49m\n\u001b[1;32m    352\u001b[0m \u001b[43m    \u001b[49m\u001b[43mwarp_mem_limit\u001b[49m\u001b[38;5;241;43m=\u001b[39;49m\u001b[43mwarp_mem_limit\u001b[49m\u001b[43m,\u001b[49m\u001b[43m \u001b[49m\u001b[38;5;241;43m*\u001b[39;49m\u001b[38;5;241;43m*\u001b[39;49m\u001b[43mkwargs\u001b[49m\u001b[43m)\u001b[49m\n\u001b[1;32m    354\u001b[0m \u001b[38;5;28;01mreturn\u001b[39;00m destination, dst_transform\n",
      "File \u001b[0;32mrasterio/_warp.pyx:590\u001b[0m, in \u001b[0;36mrasterio._warp._reproject\u001b[0;34m()\u001b[0m\n",
      "File \u001b[0;32m/gpfs/home6/jaerts/mambaforge/envs/wflow_state_flux/lib/python3.10/site-packages/rasterio/dtypes.py:176\u001b[0m, in \u001b[0;36mis_ndarray\u001b[0;34m(array)\u001b[0m\n\u001b[1;32m    172\u001b[0m             \u001b[38;5;28;01mreturn\u001b[39;00m float32\n\u001b[1;32m    173\u001b[0m         \u001b[38;5;28;01mreturn\u001b[39;00m float64\n\u001b[0;32m--> 176\u001b[0m \u001b[38;5;28;01mdef\u001b[39;00m \u001b[38;5;21mis_ndarray\u001b[39m(array):\n\u001b[1;32m    177\u001b[0m     \u001b[38;5;124;03m\"\"\"Check if array is a ndarray.\"\"\"\u001b[39;00m\n\u001b[1;32m    178\u001b[0m     \u001b[38;5;28;01mimport\u001b[39;00m \u001b[38;5;21;01mnumpy\u001b[39;00m \u001b[38;5;28;01mas\u001b[39;00m \u001b[38;5;21;01mnp\u001b[39;00m\n",
      "\u001b[0;31mKeyboardInterrupt\u001b[0m: "
     ]
    }
   ],
   "source": [
    "datasets = []\n",
    "for year in years:\n",
    "    print(year)\n",
    "    \n",
    "    # Read forcing files\n",
    "    forcing_files = glob(f'{FORCING_RAW}/tas/*_{year}*-{year}*')\n",
    "    ds = xr.open_mfdataset(forcing_files)\n",
    "\n",
    "    # Drop redundant variables\n",
    "    ds = ds.drop_vars(['lat','lon','time_bnds', 'x_bnds', 'y_bnds', 'crsOSGB'])\n",
    "\n",
    "    # Set ESPG:27700\n",
    "    espg = '27700'\n",
    "\n",
    "    # Write CRS\n",
    "    ds = ds.rio.write_crs(f\"epsg:{espg}\", inplace=True)\n",
    "\n",
    "    # Reproject\n",
    "    ds = ds.rio.reproject(\"EPSG:4326\")\n",
    "    \n",
    "    # Convert kelvin to celcius\n",
    "    ds = ds - 272.15\n",
    "       \n",
    "    # Rename Coords\n",
    "    ds = ds.rename({'x':'lon','y':'lat'})\n",
    "    ds.encoding['_FillValue'] = -999\n",
    "    ds = ds.where(ds < 10000)\n",
    "    ds = ds.drop_vars(['crsOSGB'])\n",
    "       \n",
    "    datasets.append(ds)"
   ]
  },
  {
   "cell_type": "code",
   "execution_count": 13,
   "id": "b14a500f-bdab-4228-9837-f2323b31cbb9",
   "metadata": {},
   "outputs": [
    {
     "name": "stdout",
     "output_type": "stream",
     "text": [
      "[########################################] | 100% Completed | 101.76 ms\n"
     ]
    }
   ],
   "source": [
    "ds = xr.concat(datasets, dim='time')\n",
    "write_job = ds.to_netcdf(f'{FORCING}/ceh-gear_tas_gb_1km_daily_2000_2017.nc', compute=False)\n",
    "with ProgressBar():\n",
    "    write_job.compute()"
   ]
  },
  {
   "cell_type": "markdown",
   "id": "df02abcd-58e5-4872-a135-9949bb32488f",
   "metadata": {},
   "source": [
    "# Prepare pet"
   ]
  },
  {
   "cell_type": "code",
   "execution_count": 23,
   "id": "db15a1f9-be70-40a7-897c-171d0cb76a22",
   "metadata": {
    "collapsed": true,
    "jupyter": {
     "outputs_hidden": true
    },
    "tags": []
   },
   "outputs": [
    {
     "name": "stdout",
     "output_type": "stream",
     "text": [
      "2000\n",
      "crsOSGB\n",
      "time\n",
      "2001\n",
      "crsOSGB\n",
      "time\n",
      "2002\n",
      "crsOSGB\n",
      "time\n",
      "2003\n",
      "crsOSGB\n",
      "time\n",
      "2004\n",
      "crsOSGB\n",
      "time\n",
      "2005\n",
      "crsOSGB\n",
      "time\n",
      "2006\n",
      "crsOSGB\n",
      "time\n",
      "2007\n",
      "crsOSGB\n",
      "time\n",
      "2008\n",
      "crsOSGB\n",
      "time\n",
      "2009\n",
      "crsOSGB\n",
      "time\n",
      "2010\n",
      "crsOSGB\n",
      "time\n",
      "2011\n",
      "crsOSGB\n",
      "time\n",
      "2012\n",
      "crsOSGB\n",
      "time\n",
      "2013\n",
      "crsOSGB\n",
      "time\n",
      "2014\n",
      "crsOSGB\n",
      "time\n",
      "2015\n",
      "crsOSGB\n",
      "time\n",
      "2016\n",
      "crsOSGB\n",
      "time\n",
      "2017\n",
      "crsOSGB\n",
      "time\n"
     ]
    }
   ],
   "source": [
    "datasets = []\n",
    "\n",
    "for year in years:\n",
    "    print(year)\n",
    "    # Read forcing files\n",
    "    forcing_files = glob(f'{FORCING_RAW}/pet/*_{year}*-{year}*')\n",
    "    ds = xr.open_mfdataset(forcing_files)\n",
    "\n",
    "    # Drop redundant variables\n",
    "    ds = ds.drop_vars(['lat','lon','time_bnds', 'x_bnds', 'y_bnds', 'crsOSGB'])\n",
    "\n",
    "    # Set ESPG:27700\n",
    "    espg = '27700'\n",
    "\n",
    "    # Write CRS\n",
    "    ds = ds.rio.write_crs(f\"epsg:{espg}\", inplace=True)\n",
    "\n",
    "    # Reproject\n",
    "    ds = ds.rio.reproject(\"EPSG:4326\")\n",
    "    # ds = ds.drop_vars(['crsOSGB'])\n",
    "    \n",
    "    # Rechunk dataset\n",
    "    ds = ds.chunk(chunks='auto')\n",
    "    ds = ds.unify_chunks()\n",
    "    \n",
    "    vars_list = list(ds.data_vars)  \n",
    "    for var in vars_list:  \n",
    "        del ds[var].attrs['grid_mapping']\n",
    "    \n",
    "    ds_time = xr.open_dataset(f'{FORCING}/ceh-gear_tas_gb_1km_daily_2000_2017.nc').sel(time=str(year))\n",
    "    ds['time']=ds_time.time\n",
    "    ds = ds.drop_vars(['crsOSGB'])\n",
    "    ds = ds.rename({'x':'lon','y':'lat'})\n",
    "    ds.encoding['_FillValue'] = -999\n",
    "    ds = ds.where(ds < 10000)\n",
    "    datasets.append(ds)"
   ]
  },
  {
   "cell_type": "code",
   "execution_count": 8,
   "id": "b79251b0-070a-4795-8928-5ade2ed52185",
   "metadata": {},
   "outputs": [
    {
     "name": "stdout",
     "output_type": "stream",
     "text": [
      "[########################################] | 100% Completed | 196.62 s\n"
     ]
    }
   ],
   "source": [
    "# Create mm dataset\n",
    "ds = xr.concat(datasets, dim='time')\n",
    "write_job = ds.to_netcdf(f'{FORCING}/ceh-gear_pet_gb_1km_daily_2000_2017.nc', compute=False)\n",
    "with ProgressBar():\n",
    "    write_job.compute()"
   ]
  },
  {
   "cell_type": "code",
   "execution_count": 27,
   "id": "3ef696e7-2979-40a5-a9d0-84a07ab215ad",
   "metadata": {},
   "outputs": [
    {
     "name": "stdout",
     "output_type": "stream",
     "text": [
      "[########################################] | 100% Completed | 264.50 s\n"
     ]
    }
   ],
   "source": [
    "# Create meter dataset\n",
    "ds = xr.concat(datasets, dim='time')\n",
    "ds = ds / 1000\n",
    "write_job = ds.to_netcdf(f'{FORCING}/ceh-gear_pet_gb_1km_daily_2000_2017_meter.nc', compute=False)\n",
    "with ProgressBar():\n",
    "    write_job.compute()"
   ]
  },
  {
   "cell_type": "markdown",
   "id": "6c438e30-d494-407b-85d8-9c5cff6c514c",
   "metadata": {
    "tags": []
   },
   "source": [
    "# Prepare pr"
   ]
  },
  {
   "cell_type": "code",
   "execution_count": 5,
   "id": "7c045020-934e-4620-a682-c9abb5b3deb0",
   "metadata": {
    "collapsed": true,
    "jupyter": {
     "outputs_hidden": true
    },
    "tags": []
   },
   "outputs": [
    {
     "name": "stdout",
     "output_type": "stream",
     "text": [
      "2000\n",
      "time\n",
      "2001\n",
      "time\n",
      "2002\n",
      "time\n",
      "2003\n",
      "time\n",
      "2004\n",
      "time\n",
      "2005\n",
      "time\n",
      "2006\n",
      "time\n",
      "2007\n",
      "time\n",
      "2008\n",
      "time\n",
      "2009\n",
      "time\n",
      "2010\n",
      "time\n",
      "2011\n",
      "time\n",
      "2012\n",
      "time\n",
      "2013\n",
      "time\n",
      "2014\n",
      "time\n",
      "2015\n",
      "time\n",
      "2016\n",
      "time\n",
      "2017\n",
      "time\n"
     ]
    }
   ],
   "source": [
    "datasets = []\n",
    "\n",
    "for year in years:\n",
    "    print(year)\n",
    "    \n",
    "    # Read forcing files\n",
    "    forcing_files = glob(f'{FORCING_RAW}/pr/*{year}*')\n",
    "    \n",
    "    ds = xr.open_mfdataset(forcing_files)\n",
    "\n",
    "    # Select period\n",
    "    # ds = ds.sel(time=slice(start_year, end_year))\n",
    "\n",
    "    # Drop redundant variables\n",
    "    ds = ds.drop_vars(['lat','lon','min_dist','crs'])\n",
    "\n",
    "    # Rename variable\n",
    "    ds = ds.rename({'rainfall_amount':'pr'})\n",
    "\n",
    "    # Change dtype variable\n",
    "    ds = ds.pr.astype(dtype='float32')\n",
    "    ds = ds.to_dataset()\n",
    "\n",
    "    # Set ESPG:27700\n",
    "    espg = '27700'\n",
    "\n",
    "    # Write CRS\n",
    "    ds = ds.rio.write_crs(f\"epsg:{espg}\", inplace=True)\n",
    "    \n",
    "    # Reproject\n",
    "    ds = ds.rio.reproject(\"EPSG:4326\")\n",
    "    ds = ds.drop_vars(['spatial_ref'])\n",
    "    ds = ds.rename({'x':'lon','y':'lat'})\n",
    "    ds.encoding['_FillValue'] = -999\n",
    "    ds = ds.where(ds < 10000)\n",
    "   \n",
    "    datasets.append(ds)"
   ]
  },
  {
   "cell_type": "code",
   "execution_count": 7,
   "id": "6e1b2f66-3245-4cf8-9747-2d8807418279",
   "metadata": {},
   "outputs": [
    {
     "name": "stdout",
     "output_type": "stream",
     "text": [
      "[########################################] | 100% Completed | 105.60 ms\n"
     ]
    }
   ],
   "source": [
    "# Create mm dataset\n",
    "ds = xr.concat(datasets, dim='time')\n",
    "write_job = ds.to_netcdf(f'{FORCING}/ceh-gear_pr_gb_1km_daily_2000_2017.nc', compute=False)\n",
    "with ProgressBar():\n",
    "    write_job.compute()"
   ]
  },
  {
   "cell_type": "code",
   "execution_count": 6,
   "id": "e89ff597-9212-4344-b0f0-31ececac8a6c",
   "metadata": {},
   "outputs": [
    {
     "name": "stdout",
     "output_type": "stream",
     "text": [
      "[########################################] | 100% Completed | 101.88 ms\n"
     ]
    }
   ],
   "source": [
    "# Create meter dataset\n",
    "ds = xr.concat(datasets, dim='time')\n",
    "ds = ds / 1000\n",
    "write_job = ds.to_netcdf(f'{FORCING}/ceh-gear_pr_gb_1km_daily_2000_2017_meter.nc', compute=False)\n",
    "with ProgressBar():\n",
    "    write_job.compute()"
   ]
  }
 ],
 "metadata": {
  "kernelspec": {
   "display_name": "Python 3 (ipykernel)",
   "language": "python",
   "name": "python3"
  },
  "language_info": {
   "codemirror_mode": {
    "name": "ipython",
    "version": 3
   },
   "file_extension": ".py",
   "mimetype": "text/x-python",
   "name": "python",
   "nbconvert_exporter": "python",
   "pygments_lexer": "ipython3",
   "version": "3.10.6"
  }
 },
 "nbformat": 4,
 "nbformat_minor": 5
}
