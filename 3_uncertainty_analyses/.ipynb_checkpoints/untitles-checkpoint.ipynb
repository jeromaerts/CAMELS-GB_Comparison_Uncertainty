{
 "cells": [
  {
   "cell_type": "code",
   "execution_count": 13,
   "id": "48ad9bfe-1796-4eb0-b2ac-d5a71886609e",
   "metadata": {},
   "outputs": [],
   "source": [
    "import pandas as pd"
   ]
  },
  {
   "cell_type": "code",
   "execution_count": 14,
   "id": "8abdf1ec-8868-4e16-a64a-3f133668fd70",
   "metadata": {},
   "outputs": [],
   "source": [
    "from glob import glob"
   ]
  },
  {
   "cell_type": "code",
   "execution_count": 15,
   "id": "b3bb22c7-6ac7-41b8-8ee4-59369384116e",
   "metadata": {},
   "outputs": [],
   "source": [
    "files = glob(\"/gpfs/work1/0/wtrcycle/users/jaerts/camels_uk/results/pcr-globwb/evaluation_period/gumboot/*_gumboot_pcr-globwb_evaluation_simulations.csv\")"
   ]
  },
  {
   "cell_type": "code",
   "execution_count": 19,
   "id": "f322c0b1-59a4-4ce2-bf30-dcbbbdf18b3f",
   "metadata": {},
   "outputs": [],
   "source": [
    "for file in files:\n",
    "    df = pd.read_csv(file)\n",
    "    df = df[['date', 'obs', 'sim']]\n",
    "    df.to_csv(file, index=False)"
   ]
  },
  {
   "cell_type": "code",
   "execution_count": null,
   "id": "cb9d525f-fc1e-47f3-8299-8af68b052261",
   "metadata": {},
   "outputs": [],
   "source": []
  }
 ],
 "metadata": {
  "kernelspec": {
   "display_name": "Python 3 (ipykernel)",
   "language": "python",
   "name": "python3"
  },
  "language_info": {
   "codemirror_mode": {
    "name": "ipython",
    "version": 3
   },
   "file_extension": ".py",
   "mimetype": "text/x-python",
   "name": "python",
   "nbconvert_exporter": "python",
   "pygments_lexer": "ipython3",
   "version": "3.10.6"
  }
 },
 "nbformat": 4,
 "nbformat_minor": 5
}
