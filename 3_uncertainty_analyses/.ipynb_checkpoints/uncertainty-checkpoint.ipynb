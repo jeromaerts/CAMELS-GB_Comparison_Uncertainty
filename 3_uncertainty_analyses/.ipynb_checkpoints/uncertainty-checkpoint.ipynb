{
 "cells": [
  {
   "cell_type": "code",
   "execution_count": 8,
   "id": "1a9d47c8-b85c-45a8-a3ee-fd7bdd28909f",
   "metadata": {},
   "outputs": [],
   "source": [
    "import numpy as np\n",
    "import xarray as xr\n",
    "import pandas as pd\n",
    "\n",
    "from pathlib import Path\n",
    "from glob import glob"
   ]
  },
  {
   "cell_type": "markdown",
   "id": "74653c78-3708-4613-8c54-ac9b14c596d7",
   "metadata": {},
   "source": [
    "## Set Paths and Config"
   ]
  },
  {
   "cell_type": "code",
   "execution_count": 9,
   "id": "d870d144-324c-4ccb-8973-bb82b41ca544",
   "metadata": {},
   "outputs": [],
   "source": [
    "# Set Paths\n",
    "ROOT = Path(\"/gpfs/work1/0/wtrcycle/users/jaerts/camels_uk/\")\n",
    "AUXDATA = Path(f\"{ROOT}/aux_data\")\n",
    "RESULTS = Path(f\"{ROOT}/calibration_results/run_standard/wflow_sbm/\")\n",
    "MODELS = Path(f'{ROOT}/wflow/data/')\n",
    "OBSDIR = Path(f\"{AUXDATA}/CAMELS-GB/data/timeseries/\")\n",
    "\n",
    "# Get available basin IDs wflow_sbm\n",
    "basin_dirs = glob(f'{MODELS}/*')\n",
    "basin_ids = [s.split('/')[-1] for s in basin_dirs]\n",
    "basin_ids.sort()\n",
    "basin_ids = pd.read_csv(\"/gpfs/work1/0/wtrcycle/users/jaerts/camels_uk/results/wflow_sbm/calibration_overview_wflow.csv\").basin_id.to_list()\n",
    "basin_ids.sort()\n",
    "# basin_ids.remove(18017)\n",
    "# basin_ids.remove(18018)\n",
    "# Obs uncertainty file\n",
    "uncertainty_file = f\"{AUXDATA}/CAMELS-GB/data/CAMELS_GB_hydrometry_attributes.csv\"\n",
    "\n",
    "# Basin ids\n",
    "basin_id = '89002'\n",
    "basin_ids.remove(18017)\n",
    "\n",
    "# Time period (drop first year)\n",
    "start_date = '2008-01-01'\n",
    "end_date   = '2015-09-30'"
   ]
  },
  {
   "cell_type": "markdown",
   "id": "97ebdd82-e56e-49e0-a3ab-4da62122c7f2",
   "metadata": {},
   "source": [
    "## Data collection functions"
   ]
  },
  {
   "cell_type": "code",
   "execution_count": 10,
   "id": "e7342523-83d7-42cb-b7a7-5dfbf17676c5",
   "metadata": {},
   "outputs": [],
   "source": [
    "def get_station_location(basin_id):\n",
    "    # Load location file\n",
    "    location_file = f\"{AUXDATA}/CAMELS-GB/data/CAMELS_GB_topographic_attributes.csv\"\n",
    "    df_loc = pd.read_csv(location_file, index_col='gauge_id')\n",
    "    \n",
    "    # Select basin_ids and retrieve lat lon\n",
    "    df_loc = df_loc.loc[int(basin_id)]\n",
    "    latlon = (df_loc.gauge_lat, df_loc.gauge_lon)\n",
    "\n",
    "    return latlon\n",
    "\n",
    "def get_simulations_pcrglobwb(basin_id, start_date, end_date):\n",
    "    \n",
    "    MODELS = Path(f'{ROOT}/pcr-globwb/')\n",
    "    # Load simulation results\n",
    "    sim_file = f\"{MODELS}/uk/netcdf/discharge_dailyTot_output.nc\"\n",
    "    ds_sim = xr.open_dataset(sim_file)\n",
    "\n",
    "    # Get station location\n",
    "    latlon = get_station_location(basin_id)\n",
    "\n",
    "    # Extract station location timeseries\n",
    "    ds_sim = ds_sim.discharge.sel(lat=latlon[0], lon=latlon[1], method='nearest')\n",
    "\n",
    "    # Convert to dataframe\n",
    "    df_sim = ds_sim.to_dataframe()\n",
    "\n",
    "    # Select calibration period (drop first year)\n",
    "    mask = (df_sim.index > start_date) & (df_sim.index <= end_date)\n",
    "    df_sim = df_sim.loc[mask]\n",
    "\n",
    "    # Rename column\n",
    "    df_sim = df_sim.drop(columns=['lat','lon'])\n",
    "    df_sim = df_sim.rename(columns={'discharge': f'sim'})\n",
    "\n",
    "    return df_sim\n",
    "\n",
    "def get_simulations_wflow(basin_id, start_date, end_date):\n",
    "    dataframes = []\n",
    "\n",
    "    # Set simulation file\n",
    "    sim_file = glob(f'{MODELS}/{basin_id}/evaluation/output.csv')[0]\n",
    "\n",
    "    # Load simulation dataframe\n",
    "    df = pd.read_csv(sim_file, parse_dates=True, index_col='time')\n",
    "\n",
    "    # Select calibration period (drop first year)\n",
    "    mask = (df.index > start_date) & (df.index <= end_date)\n",
    "    df = df.loc[mask]\n",
    "\n",
    "    # Rename column\n",
    "    df = df.rename(columns={'Q_1': f'evaluation'})\n",
    "\n",
    "    return df\n",
    "\n",
    "def get_observations(basin_id, start_date, end_date):\n",
    "    # Set observation file\n",
    "    obs_file = glob(f'{OBSDIR}/*_{basin_id}_*.csv')[0]\n",
    "    \n",
    "    # Load observation dataframe\n",
    "    df_obs = pd.read_csv(obs_file, parse_dates=True, index_col='date')\n",
    "    \n",
    "    # Select calibration period (drop first year)\n",
    "    mask = (df_obs.index > start_date) & (df_obs.index <= end_date)\n",
    "    df_obs = df_obs.loc[mask]\n",
    "    \n",
    "    return df_obs"
   ]
  },
  {
   "cell_type": "markdown",
   "id": "18dbd612-d2fc-4f05-b956-06ef5ff536bf",
   "metadata": {},
   "source": [
    "## Load files"
   ]
  },
  {
   "cell_type": "code",
   "execution_count": 11,
   "id": "6841c34c-8474-43f8-a0cb-1af8efb4a641",
   "metadata": {
    "tags": []
   },
   "outputs": [],
   "source": [
    "df_pcrglob = get_simulations_pcrglobwb(basin_id, start_date, end_date)\n",
    "df_wflow = get_simulations_wflow(basin_id, start_date, end_date)\n",
    "df_obs = get_observations(basin_id, start_date, end_date)\n",
    "df_uncertainty = pd.read_csv(uncertainty_file, index_col='gauge_id').loc[int(basin_id)]"
   ]
  },
  {
   "cell_type": "markdown",
   "id": "1bffe6b1-c334-4bce-a0e9-8e93349307ea",
   "metadata": {
    "tags": []
   },
   "source": [
    "## Set percentile categories"
   ]
  },
  {
   "cell_type": "code",
   "execution_count": 12,
   "id": "91636bb2-54d7-4857-af7b-9defee16e3dc",
   "metadata": {},
   "outputs": [],
   "source": [
    "# Set flow categories based on percentiles\n",
    "flow_categories = {'low_flow': (5, 25),\n",
    "                   'mean_flow': (25, 75),\n",
    "                   'high_flow': (75, 95)}"
   ]
  },
  {
   "cell_type": "markdown",
   "id": "260a0165-2657-451a-bb94-f4abd2acd6f3",
   "metadata": {},
   "source": [
    "## Calculate mean observation uncertainty per flow category"
   ]
  },
  {
   "cell_type": "code",
   "execution_count": null,
   "id": "402ff831-d019-490a-b2f3-aeba53e9d2f0",
   "metadata": {
    "tags": []
   },
   "outputs": [
    {
     "name": "stdout",
     "output_type": "stream",
     "text": [
      "1001\n",
      "0.0321449841827768\n",
      "0.08337320733427361\n",
      "0.27191954805996477\n",
      "2001\n",
      "nan\n",
      "nan\n",
      "nan\n",
      "2002\n",
      "nan\n",
      "nan\n",
      "nan\n",
      "3003\n",
      "0.1600054222319859\n",
      "0.3749638983768525\n",
      "1.5339756276501768\n",
      "4001\n",
      "1.3375166934628977\n",
      "2.1585838300353353\n",
      "3.8845011201413433\n",
      "4003\n",
      "nan\n",
      "nan\n",
      "nan\n",
      "4005\n",
      "0.13205861764705878\n",
      "0.2987021758474577\n",
      "0.6355378091872791\n",
      "4006\n"
     ]
    }
   ],
   "source": [
    "\n",
    "# basin_ids = ['15007']\n",
    "for basin_id in basin_ids:\n",
    "    print(basin_id)\n",
    "    \n",
    "    df_pcrglob = get_simulations_pcrglobwb(basin_id, start_date, end_date)\n",
    "    df_wflow = get_simulations_wflow(basin_id, start_date, end_date)\n",
    "    df_obs = get_observations(basin_id, start_date, end_date)\n",
    "    df_uncertainty = pd.read_csv(uncertainty_file, index_col='gauge_id').loc[int(basin_id)]\n",
    "\n",
    "    # Get Rows with observation nan values\n",
    "    nan_rows = df_obs[df_obs['discharge_vol'].isna()]\n",
    "\n",
    "    # Remove rows that match observation nan rows\n",
    "    df_obs = df_obs[~df_obs.index.isin(nan_rows.index.to_list())]\n",
    "    df_pcrglob = df_pcrglob[~df_pcrglob.index.isin(nan_rows.index.to_list())]\n",
    "    df_wflow = df_wflow[~df_wflow.index.isin(nan_rows.index.to_list())]\n",
    "\n",
    "\n",
    "\n",
    "    # Create empty dataframe and lists\n",
    "    df = pd.DataFrame()\n",
    "    basins = []\n",
    "    categories = []\n",
    "    percentiles = []\n",
    "\n",
    "    means_obs_uncertainties = []\n",
    "    stds_obs_uncertainties = []\n",
    "    means_obs = []\n",
    "    means_wflow = []\n",
    "    means_pcrglob = [] \n",
    "    sampling_means = []\n",
    "\n",
    "    stds_obs = []\n",
    "    stds_wflow = []\n",
    "    stds_pcrglob = []\n",
    "    sampling_stds = []\n",
    "    obs_difference_stds = []\n",
    "\n",
    "    largests = []\n",
    "\n",
    "    for category in flow_categories:\n",
    "        # Append basin id and flow category\n",
    "        basins.append(basin_id)\n",
    "        categories.append(category)\n",
    "\n",
    "        # Get lower and upper percentiles per category\n",
    "        lower_perc = flow_categories[category][0]\n",
    "        upper_perc = flow_categories[category][1]\n",
    "        percentiles.append(flow_categories[category])\n",
    "\n",
    "        # WE NEED TO USE THE OBSERVATION UNCERTAINTY STD\n",
    "        # GET OBSERVATION UNCERTAINTY STD\n",
    "        # Take the mean of the upper and lower bound uncertainty per percentile\n",
    "        lower_perc_flow_uncertainty = np.mean([df_uncertainty[f'q{lower_perc}_uncert_upper'], \n",
    "                                             abs(df_uncertainty[f'q{lower_perc}_uncert_lower'])])\n",
    "        upper_perc_flow_uncertainty = np.mean([df_uncertainty[f'q{upper_perc}_uncert_upper'], \n",
    "                                             abs(df_uncertainty[f'q{upper_perc}_uncert_lower'])])\n",
    "        # TEMP OBSERVATION UNCERTAINTY STD\n",
    "        lower_perc_flow_uncertainty = lower_perc_flow_uncertainty # ADJUST\n",
    "        upper_perc_flow_uncertainty = upper_perc_flow_uncertainty # ADJUST\n",
    "\n",
    "        # Calculate mean observation uncertainty per flow category\n",
    "        means_obs_uncertainties.append(np.mean([lower_perc_flow_uncertainty,upper_perc_flow_uncertainty]))\n",
    "\n",
    "        # Calculate observation and simulation percentiles\n",
    "        lower_percentile_obs = np.percentile(df_obs.discharge_vol,lower_perc)\n",
    "        upper_percentile_obs = np.percentile(df_obs.discharge_vol,upper_perc)\n",
    "\n",
    "        lower_percentile_wflow = np.percentile(df_wflow.evaluation,lower_perc)\n",
    "        upper_percentile_wflow = np.percentile(df_wflow.evaluation,upper_perc)\n",
    "\n",
    "        lower_percentile_pcrglob = np.percentile(df_pcrglob.sim,lower_perc)\n",
    "        upper_percentile_pcrglob = np.percentile(df_pcrglob.sim,upper_perc)\n",
    "\n",
    "        # Retrieve distributions between lower and upper percentiles \n",
    "        dist_obs = df_obs.discharge_vol[(df_obs.discharge_vol >= lower_percentile_obs) & (df_obs.discharge_vol <= upper_percentile_obs)].values\n",
    "        dist_wflow = df_wflow[(df_wflow.evaluation >= lower_percentile_wflow) & (df_wflow.evaluation <= upper_percentile_wflow)].values\n",
    "        dist_pcrglob = df_pcrglob[(df_pcrglob.sim >= lower_percentile_pcrglob) & (df_pcrglob.sim <= upper_percentile_pcrglob)].values\n",
    "\n",
    "        # Calculate the distribution mean\n",
    "        dist_mean_obs = dist_obs.mean()\n",
    "        dist_mean_wflow = dist_wflow.mean()\n",
    "        dist_mean_pcrglob = dist_pcrglob.mean()\n",
    "\n",
    "        means_obs.append(dist_mean_obs)\n",
    "        means_wflow.append(dist_mean_wflow)\n",
    "        means_pcrglob.append(dist_mean_pcrglob)\n",
    "\n",
    "        # The mean of the sampling distibution of the difference in sample means\n",
    "        sampling_means.append(abs(dist_mean_wflow - dist_mean_pcrglob))\n",
    "\n",
    "        # Calculate the distribution standard deviation\n",
    "        std_obs = dist_obs.std()\n",
    "        std_wflow = dist_wflow.std()\n",
    "        std_pcrglob = dist_pcrglob.std()\n",
    "\n",
    "        stds_obs.append(std_obs)\n",
    "        stds_wflow.append(std_wflow)\n",
    "        stds_pcrglob.append(std_pcrglob)\n",
    "\n",
    "        ## bereken totale observatie distributie (incl. onzeker) STD = wortel(OBS_STD^2 + uncertainty_STD^2)\n",
    "        ## bereken totale observatie distributie difference std = wortel(2) * wortel(OBS_STD^2 + uncertainty_STD^2)\n",
    "        # WARNING!!!! TEMP INSERT CORRECT UNCERTAINTY STD\n",
    "        # Calculate observation uncertainty std as absolute values\n",
    "        # Lets say for now that std is half the upper limit\n",
    "\n",
    "        #uncertainty_std =:\n",
    "        #a = 0.392967 * 0.1628 # opzoeken wanneer wortel\n",
    "        #std = np.sqrt(a) # Controleer of dit klopt\n",
    "        std_obs_uncertainty_percentage = upper_perc_flow_uncertainty/2 # %\n",
    "        std_obs_uncertainty = (std_obs_uncertainty_percentage/100) * dist_mean_obs\n",
    "        \n",
    "        \n",
    "        #std_obs_uncertainty = np.sqrt(std_obs_uncertainty)\n",
    "        print(std_obs_uncertainty)\n",
    "        stds_obs_uncertainties.append(std_obs_uncertainty)\n",
    "\n",
    "        # Calculate observation difference std\n",
    "        obs_difference_std = np.sqrt(2) * (np.sqrt(np.square(std_obs) + np.square(std_obs_uncertainty)))\n",
    "        obs_difference_stds.append(obs_difference_std)\n",
    "\n",
    "        # std_obs_uncertainty_total = (1/std_obs_uncertainty_total) * std_obs\n",
    "        # std_obs_uncertainty_diff = np.sqrt(2) * std_obs_uncertainty_total\n",
    "        # obs_difference_stds.append(std_obs_uncertainty_diff)\n",
    "\n",
    "        # Calculate the variance of the sampling distribution of the difference in sample means\n",
    "        # sample_size = 100\n",
    "        # variance_wflow = np.square(std_wflow)/sample_size\n",
    "        # variance_pcrglob = np.square(std_pcrglob)/sample_size\n",
    "        # sampling_variance = variance_wflow + variance_pcrglob\n",
    "\n",
    "        # Calulate standard deviation of the sampling distribution of the difference in sample means\n",
    "        # Klopt!\n",
    "        sampling_std = np.sqrt(np.square(std_wflow) + np.square(std_pcrglob))\n",
    "        sampling_stds.append(sampling_std)\n",
    "\n",
    "        if sampling_std > obs_difference_std:\n",
    "            largests.append('model uncertainty')\n",
    "        else:\n",
    "            largests.append('observation uncertainty')\n",
    "\n",
    "    # Create dataframe\n",
    "    df['basin_id'] = basins\n",
    "    df['flow_category'] = categories\n",
    "    df['percentiles'] = percentiles\n",
    "    \n",
    "    df['obs_mean'] = means_obs\n",
    "    df['obs_std'] = stds_obs\n",
    "\n",
    "    df['obs_uncertainty_percentage'] = means_obs_uncertainties\n",
    "    df['obs_uncertainty_STD'] = stds_obs_uncertainties # AANPASSEN!!!\n",
    "\n",
    "    df['wflow_mean'] = means_wflow\n",
    "    df['wflow_std'] = stds_wflow\n",
    "\n",
    "    df['pcrglob_mean'] = means_pcrglob\n",
    "    df['pcrglob_std'] = stds_pcrglob\n",
    "\n",
    "    # df['model_difference_mean'] = sampling_means\n",
    "    df['modelling_difference_std'] = sampling_stds\n",
    "    df['obs_difference_std'] = obs_difference_stds\n",
    "\n",
    "    df['largest_diff'] = largests\n",
    "    df.to_csv(f'/gpfs/work1/0/wtrcycle/users/jaerts/camels_uk/results/uncertainty/{basin_id}_uncertainty_TEMP.csv')"
   ]
  },
  {
   "cell_type": "markdown",
   "id": "1da3b9a0-e615-454d-8011-8889b7ec0f0f",
   "metadata": {},
   "source": [
    "# Create flows only dataframe"
   ]
  },
  {
   "cell_type": "code",
   "execution_count": null,
   "id": "263c3e59-9156-49a3-98f1-639b92a94b02",
   "metadata": {},
   "outputs": [],
   "source": [
    "low_flows = []\n",
    "average_flows = []\n",
    "high_flows = []\n",
    "\n",
    "for basin_id in basin_ids:\n",
    "    \n",
    "    df = pd.read_csv(f'/gpfs/work1/0/wtrcycle/users/jaerts/camels_uk/results/uncertainty/{basin_id}_uncertainty_TEMP.csv')\n",
    "    \n",
    "    low_flows.append(df.loc[0].to_frame().T)\n",
    "    average_flows.append(df.loc[1].to_frame().T)\n",
    "    high_flows.append(df.loc[2].to_frame().T)\n",
    "\n",
    "low = pd.concat(low_flows)\n",
    "average = pd.concat(average_flows)\n",
    "high = pd.concat(high_flows)\n",
    "\n",
    "low.to_csv(\"/gpfs/work1/0/wtrcycle/users/jaerts/camels_uk/results/low_flow_uncertainties_TEMP.csv\")\n",
    "average.to_csv(\"/gpfs/work1/0/wtrcycle/users/jaerts/camels_uk/results/average_flow_uncertainties_TEMP.csv\")\n",
    "high.to_csv(\"/gpfs/work1/0/wtrcycle/users/jaerts/camels_uk/results/high_flow_uncertainties_TEMP.csv\")"
   ]
  },
  {
   "cell_type": "code",
   "execution_count": null,
   "id": "59d96a25-31d9-41ed-978f-566fe9e18ac9",
   "metadata": {},
   "outputs": [],
   "source": []
  },
  {
   "cell_type": "markdown",
   "id": "e2bfd7b2-2aa1-4d33-9445-271f1cc46916",
   "metadata": {},
   "source": [
    "# Create overview per flow category"
   ]
  },
  {
   "cell_type": "code",
   "execution_count": null,
   "id": "cd50c55b-c54c-421c-ab04-60bffae9edf6",
   "metadata": {},
   "outputs": [],
   "source": [
    "files = glob('/gpfs/work1/0/wtrcycle/users/jaerts/camels_uk/results/uncertainty/*TEMP.csv')"
   ]
  },
  {
   "cell_type": "code",
   "execution_count": null,
   "id": "512ffa0e-7e79-41fb-bcbf-b075eea36ace",
   "metadata": {},
   "outputs": [],
   "source": [
    "# Set flow categories based on percentiles\n",
    "flow_categories = ['low_flow',\n",
    "                   'mean_flow',\n",
    "                   'high_flow']\n",
    "\n",
    "\n",
    "\n",
    "for category in flow_categories:\n",
    "    dataframes = []\n",
    "    for file in files:\n",
    "        df_out = pd.DataFrame()\n",
    "        basins = []\n",
    "        results = []\n",
    "        differences = []\n",
    "        \n",
    "        df = pd.read_csv(file, index_col='flow_category')\n",
    "        df = df.loc[category]\n",
    "        differences.append(abs(df.model_difference_std - df.obs_difference_std))\n",
    "        basins.append(df.basin_id)\n",
    "        results.append(df.largest_diff)\n",
    "        \n",
    "        df_out['basin_id'] = basins\n",
    "        df_out['largest_diff'] = results\n",
    "        df_out['difference'] = differences\n",
    "        dataframes.append(df_out)\n",
    "\n",
    "    df = pd.concat(dataframes)\n",
    "    df.to_csv(f'/gpfs/work1/0/wtrcycle/users/jaerts/camels_uk/results/{category}_uncertainty_overview.csv')"
   ]
  },
  {
   "cell_type": "code",
   "execution_count": null,
   "id": "fcb7e64d-ba74-4802-80ca-dcf1f079cbd7",
   "metadata": {},
   "outputs": [],
   "source": []
  },
  {
   "cell_type": "code",
   "execution_count": null,
   "id": "97998c01-86e3-4da5-b1eb-b411ba309d40",
   "metadata": {},
   "outputs": [],
   "source": []
  },
  {
   "cell_type": "code",
   "execution_count": null,
   "id": "e58e67a0-03e0-4894-a94e-a5fecf8c78f7",
   "metadata": {},
   "outputs": [],
   "source": []
  },
  {
   "cell_type": "code",
   "execution_count": null,
   "id": "b395471f-4528-47b0-bf70-ccebd5ba4313",
   "metadata": {},
   "outputs": [],
   "source": []
  },
  {
   "cell_type": "code",
   "execution_count": null,
   "id": "749ee210-1ef4-4a12-9c9a-2d1e64cd8206",
   "metadata": {},
   "outputs": [],
   "source": []
  },
  {
   "cell_type": "code",
   "execution_count": null,
   "id": "684ac863-cc36-4d68-b41a-583fb1baf43f",
   "metadata": {},
   "outputs": [],
   "source": []
  },
  {
   "cell_type": "code",
   "execution_count": null,
   "id": "67a9c0b3-c436-4e83-8206-abbbadf7c63b",
   "metadata": {},
   "outputs": [],
   "source": []
  },
  {
   "cell_type": "code",
   "execution_count": null,
   "id": "4373ee6a-ff4a-45c2-8d79-dfc7106c3813",
   "metadata": {},
   "outputs": [],
   "source": []
  },
  {
   "cell_type": "code",
   "execution_count": null,
   "id": "1c218e79-18d2-4c69-90aa-48407ded0e58",
   "metadata": {},
   "outputs": [],
   "source": []
  },
  {
   "cell_type": "code",
   "execution_count": null,
   "id": "8c369265-0fbf-4c40-acbf-2e55eb0fcfd8",
   "metadata": {},
   "outputs": [],
   "source": []
  },
  {
   "cell_type": "code",
   "execution_count": 203,
   "id": "b4be6820-1669-40b3-84a1-e2620e17d68b",
   "metadata": {},
   "outputs": [
    {
     "data": {
      "text/plain": [
       "1.2658688280979158"
      ]
     },
     "execution_count": 203,
     "metadata": {},
     "output_type": "execute_result"
    }
   ],
   "source": [
    "abs(df.model_difference_std - df.obs_difference_std)"
   ]
  },
  {
   "cell_type": "code",
   "execution_count": 200,
   "id": "fcdda97c-4206-4ae5-9e5e-b52b939f3528",
   "metadata": {},
   "outputs": [],
   "source": [
    "        df = pd.read_csv(file, index_col='flow_category')\n",
    "        df = df.loc[category]"
   ]
  },
  {
   "cell_type": "code",
   "execution_count": 201,
   "id": "a8cfb6c7-6b27-424b-a540-98c03b21de1e",
   "metadata": {},
   "outputs": [
    {
     "data": {
      "text/plain": [
       "Unnamed: 0                                     2\n",
       "basin_id                                   62001\n",
       "percentiles                             (75, 95)\n",
       "obs_uncertainty                            10.33\n",
       "obs_uncertainty_STD                     0.736413\n",
       "obs_mean                               10.174558\n",
       "obs_std                                 3.468149\n",
       "wflow_mean                              12.14213\n",
       "wflow_std                               3.666309\n",
       "pcrglob_mean                            9.353143\n",
       "pcrglob_std                             0.779145\n",
       "model_difference_mean                   2.788987\n",
       "model_difference_std                    3.748184\n",
       "obs_difference_std                      5.014053\n",
       "largest_diff             observation uncertainty\n",
       "Name: high_flow, dtype: object"
      ]
     },
     "execution_count": 201,
     "metadata": {},
     "output_type": "execute_result"
    }
   ],
   "source": [
    "df"
   ]
  },
  {
   "cell_type": "code",
   "execution_count": null,
   "id": "5129ddc2-c571-41d7-9582-38425eee06fb",
   "metadata": {},
   "outputs": [],
   "source": []
  },
  {
   "cell_type": "code",
   "execution_count": 188,
   "id": "07cd4b5e-6b79-44b6-bb90-2315b0a5cd01",
   "metadata": {},
   "outputs": [],
   "source": [
    "import geopandas as gpd\n",
    "import pandas as pd\n",
    "import numpy as np\n",
    "\n",
    "import cartopy\n",
    "import cartopy.crs as ccrs\n",
    "import seaborn as sns\n",
    "import matplotlib\n",
    "import matplotlib.gridspec as gridspec\n",
    "import matplotlib.pyplot as plt\n",
    "\n",
    "from pathlib import Path\n",
    "from glob import glob"
   ]
  },
  {
   "cell_type": "code",
   "execution_count": 189,
   "id": "1ee847c9-3a16-4d19-b927-d6732e46ba5c",
   "metadata": {},
   "outputs": [],
   "source": [
    "# Set Paths\n",
    "ROOT = Path(\"/gpfs/work1/0/wtrcycle/users/jaerts/camels_uk/\")\n",
    "AUXDATA = Path(f\"{ROOT}/aux_data\")\n",
    "RESULTS = Path(f\"{ROOT}/calibration_results/run_standard/wflow_sbm/\")\n",
    "\n",
    "# Set Config\n",
    "basins_shp = f\"{AUXDATA}/CAMELS-GB/data/CAMELS_GB_catchment_boundaries/CAMELS_GB_catchment_boundaries.shp\"\n",
    "results_csv = f\"{ROOT}/results/wflow_sbm/calibration_overview_wflow.csv\""
   ]
  },
  {
   "cell_type": "code",
   "execution_count": 207,
   "id": "d0116e39-a502-4340-9c7e-73327abd3e01",
   "metadata": {},
   "outputs": [
    {
     "name": "stderr",
     "output_type": "stream",
     "text": [
      "/gpfs/home6/jaerts/mambaforge/envs/wflow_state_flux/lib/python3.10/site-packages/pyproj/crs/crs.py:130: FutureWarning: '+init=<authority>:<code>' syntax is deprecated. '<authority>:<code>' is the preferred initialization method. When making the change, be mindful of axis order changes: https://pyproj4.github.io/pyproj/stable/gotchas.html#axis-order-changes-in-proj-6\n",
      "  in_crs_string = _prepare_from_proj_string(in_crs_string)\n",
      "/scratch-local/jaerts.1515986/ipykernel_1746335/1606819374.py:8: UserWarning: Geometry is in a geographic CRS. Results from 'centroid' are likely incorrect. Use 'GeoSeries.to_crs()' to re-project geometries to a projected CRS before this operation.\n",
      "\n",
      "  gdf['centroid'] = gdf.centroid.to_crs(\"EPSG:4326\")\n"
     ]
    }
   ],
   "source": [
    "# Read shapefile\n",
    "gdf = gpd.read_file(basins_shp)\n",
    "gdf = gdf.set_index('ID_STRING')\n",
    "gdf.index = gdf.index.astype(int)\n",
    "\n",
    "# Reproject shapefile\n",
    "gdf = gdf.to_crs({'init':'epsg:4326'})\n",
    "gdf['centroid'] = gdf.centroid.to_crs(\"EPSG:4326\")"
   ]
  },
  {
   "cell_type": "code",
   "execution_count": 212,
   "id": "62f938ed-c98b-4dab-afd8-b78937b2288b",
   "metadata": {},
   "outputs": [
    {
     "data": {
      "text/html": [
       "<div>\n",
       "<style scoped>\n",
       "    .dataframe tbody tr th:only-of-type {\n",
       "        vertical-align: middle;\n",
       "    }\n",
       "\n",
       "    .dataframe tbody tr th {\n",
       "        vertical-align: top;\n",
       "    }\n",
       "\n",
       "    .dataframe thead th {\n",
       "        text-align: right;\n",
       "    }\n",
       "</style>\n",
       "<table border=\"1\" class=\"dataframe\">\n",
       "  <thead>\n",
       "    <tr style=\"text-align: right;\">\n",
       "      <th></th>\n",
       "      <th>ID</th>\n",
       "      <th>SOURCE</th>\n",
       "      <th>VERSION</th>\n",
       "      <th>EXPORTED</th>\n",
       "      <th>geometry</th>\n",
       "      <th>centroid</th>\n",
       "      <th>Unnamed: 0</th>\n",
       "      <th>largest_diff</th>\n",
       "      <th>difference</th>\n",
       "    </tr>\n",
       "  </thead>\n",
       "  <tbody>\n",
       "    <tr>\n",
       "      <th>10003</th>\n",
       "      <td>10003.0</td>\n",
       "      <td>National River Flow Archive</td>\n",
       "      <td>1.3</td>\n",
       "      <td>2018-02-12</td>\n",
       "      <td>POLYGON ((-2.08934 57.36358, -2.08934 57.36313...</td>\n",
       "      <td>POINT (-2.29643 57.42846)</td>\n",
       "      <td>0</td>\n",
       "      <td>observation uncertainty</td>\n",
       "      <td>0.581922</td>\n",
       "    </tr>\n",
       "    <tr>\n",
       "      <th>1001</th>\n",
       "      <td>1001.0</td>\n",
       "      <td>National River Flow Archive</td>\n",
       "      <td>1.3</td>\n",
       "      <td>2018-02-12</td>\n",
       "      <td>POLYGON ((-3.26667 58.47605, -3.26665 58.47560...</td>\n",
       "      <td>POINT (-3.34474 58.45126)</td>\n",
       "      <td>0</td>\n",
       "      <td>observation uncertainty</td>\n",
       "      <td>0.576727</td>\n",
       "    </tr>\n",
       "    <tr>\n",
       "      <th>101002</th>\n",
       "      <td>101002.0</td>\n",
       "      <td>National River Flow Archive</td>\n",
       "      <td>1.3</td>\n",
       "      <td>2018-02-12</td>\n",
       "      <td>POLYGON ((-1.28820 50.69059, -1.28821 50.69014...</td>\n",
       "      <td>POINT (-1.29629 50.65127)</td>\n",
       "      <td>0</td>\n",
       "      <td>observation uncertainty</td>\n",
       "      <td>0.084222</td>\n",
       "    </tr>\n",
       "    <tr>\n",
       "      <th>101005</th>\n",
       "      <td>101005.0</td>\n",
       "      <td>National River Flow Archive</td>\n",
       "      <td>1.3</td>\n",
       "      <td>2018-02-12</td>\n",
       "      <td>POLYGON ((-1.24993 50.64898, -1.24994 50.64876...</td>\n",
       "      <td>POINT (-1.26961 50.61275)</td>\n",
       "      <td>0</td>\n",
       "      <td>model uncertainty</td>\n",
       "      <td>0.036107</td>\n",
       "    </tr>\n",
       "    <tr>\n",
       "      <th>102001</th>\n",
       "      <td>102001.0</td>\n",
       "      <td>National River Flow Archive</td>\n",
       "      <td>1.3</td>\n",
       "      <td>2018-02-12</td>\n",
       "      <td>POLYGON ((-4.35659 53.26534, -4.35657 53.26489...</td>\n",
       "      <td>POINT (-4.35789 53.29947)</td>\n",
       "      <td>0</td>\n",
       "      <td>observation uncertainty</td>\n",
       "      <td>0.270696</td>\n",
       "    </tr>\n",
       "    <tr>\n",
       "      <th>...</th>\n",
       "      <td>...</td>\n",
       "      <td>...</td>\n",
       "      <td>...</td>\n",
       "      <td>...</td>\n",
       "      <td>...</td>\n",
       "      <td>...</td>\n",
       "      <td>...</td>\n",
       "      <td>...</td>\n",
       "      <td>...</td>\n",
       "    </tr>\n",
       "    <tr>\n",
       "      <th>93001</th>\n",
       "      <td>93001.0</td>\n",
       "      <td>National River Flow Archive</td>\n",
       "      <td>1.3</td>\n",
       "      <td>2018-02-12</td>\n",
       "      <td>POLYGON ((-5.42975 57.42943, -5.43183 57.42937...</td>\n",
       "      <td>POINT (-5.30263 57.48551)</td>\n",
       "      <td>0</td>\n",
       "      <td>observation uncertainty</td>\n",
       "      <td>1.301278</td>\n",
       "    </tr>\n",
       "    <tr>\n",
       "      <th>94001</th>\n",
       "      <td>94001.0</td>\n",
       "      <td>National River Flow Archive</td>\n",
       "      <td>1.3</td>\n",
       "      <td>2018-02-12</td>\n",
       "      <td>POLYGON ((-5.59957 57.76181, -5.59915 57.76182...</td>\n",
       "      <td>POINT (-5.36541 57.64161)</td>\n",
       "      <td>0</td>\n",
       "      <td>observation uncertainty</td>\n",
       "      <td>0.650016</td>\n",
       "    </tr>\n",
       "    <tr>\n",
       "      <th>95001</th>\n",
       "      <td>95001.0</td>\n",
       "      <td>National River Flow Archive</td>\n",
       "      <td>1.3</td>\n",
       "      <td>2018-02-12</td>\n",
       "      <td>POLYGON ((-5.15292 58.17413, -5.15249 58.17414...</td>\n",
       "      <td>POINT (-5.00885 58.15309)</td>\n",
       "      <td>0</td>\n",
       "      <td>model uncertainty</td>\n",
       "      <td>0.553394</td>\n",
       "    </tr>\n",
       "    <tr>\n",
       "      <th>96001</th>\n",
       "      <td>96001.0</td>\n",
       "      <td>National River Flow Archive</td>\n",
       "      <td>1.3</td>\n",
       "      <td>2018-02-12</td>\n",
       "      <td>POLYGON ((-3.90348 58.47918, -3.90176 58.47921...</td>\n",
       "      <td>POINT (-3.89609 58.40205)</td>\n",
       "      <td>0</td>\n",
       "      <td>observation uncertainty</td>\n",
       "      <td>0.357165</td>\n",
       "    </tr>\n",
       "    <tr>\n",
       "      <th>96002</th>\n",
       "      <td>96002.0</td>\n",
       "      <td>National River Flow Archive</td>\n",
       "      <td>1.3</td>\n",
       "      <td>2018-02-12</td>\n",
       "      <td>POLYGON ((-4.20798 58.48014, -4.20627 58.48017...</td>\n",
       "      <td>POINT (-4.37443 58.29876)</td>\n",
       "      <td>0</td>\n",
       "      <td>observation uncertainty</td>\n",
       "      <td>2.058978</td>\n",
       "    </tr>\n",
       "  </tbody>\n",
       "</table>\n",
       "<p>496 rows × 9 columns</p>\n",
       "</div>"
      ],
      "text/plain": [
       "              ID                       SOURCE VERSION    EXPORTED  \\\n",
       "10003    10003.0  National River Flow Archive     1.3  2018-02-12   \n",
       "1001      1001.0  National River Flow Archive     1.3  2018-02-12   \n",
       "101002  101002.0  National River Flow Archive     1.3  2018-02-12   \n",
       "101005  101005.0  National River Flow Archive     1.3  2018-02-12   \n",
       "102001  102001.0  National River Flow Archive     1.3  2018-02-12   \n",
       "...          ...                          ...     ...         ...   \n",
       "93001    93001.0  National River Flow Archive     1.3  2018-02-12   \n",
       "94001    94001.0  National River Flow Archive     1.3  2018-02-12   \n",
       "95001    95001.0  National River Flow Archive     1.3  2018-02-12   \n",
       "96001    96001.0  National River Flow Archive     1.3  2018-02-12   \n",
       "96002    96002.0  National River Flow Archive     1.3  2018-02-12   \n",
       "\n",
       "                                                 geometry  \\\n",
       "10003   POLYGON ((-2.08934 57.36358, -2.08934 57.36313...   \n",
       "1001    POLYGON ((-3.26667 58.47605, -3.26665 58.47560...   \n",
       "101002  POLYGON ((-1.28820 50.69059, -1.28821 50.69014...   \n",
       "101005  POLYGON ((-1.24993 50.64898, -1.24994 50.64876...   \n",
       "102001  POLYGON ((-4.35659 53.26534, -4.35657 53.26489...   \n",
       "...                                                   ...   \n",
       "93001   POLYGON ((-5.42975 57.42943, -5.43183 57.42937...   \n",
       "94001   POLYGON ((-5.59957 57.76181, -5.59915 57.76182...   \n",
       "95001   POLYGON ((-5.15292 58.17413, -5.15249 58.17414...   \n",
       "96001   POLYGON ((-3.90348 58.47918, -3.90176 58.47921...   \n",
       "96002   POLYGON ((-4.20798 58.48014, -4.20627 58.48017...   \n",
       "\n",
       "                         centroid  Unnamed: 0             largest_diff  \\\n",
       "10003   POINT (-2.29643 57.42846)           0  observation uncertainty   \n",
       "1001    POINT (-3.34474 58.45126)           0  observation uncertainty   \n",
       "101002  POINT (-1.29629 50.65127)           0  observation uncertainty   \n",
       "101005  POINT (-1.26961 50.61275)           0        model uncertainty   \n",
       "102001  POINT (-4.35789 53.29947)           0  observation uncertainty   \n",
       "...                           ...         ...                      ...   \n",
       "93001   POINT (-5.30263 57.48551)           0  observation uncertainty   \n",
       "94001   POINT (-5.36541 57.64161)           0  observation uncertainty   \n",
       "95001   POINT (-5.00885 58.15309)           0        model uncertainty   \n",
       "96001   POINT (-3.89609 58.40205)           0  observation uncertainty   \n",
       "96002   POINT (-4.37443 58.29876)           0  observation uncertainty   \n",
       "\n",
       "        difference  \n",
       "10003     0.581922  \n",
       "1001      0.576727  \n",
       "101002    0.084222  \n",
       "101005    0.036107  \n",
       "102001    0.270696  \n",
       "...            ...  \n",
       "93001     1.301278  \n",
       "94001     0.650016  \n",
       "95001     0.553394  \n",
       "96001     0.357165  \n",
       "96002     2.058978  \n",
       "\n",
       "[496 rows x 9 columns]"
      ]
     },
     "execution_count": 212,
     "metadata": {},
     "output_type": "execute_result"
    }
   ],
   "source": [
    "# Load results dataframe\n",
    "df = pd.read_csv(\"/gpfs/work1/0/wtrcycle/users/jaerts/camels_uk/results/mean_flow_uncertainty_overview.csv\", index_col='basin_id')\n",
    "\n",
    "# Merge results and shapefile\n",
    "gdf_results = gdf.merge(df, left_index=True, right_index=True, how=\"inner\")\n",
    "gdf_results = gdf_results.set_geometry(\"centroid\")\n",
    "gdf_results\n",
    "\n",
    "# Get Rows with observation nan values\n",
    "nan_rows = gdf_results[gdf_results['difference'].isna()]\n",
    "\n",
    "# Remove rows that match observation nan rows\n",
    "gdf_results = gdf_results[~gdf_results.index.isin(nan_rows.index.to_list())]\n",
    "gdf_results"
   ]
  },
  {
   "cell_type": "code",
   "execution_count": 229,
   "id": "72309fff-1374-40df-90df-725f23d4918b",
   "metadata": {},
   "outputs": [
    {
     "name": "stderr",
     "output_type": "stream",
     "text": [
      "/scratch-local/jaerts.1515986/ipykernel_1746335/3258001503.py:30: MatplotlibDeprecationWarning: savefig() got unexpected keyword argument \"transparant\" which is no longer supported as of 3.3 and will become an error in 3.6\n",
      "  plt.savefig(f'{ROOT}/plots/mean_flow_uncertainty.png', transparant=True)\n"
     ]
    },
    {
     "data": {
      "image/png": "[encoded data removed]",
      "text/plain": [
       "<Figure size 720x1080 with 1 Axes>"
      ]
     },
     "metadata": {
      "needs_background": "light"
     },
     "output_type": "display_data"
    }
   ],
   "source": [
    "# projection = ccrs.epsg(4326)\n",
    "fig, ax = plt.subplots(figsize=(10, 15), subplot_kw={\"projection\": ccrs.PlateCarree()})\n",
    "# colormap = 'bwr'\n",
    "colormap = 'cool'\n",
    "# ax = plt.axes(projection=ccrs.CRS(\"WGS 84\"))\n",
    "# ax = plt.axes(projection=ccrs.PlateCarree())\n",
    "# ax = plt.axes(projection=ccrs.OSGB())\n",
    "# ax.set_global()\n",
    "# ax.coastlines()\n",
    "\n",
    "ax.coastlines(resolution='10m')\n",
    "\n",
    "ax = gdf_results.plot(ax=ax, column='largest_diff',markersize=(gdf_results['difference']*30), legend=True, cmap=colormap)\n",
    "                        # cmap=colormap,\n",
    "                        # vmin=-1.0,\n",
    "                        # vmax=1.0,\n",
    "                        # legend=True,\n",
    "                        # legend_kwds={'label': \"KGE_NP value\",\n",
    "                        #              'orientation': \"vertical\"})\n",
    "\n",
    "ax.add_feature(cartopy.feature.OCEAN)\n",
    "ax.add_feature(cartopy.feature.LAND, edgecolor='black')\n",
    "ax.add_feature(cartopy.feature.LAKES, edgecolor='black')\n",
    "ax.add_feature(cartopy.feature.RIVERS)\n",
    "\n",
    "# plt.axis('off')\n",
    "# plt.tight_layout()\n",
    "\n",
    "ax.set_title('617 Basins, MEAN FLOW', size=20)\n",
    "plt.savefig(f'{ROOT}/plots/mean_flow_uncertainty.png', transparant=True)"
   ]
  },
  {
   "cell_type": "code",
   "execution_count": null,
   "id": "bfafebdf-0d3d-4343-8868-bac6f5dff736",
   "metadata": {},
   "outputs": [],
   "source": []
  },
  {
   "cell_type": "code",
   "execution_count": null,
   "id": "947de6df-cdd1-46ca-8ed5-4df2e37c9e0b",
   "metadata": {},
   "outputs": [],
   "source": []
  },
  {
   "cell_type": "code",
   "execution_count": null,
   "id": "3691ca42-567d-494d-a584-1b8802d69945",
   "metadata": {},
   "outputs": [],
   "source": []
  },
  {
   "cell_type": "code",
   "execution_count": null,
   "id": "c2cb98c1-19ec-4380-a86d-0ffbbe0e707d",
   "metadata": {},
   "outputs": [],
   "source": []
  },
  {
   "cell_type": "code",
   "execution_count": null,
   "id": "cc091530-e3b7-4a96-bed5-2e443e68f20b",
   "metadata": {},
   "outputs": [],
   "source": []
  },
  {
   "cell_type": "code",
   "execution_count": null,
   "id": "b638e254-9d99-4ec4-bd75-391d74ed8a5d",
   "metadata": {},
   "outputs": [],
   "source": []
  },
  {
   "cell_type": "code",
   "execution_count": null,
   "id": "ec002812-9bfd-4966-b4f4-6e955cd46c22",
   "metadata": {},
   "outputs": [],
   "source": []
  },
  {
   "cell_type": "code",
   "execution_count": null,
   "id": "b4597a2d-5340-4361-b462-a105d46961d4",
   "metadata": {},
   "outputs": [],
   "source": []
  },
  {
   "cell_type": "code",
   "execution_count": null,
   "id": "c99cf3ae-6c36-4c37-9559-0bc9b5f8e2e1",
   "metadata": {},
   "outputs": [],
   "source": []
  },
  {
   "cell_type": "code",
   "execution_count": null,
   "id": "c1417052-1850-4ec0-a017-b49278e86932",
   "metadata": {},
   "outputs": [],
   "source": []
  },
  {
   "cell_type": "code",
   "execution_count": null,
   "id": "4d938254-be33-4eed-9909-ada570a18bee",
   "metadata": {},
   "outputs": [],
   "source": []
  },
  {
   "cell_type": "code",
   "execution_count": null,
   "id": "25b91702-ef3b-4f63-ab62-3dbdbf3a208f",
   "metadata": {},
   "outputs": [],
   "source": []
  },
  {
   "cell_type": "code",
   "execution_count": null,
   "id": "cf753831-c03d-473b-9edc-9a8ea1bd5c7e",
   "metadata": {},
   "outputs": [],
   "source": []
  },
  {
   "cell_type": "code",
   "execution_count": null,
   "id": "a1e3fcf8-de8f-4c07-9f71-d693b3250c82",
   "metadata": {},
   "outputs": [],
   "source": []
  },
  {
   "cell_type": "code",
   "execution_count": null,
   "id": "ae3f6e3c-b3e5-47ae-986c-4abe49d925d8",
   "metadata": {},
   "outputs": [],
   "source": []
  },
  {
   "cell_type": "code",
   "execution_count": null,
   "id": "652d558e-b6ab-4228-adda-f70ddc686318",
   "metadata": {},
   "outputs": [],
   "source": []
  },
  {
   "cell_type": "code",
   "execution_count": 95,
   "id": "581ffc91-96f5-4a8b-a511-409c93e87e72",
   "metadata": {},
   "outputs": [],
   "source": [
    "df = pd.read_csv(file, index_col='flow_category')"
   ]
  },
  {
   "cell_type": "code",
   "execution_count": 112,
   "id": "d3b10b0a-c352-4728-b182-7e98246393d9",
   "metadata": {},
   "outputs": [
    {
     "data": {
      "text/html": [
       "<div>\n",
       "<style scoped>\n",
       "    .dataframe tbody tr th:only-of-type {\n",
       "        vertical-align: middle;\n",
       "    }\n",
       "\n",
       "    .dataframe tbody tr th {\n",
       "        vertical-align: top;\n",
       "    }\n",
       "\n",
       "    .dataframe thead th {\n",
       "        text-align: right;\n",
       "    }\n",
       "</style>\n",
       "<table border=\"1\" class=\"dataframe\">\n",
       "  <thead>\n",
       "    <tr style=\"text-align: right;\">\n",
       "      <th></th>\n",
       "      <th>precipitation</th>\n",
       "      <th>pet</th>\n",
       "      <th>temperature</th>\n",
       "      <th>discharge_spec</th>\n",
       "      <th>discharge_vol</th>\n",
       "      <th>peti</th>\n",
       "      <th>humidity</th>\n",
       "      <th>shortwave_rad</th>\n",
       "      <th>longwave_rad</th>\n",
       "      <th>windspeed</th>\n",
       "    </tr>\n",
       "    <tr>\n",
       "      <th>date</th>\n",
       "      <th></th>\n",
       "      <th></th>\n",
       "      <th></th>\n",
       "      <th></th>\n",
       "      <th></th>\n",
       "      <th></th>\n",
       "      <th></th>\n",
       "      <th></th>\n",
       "      <th></th>\n",
       "      <th></th>\n",
       "    </tr>\n",
       "  </thead>\n",
       "  <tbody>\n",
       "    <tr>\n",
       "      <th>2009-09-12</th>\n",
       "      <td>0.09</td>\n",
       "      <td>1.91</td>\n",
       "      <td>13.03</td>\n",
       "      <td>NaN</td>\n",
       "      <td>NaN</td>\n",
       "      <td>2.01</td>\n",
       "      <td>8.03</td>\n",
       "      <td>207.91</td>\n",
       "      <td>303.03</td>\n",
       "      <td>2.23</td>\n",
       "    </tr>\n",
       "    <tr>\n",
       "      <th>2009-09-13</th>\n",
       "      <td>0.00</td>\n",
       "      <td>1.92</td>\n",
       "      <td>13.22</td>\n",
       "      <td>NaN</td>\n",
       "      <td>NaN</td>\n",
       "      <td>1.92</td>\n",
       "      <td>7.86</td>\n",
       "      <td>200.87</td>\n",
       "      <td>304.66</td>\n",
       "      <td>2.45</td>\n",
       "    </tr>\n",
       "    <tr>\n",
       "      <th>2009-09-14</th>\n",
       "      <td>0.00</td>\n",
       "      <td>1.31</td>\n",
       "      <td>11.97</td>\n",
       "      <td>NaN</td>\n",
       "      <td>NaN</td>\n",
       "      <td>1.31</td>\n",
       "      <td>7.02</td>\n",
       "      <td>90.90</td>\n",
       "      <td>343.45</td>\n",
       "      <td>3.31</td>\n",
       "    </tr>\n",
       "    <tr>\n",
       "      <th>2009-09-15</th>\n",
       "      <td>0.07</td>\n",
       "      <td>1.81</td>\n",
       "      <td>12.86</td>\n",
       "      <td>NaN</td>\n",
       "      <td>NaN</td>\n",
       "      <td>1.94</td>\n",
       "      <td>7.46</td>\n",
       "      <td>168.13</td>\n",
       "      <td>313.54</td>\n",
       "      <td>3.82</td>\n",
       "    </tr>\n",
       "    <tr>\n",
       "      <th>2009-09-16</th>\n",
       "      <td>0.00</td>\n",
       "      <td>1.63</td>\n",
       "      <td>12.26</td>\n",
       "      <td>NaN</td>\n",
       "      <td>NaN</td>\n",
       "      <td>1.63</td>\n",
       "      <td>7.07</td>\n",
       "      <td>139.04</td>\n",
       "      <td>321.91</td>\n",
       "      <td>3.68</td>\n",
       "    </tr>\n",
       "    <tr>\n",
       "      <th>2009-09-17</th>\n",
       "      <td>0.00</td>\n",
       "      <td>1.44</td>\n",
       "      <td>10.88</td>\n",
       "      <td>NaN</td>\n",
       "      <td>NaN</td>\n",
       "      <td>1.44</td>\n",
       "      <td>6.08</td>\n",
       "      <td>122.26</td>\n",
       "      <td>320.20</td>\n",
       "      <td>2.52</td>\n",
       "    </tr>\n",
       "    <tr>\n",
       "      <th>2009-09-18</th>\n",
       "      <td>0.00</td>\n",
       "      <td>1.38</td>\n",
       "      <td>12.93</td>\n",
       "      <td>NaN</td>\n",
       "      <td>NaN</td>\n",
       "      <td>1.38</td>\n",
       "      <td>7.17</td>\n",
       "      <td>109.35</td>\n",
       "      <td>337.02</td>\n",
       "      <td>2.34</td>\n",
       "    </tr>\n",
       "    <tr>\n",
       "      <th>2009-09-19</th>\n",
       "      <td>0.36</td>\n",
       "      <td>1.05</td>\n",
       "      <td>13.67</td>\n",
       "      <td>NaN</td>\n",
       "      <td>NaN</td>\n",
       "      <td>1.17</td>\n",
       "      <td>8.55</td>\n",
       "      <td>91.08</td>\n",
       "      <td>349.88</td>\n",
       "      <td>2.67</td>\n",
       "    </tr>\n",
       "    <tr>\n",
       "      <th>2009-09-20</th>\n",
       "      <td>0.00</td>\n",
       "      <td>1.64</td>\n",
       "      <td>12.04</td>\n",
       "      <td>NaN</td>\n",
       "      <td>NaN</td>\n",
       "      <td>1.65</td>\n",
       "      <td>7.06</td>\n",
       "      <td>171.26</td>\n",
       "      <td>302.31</td>\n",
       "      <td>2.97</td>\n",
       "    </tr>\n",
       "    <tr>\n",
       "      <th>2009-09-21</th>\n",
       "      <td>0.91</td>\n",
       "      <td>1.09</td>\n",
       "      <td>13.71</td>\n",
       "      <td>NaN</td>\n",
       "      <td>NaN</td>\n",
       "      <td>1.32</td>\n",
       "      <td>8.65</td>\n",
       "      <td>67.31</td>\n",
       "      <td>359.48</td>\n",
       "      <td>6.78</td>\n",
       "    </tr>\n",
       "    <tr>\n",
       "      <th>2009-09-22</th>\n",
       "      <td>0.21</td>\n",
       "      <td>1.23</td>\n",
       "      <td>14.73</td>\n",
       "      <td>NaN</td>\n",
       "      <td>NaN</td>\n",
       "      <td>1.47</td>\n",
       "      <td>9.28</td>\n",
       "      <td>90.69</td>\n",
       "      <td>353.55</td>\n",
       "      <td>7.18</td>\n",
       "    </tr>\n",
       "  </tbody>\n",
       "</table>\n",
       "</div>"
      ],
      "text/plain": [
       "            precipitation   pet  temperature  discharge_spec  discharge_vol  \\\n",
       "date                                                                          \n",
       "2009-09-12           0.09  1.91        13.03             NaN            NaN   \n",
       "2009-09-13           0.00  1.92        13.22             NaN            NaN   \n",
       "2009-09-14           0.00  1.31        11.97             NaN            NaN   \n",
       "2009-09-15           0.07  1.81        12.86             NaN            NaN   \n",
       "2009-09-16           0.00  1.63        12.26             NaN            NaN   \n",
       "2009-09-17           0.00  1.44        10.88             NaN            NaN   \n",
       "2009-09-18           0.00  1.38        12.93             NaN            NaN   \n",
       "2009-09-19           0.36  1.05        13.67             NaN            NaN   \n",
       "2009-09-20           0.00  1.64        12.04             NaN            NaN   \n",
       "2009-09-21           0.91  1.09        13.71             NaN            NaN   \n",
       "2009-09-22           0.21  1.23        14.73             NaN            NaN   \n",
       "\n",
       "            peti  humidity  shortwave_rad  longwave_rad  windspeed  \n",
       "date                                                                \n",
       "2009-09-12  2.01      8.03         207.91        303.03       2.23  \n",
       "2009-09-13  1.92      7.86         200.87        304.66       2.45  \n",
       "2009-09-14  1.31      7.02          90.90        343.45       3.31  \n",
       "2009-09-15  1.94      7.46         168.13        313.54       3.82  \n",
       "2009-09-16  1.63      7.07         139.04        321.91       3.68  \n",
       "2009-09-17  1.44      6.08         122.26        320.20       2.52  \n",
       "2009-09-18  1.38      7.17         109.35        337.02       2.34  \n",
       "2009-09-19  1.17      8.55          91.08        349.88       2.67  \n",
       "2009-09-20  1.65      7.06         171.26        302.31       2.97  \n",
       "2009-09-21  1.32      8.65          67.31        359.48       6.78  \n",
       "2009-09-22  1.47      9.28          90.69        353.55       7.18  "
      ]
     },
     "execution_count": 112,
     "metadata": {},
     "output_type": "execute_result"
    }
   ],
   "source": [
    "df_obs[df_obs['discharge_vol'].isna()]"
   ]
  },
  {
   "cell_type": "code",
   "execution_count": 111,
   "id": "4eea3249-bb71-4014-a2db-1b7c1c073056",
   "metadata": {},
   "outputs": [
    {
     "data": {
      "text/html": [
       "<div>\n",
       "<style scoped>\n",
       "    .dataframe tbody tr th:only-of-type {\n",
       "        vertical-align: middle;\n",
       "    }\n",
       "\n",
       "    .dataframe tbody tr th {\n",
       "        vertical-align: top;\n",
       "    }\n",
       "\n",
       "    .dataframe thead th {\n",
       "        text-align: right;\n",
       "    }\n",
       "</style>\n",
       "<table border=\"1\" class=\"dataframe\">\n",
       "  <thead>\n",
       "    <tr style=\"text-align: right;\">\n",
       "      <th></th>\n",
       "      <th>discharge_vol</th>\n",
       "    </tr>\n",
       "    <tr>\n",
       "      <th>date</th>\n",
       "      <th></th>\n",
       "    </tr>\n",
       "  </thead>\n",
       "  <tbody>\n",
       "    <tr>\n",
       "      <th>2008-01-02</th>\n",
       "      <td>0.49</td>\n",
       "    </tr>\n",
       "    <tr>\n",
       "      <th>2008-01-03</th>\n",
       "      <td>0.39</td>\n",
       "    </tr>\n",
       "    <tr>\n",
       "      <th>2008-01-04</th>\n",
       "      <td>0.75</td>\n",
       "    </tr>\n",
       "    <tr>\n",
       "      <th>2008-01-05</th>\n",
       "      <td>0.61</td>\n",
       "    </tr>\n",
       "    <tr>\n",
       "      <th>2008-01-06</th>\n",
       "      <td>0.50</td>\n",
       "    </tr>\n",
       "    <tr>\n",
       "      <th>...</th>\n",
       "      <td>...</td>\n",
       "    </tr>\n",
       "    <tr>\n",
       "      <th>2015-09-26</th>\n",
       "      <td>0.02</td>\n",
       "    </tr>\n",
       "    <tr>\n",
       "      <th>2015-09-27</th>\n",
       "      <td>0.02</td>\n",
       "    </tr>\n",
       "    <tr>\n",
       "      <th>2015-09-28</th>\n",
       "      <td>0.02</td>\n",
       "    </tr>\n",
       "    <tr>\n",
       "      <th>2015-09-29</th>\n",
       "      <td>0.02</td>\n",
       "    </tr>\n",
       "    <tr>\n",
       "      <th>2015-09-30</th>\n",
       "      <td>0.02</td>\n",
       "    </tr>\n",
       "  </tbody>\n",
       "</table>\n",
       "<p>2818 rows × 1 columns</p>\n",
       "</div>"
      ],
      "text/plain": [
       "            discharge_vol\n",
       "date                     \n",
       "2008-01-02           0.49\n",
       "2008-01-03           0.39\n",
       "2008-01-04           0.75\n",
       "2008-01-05           0.61\n",
       "2008-01-06           0.50\n",
       "...                   ...\n",
       "2015-09-26           0.02\n",
       "2015-09-27           0.02\n",
       "2015-09-28           0.02\n",
       "2015-09-29           0.02\n",
       "2015-09-30           0.02\n",
       "\n",
       "[2818 rows x 1 columns]"
      ]
     },
     "execution_count": 111,
     "metadata": {},
     "output_type": "execute_result"
    }
   ],
   "source": [
    "df_obs.discharge_vol.dropna().to_frame()"
   ]
  },
  {
   "cell_type": "code",
   "execution_count": 108,
   "id": "8c181900-c429-4c93-a03f-dd5e5135dc4e",
   "metadata": {},
   "outputs": [
    {
     "ename": "AttributeError",
     "evalue": "'function' object has no attribute 'to_frame'",
     "output_type": "error",
     "traceback": [
      "\u001b[0;31m---------------------------------------------------------------------------\u001b[0m",
      "\u001b[0;31mAttributeError\u001b[0m                            Traceback (most recent call last)",
      "Input \u001b[0;32mIn [108]\u001b[0m, in \u001b[0;36m<cell line: 1>\u001b[0;34m()\u001b[0m\n\u001b[0;32m----> 1\u001b[0m \u001b[43m(\u001b[49m\u001b[43mdf_obs\u001b[49m\u001b[38;5;241;43m.\u001b[39;49m\u001b[43mdischarge_vol\u001b[49m\u001b[38;5;241;43m.\u001b[39;49m\u001b[43mdropna\u001b[49m\u001b[43m)\u001b[49m\u001b[38;5;241;43m.\u001b[39;49m\u001b[43mto_frame\u001b[49m()\n",
      "\u001b[0;31mAttributeError\u001b[0m: 'function' object has no attribute 'to_frame'"
     ]
    }
   ],
   "source": [
    "(df_obs.discharge_vol.dropna).to_frame()"
   ]
  },
  {
   "cell_type": "code",
   "execution_count": null,
   "id": "7e69e3c8-653f-4573-9816-5ac27a1f934a",
   "metadata": {},
   "outputs": [],
   "source": []
  },
  {
   "cell_type": "code",
   "execution_count": 33,
   "id": "43d3145d-dfaa-4024-ac8d-1744cd1b748a",
   "metadata": {},
   "outputs": [],
   "source": [
    "    std_obs_uncertainty = upper_perc_flow_uncertainty/2 # %\n",
    "    # stds_obs_uncertainties.append(std_obs_uncertainty)\n",
    "    std_obs_uncertainty_total = (std_obs_uncertainty/100) * dist_mean_obs"
   ]
  },
  {
   "cell_type": "code",
   "execution_count": 34,
   "id": "1a5a1d8b-2b5a-45d8-8e5b-79144086148e",
   "metadata": {},
   "outputs": [
    {
     "data": {
      "text/plain": [
       "0.5423039575971731"
      ]
     },
     "execution_count": 34,
     "metadata": {},
     "output_type": "execute_result"
    }
   ],
   "source": [
    "std_obs_uncertainty_total"
   ]
  },
  {
   "cell_type": "code",
   "execution_count": 32,
   "id": "6856f9c1-5e17-4653-bb19-9552d9fe7f7d",
   "metadata": {},
   "outputs": [
    {
     "data": {
      "text/plain": [
       "0.0533"
      ]
     },
     "execution_count": 32,
     "metadata": {},
     "output_type": "execute_result"
    }
   ],
   "source": [
    "(std_obs_uncertainty/100)"
   ]
  },
  {
   "cell_type": "code",
   "execution_count": 40,
   "id": "48cb8cab-63a5-4d4a-a8ff-b33e9435fb68",
   "metadata": {},
   "outputs": [
    {
     "name": "stdout",
     "output_type": "stream",
     "text": [
      "0.0639750276\n"
     ]
    },
    {
     "data": {
      "text/plain": [
       "0.2529328519587758"
      ]
     },
     "execution_count": 40,
     "metadata": {},
     "output_type": "execute_result"
    }
   ],
   "source": [
    "x = 0.392967 \n",
    "# x = np.sqrt(x)|\n",
    "a = x * 0.1628 # opzoeken wanneer wortel\n",
    "print(a)\n",
    "std = np.sqrt(a)\n",
    "std"
   ]
  },
  {
   "cell_type": "code",
   "execution_count": 23,
   "id": "81c622bb-e24c-4703-b8dd-6462ae1c3267",
   "metadata": {},
   "outputs": [],
   "source": [
    "# Bereken OBS_STD\n",
    "# Bereken uncertainty_STD\n",
    "\n",
    "## bereken totale observatie distributie (incl. onzeker) STD = wortel(OBS_STD^2 + uncertainty_STD^2)\n",
    "## bereken totale observatie distributie difference std = wortel(2) * wortel(OBS_STD^2 + uncertainty_STD^2)\n",
    "## bereken model difference std = (al gedaan)\n",
    "# bias > spreiding obs\n",
    "\n",
    "#uncertainty_std =:\n",
    "#a = 0.392967 * 0.1628 # opzoeken wanneer wortel\n",
    "#std = np.sqrt(a)\n",
    "\n",
    "#verschil_std  = wortel(std^2 + std^2)\n",
    " #               wortel(2)*std\n"
   ]
  },
  {
   "cell_type": "code",
   "execution_count": null,
   "id": "397c5412-ce81-4eff-a200-a14880a5e9ff",
   "metadata": {},
   "outputs": [],
   "source": [
    "#uncertainty_std =:\n",
    "\n",
    "a = 0.392967 * 0.1628 # opzoeken wanneer wortel\n",
    "std = np.sqrt(a)\n",
    "\n",
    "verschil_std  = wortel(std^2 + std^2)\n",
    "                wortel(2)*std"
   ]
  },
  {
   "cell_type": "code",
   "execution_count": null,
   "id": "64491c44-91a9-4b16-aac9-06651987cb9c",
   "metadata": {},
   "outputs": [],
   "source": []
  },
  {
   "cell_type": "code",
   "execution_count": null,
   "id": "78d6b7fd-392d-4352-bd04-9761290d1dc7",
   "metadata": {},
   "outputs": [],
   "source": []
  },
  {
   "cell_type": "code",
   "execution_count": null,
   "id": "fed0c6d2-3a0d-49fe-90a7-d0bd59a28603",
   "metadata": {},
   "outputs": [],
   "source": []
  },
  {
   "cell_type": "code",
   "execution_count": null,
   "id": "836bfbf8-83b7-41e4-b130-e3a64432852b",
   "metadata": {},
   "outputs": [],
   "source": []
  },
  {
   "cell_type": "code",
   "execution_count": null,
   "id": "b490e6a3-0fb4-4d7e-a722-55707bc7c425",
   "metadata": {},
   "outputs": [],
   "source": [
    "# normaal verdeling gemiddelde .39 std .12\n",
    "# normaal gemiddelde 0 std wortel(.12^2 + .12^2)\n",
    "    # lijn op 4.0 (sampling mean)\n",
    "    # verschil 2 model runs groter of kleiner dan observaties\n",
    "\n",
    "    \n",
    "# AANPASSEN:!!!: model_difference_std\n",
    "    \n",
    "    "
   ]
  },
  {
   "cell_type": "code",
   "execution_count": null,
   "id": "f4793ff8-f867-4ae9-a8ee-586d94d54a2a",
   "metadata": {},
   "outputs": [],
   "source": [
    "Percentile 5: -15.8 ---- 17.0"
   ]
  },
  {
   "cell_type": "code",
   "execution_count": 18,
   "id": "1290579b-d7c3-4935-ace4-083948006af4",
   "metadata": {},
   "outputs": [
    {
     "data": {
      "text/plain": [
       "0.134418192523235"
      ]
     },
     "execution_count": 18,
     "metadata": {},
     "output_type": "execute_result"
    }
   ],
   "source": [
    "variance_wflow"
   ]
  },
  {
   "cell_type": "code",
   "execution_count": 19,
   "id": "af58318e-297a-442a-8450-e31e2545c6e1",
   "metadata": {},
   "outputs": [
    {
     "data": {
      "text/plain": [
       "0.0060706639289855955"
      ]
     },
     "execution_count": 19,
     "metadata": {},
     "output_type": "execute_result"
    }
   ],
   "source": [
    "variance_pcrglob"
   ]
  },
  {
   "cell_type": "code",
   "execution_count": null,
   "id": "64b5c431-f33c-4217-a82d-c553056147f8",
   "metadata": {},
   "outputs": [],
   "source": []
  },
  {
   "cell_type": "code",
   "execution_count": 15,
   "id": "57ead1db-052f-4186-b418-6d94046ac1eb",
   "metadata": {},
   "outputs": [
    {
     "data": {
      "text/plain": [
       "0.2529328519587758"
      ]
     },
     "execution_count": 15,
     "metadata": {},
     "output_type": "execute_result"
    }
   ],
   "source": [
    "\n",
    "a = 0.392967 * 0.1628\n",
    "np.sqrt(a)"
   ]
  },
  {
   "cell_type": "code",
   "execution_count": 7,
   "id": "60dd7b45-8df7-4358-979c-59f4a62c2a84",
   "metadata": {},
   "outputs": [],
   "source": [
    "# Compare the samples\n",
    "df = df.iloc[0]"
   ]
  },
  {
   "cell_type": "code",
   "execution_count": 46,
   "id": "368c9ec9-decd-4d29-92b4-fe8393fc376e",
   "metadata": {},
   "outputs": [
    {
     "data": {
      "text/plain": [
       "9.221799390467611"
      ]
     },
     "execution_count": 46,
     "metadata": {},
     "output_type": "execute_result"
    }
   ],
   "source": [
    "X1 = df.sampling_mean\n",
    "X2 = df.obs_mean\n",
    "x = X1-X2\n",
    "n = np.sqrt(np.square(df.sampling_std)+np.square(df.obs_mean))\n",
    "x/n"
   ]
  },
  {
   "cell_type": "code",
   "execution_count": 9,
   "id": "bc042d92-8d1f-404e-961a-cf86c2446fb7",
   "metadata": {},
   "outputs": [
    {
     "data": {
      "text/plain": [
       "array([14.51,  7.39,  9.22, 10.2 , 16.86, 10.6 ,  6.16, 13.  ,  6.47,\n",
       "       11.32, 15.31, 16.5 , 10.25, 17.04,  6.03,  6.13, 16.02,  8.27,\n",
       "       17.08, 11.53,  6.96, 18.44, 18.13,  8.86,  7.85, 11.46,  7.35,\n",
       "       18.05,  9.05,  8.86,  5.96, 11.42,  6.37,  7.13, 10.53,  7.21,\n",
       "        5.89, 11.48,  6.27,  6.51,  6.41,  7.26,  7.23, 10.87,  9.3 ,\n",
       "        8.33, 11.07,  7.81,  7.93, 13.93,  7.05, 16.23,  8.61, 14.07,\n",
       "        5.97,  7.03, 14.8 ,  6.37, 16.52, 16.94, 10.16,  9.71, 11.04,\n",
       "       11.95, 15.79,  9.02,  6.61,  6.98, 11.03, 14.24,  6.34, 10.84,\n",
       "        7.4 , 17.68, 17.82, 13.63, 14.07, 11.68, 14.97,  7.57,  6.74,\n",
       "        7.52, 11.9 ,  6.36,  6.07,  8.2 ,  6.4 , 10.26,  6.23,  7.9 ,\n",
       "       12.35,  7.21, 11.7 ,  7.33,  7.82,  6.41, 11.93,  7.09, 15.22,\n",
       "        6.91, 10.79,  7.8 ,  6.99,  9.73,  9.96, 11.23,  9.22, 10.87,\n",
       "        7.18,  9.02,  6.69,  8.81, 13.24, 14.12, 11.72,  8.29,  7.17,\n",
       "       13.02,  7.58,  6.39,  6.83,  6.73,  9.  ,  6.74,  8.59,  7.32,\n",
       "        7.78, 15.93,  6.5 ,  9.41,  7.28,  9.53,  8.79,  6.21,  6.74,\n",
       "       11.01,  8.82,  9.4 ,  6.03, 14.64, 12.75,  7.2 , 11.27, 15.35,\n",
       "        6.16, 12.22, 12.16,  6.15,  7.14, 18.39,  7.31, 17.79,  6.6 ,\n",
       "       14.14, 10.57, 12.62,  6.17, 15.71,  9.18,  8.27, 11.91, 17.24,\n",
       "       15.26, 12.76,  8.5 ,  6.5 ,  6.64, 12.72, 12.26,  8.85,  9.4 ,\n",
       "        7.58, 17.61, 12.86,  9.81,  7.65,  8.33,  6.07,  9.99,  5.92,\n",
       "       14.62,  7.38,  8.41,  8.03, 12.75,  6.44, 10.12,  9.51,  9.87,\n",
       "        7.43,  9.52,  6.15,  6.04,  8.63,  8.56, 15.41, 17.57, 11.05,\n",
       "       14.96, 17.37,  7.04,  8.64,  7.92,  7.66, 13.96, 10.09,  9.09,\n",
       "        6.81, 10.34,  8.9 , 13.99,  7.01, 15.12, 14.72, 11.38, 12.5 ,\n",
       "        9.76, 12.62,  6.8 ,  7.47, 10.81,  7.4 , 13.03, 16.45,  7.04,\n",
       "       16.6 , 13.16, 10.58, 11.01,  6.62,  9.86, 13.2 ,  6.03, 17.26,\n",
       "        8.91,  5.98,  6.36, 11.67, 10.61,  6.02,  6.05,  8.15,  5.89,\n",
       "        8.63,  7.73, 17.29, 11.39, 10.58,  8.  , 15.11, 15.72, 11.55,\n",
       "        9.88, 11.12, 12.75, 12.84,  7.87,  9.5 , 10.32, 16.84,  9.84,\n",
       "       12.15,  6.14, 13.26, 11.49,  6.9 , 16.61,  7.66,  6.57,  7.13,\n",
       "       13.54, 11.56,  8.49,  6.12, 12.22,  6.68,  6.  ,  9.6 ,  6.65,\n",
       "       18.6 , 10.12,  7.26,  7.42, 10.5 ,  7.3 , 14.12, 10.73,  7.58,\n",
       "       15.31,  6.85, 11.29,  7.15, 16.96,  8.93,  6.69, 16.35,  7.91,\n",
       "       10.53,  8.78, 13.83, 13.2 ,  9.01,  7.92,  7.14, 16.34,  8.05,\n",
       "       11.41,  6.24, 10.03,  9.91,  9.88,  7.44, 10.74, 16.1 ,  7.24,\n",
       "       11.18,  8.35,  9.86,  7.52, 11.07,  9.78,  9.4 ,  6.16, 13.74,\n",
       "       12.48, 12.28, 11.45,  6.71,  6.21,  7.82,  9.06, 16.69,  8.75,\n",
       "        6.72, 11.11, 10.03,  8.36,  6.54, 16.89,  7.07,  8.17, 10.83,\n",
       "        6.48, 13.72,  9.64, 18.17,  6.05, 10.81,  8.15, 17.91,  8.26,\n",
       "        5.92,  5.97, 11.91,  7.86,  7.83,  7.94, 18.24,  8.18,  6.83,\n",
       "       11.34,  9.5 , 17.72,  9.93, 14.98,  9.88, 10.52, 15.77,  7.65,\n",
       "        7.26, 18.38,  9.28,  8.63,  8.42,  7.77,  6.96, 10.68, 13.84,\n",
       "       11.95, 16.86,  9.93, 17.13,  5.9 , 11.7 , 13.51,  6.7 , 12.22,\n",
       "        7.98,  9.5 ,  5.89,  8.14, 10.51,  5.95,  6.7 ,  8.96,  8.74,\n",
       "        6.46,  9.22, 15.66, 14.16,  6.54, 11.7 ,  6.1 ,  7.64,  6.13,\n",
       "        7.86, 12.73,  6.55,  8.13,  6.74,  7.13, 12.55,  7.18, 16.65,\n",
       "        8.45, 10.21, 14.71, 17.5 ,  8.88,  7.  , 12.21, 10.26,  6.6 ,\n",
       "        7.74,  5.93, 10.89, 14.14, 15.78,  9.73,  9.44, 11.98,  6.93,\n",
       "        7.54,  6.73, 11.43,  6.46,  7.49,  6.47, 17.73, 18.18, 11.58,\n",
       "        9.22, 14.2 , 16.44,  7.58,  6.46,  7.8 ,  6.08,  8.22, 17.11,\n",
       "       15.25,  8.28,  5.91,  7.99,  6.01, 12.68, 10.9 , 10.99,  9.46,\n",
       "        6.4 , 10.8 ,  6.36,  9.14, 11.68,  7.24, 11.05, 10.53,  8.51,\n",
       "       12.67, 13.2 ,  7.88, 10.38, 12.94,  5.95, 12.48,  6.29,  6.69,\n",
       "        8.91, 17.43,  7.99,  6.53,  8.91,  7.43, 11.49,  6.83, 12.07,\n",
       "        7.26,  8.83, 16.41,  6.27,  7.66,  8.07,  9.8 , 12.26,  7.75,\n",
       "        5.93, 10.95, 11.06,  8.06, 11.73,  6.22,  9.66, 10.16, 11.94,\n",
       "       10.82, 10.32, 18.01,  9.67, 12.97, 13.81, 11.6 ,  6.02,  7.75,\n",
       "        6.03, 12.75,  7.04,  8.94, 15.17,  6.91,  8.58,  7.09, 14.15,\n",
       "       10.63, 11.29,  7.63,  9.71, 17.91, 12.06,  6.39,  6.75, 17.29,\n",
       "        7.92, 14.57,  7.92, 16.51,  7.11,  9.86,  8.48,  8.17,  6.43,\n",
       "       12.81, 13.33,  6.47, 15.16,  5.91, 14.94,  6.62,  6.25, 12.76,\n",
       "       10.03, 10.23, 16.47, 17.2 ,  8.68,  8.18,  6.78, 13.28, 17.  ,\n",
       "        6.62, 14.56, 13.26, 15.07,  6.58, 12.08, 18.68,  8.7 ])"
      ]
     },
     "execution_count": 9,
     "metadata": {},
     "output_type": "execute_result"
    }
   ],
   "source": [
    "dist_obs"
   ]
  },
  {
   "cell_type": "code",
   "execution_count": null,
   "id": "192005d8-cb14-45f7-b5ba-a12a7fd07309",
   "metadata": {},
   "outputs": [],
   "source": []
  },
  {
   "cell_type": "code",
   "execution_count": null,
   "id": "ee1d502f-2e8b-4a4a-b4eb-1a0e6163ed65",
   "metadata": {},
   "outputs": [],
   "source": []
  },
  {
   "cell_type": "code",
   "execution_count": null,
   "id": "c9916d8a-4b53-4ea4-bb06-d0b49401a110",
   "metadata": {},
   "outputs": [],
   "source": []
  },
  {
   "cell_type": "code",
   "execution_count": null,
   "id": "a4394846-1c7f-4aad-89a1-62975e56cf57",
   "metadata": {},
   "outputs": [],
   "source": []
  },
  {
   "cell_type": "code",
   "execution_count": null,
   "id": "718d7d2e-990b-4a4e-8cb5-2664b214bf9f",
   "metadata": {},
   "outputs": [],
   "source": []
  },
  {
   "cell_type": "code",
   "execution_count": null,
   "id": "e80f7541-38c7-48b5-94a8-3e62f5e972ef",
   "metadata": {},
   "outputs": [],
   "source": []
  },
  {
   "cell_type": "code",
   "execution_count": null,
   "id": "9b794b80-a2ea-48e5-a884-50c79dd97704",
   "metadata": {},
   "outputs": [],
   "source": []
  },
  {
   "cell_type": "code",
   "execution_count": null,
   "id": "bf5c3ad8-0499-4a49-ae33-f2e0e55673ba",
   "metadata": {},
   "outputs": [],
   "source": [
    "p5_wflow_mean = p5_wflow.mean()\n",
    "p5_pcrglob_mean = p5_pcrglob.mean()\n",
    "p5_obs_mean = p5_obs.mean()\n",
    "\n",
    "sampling_mean = p5_wflow_mean.values - p5_pcrglob_mean.values"
   ]
  },
  {
   "cell_type": "code",
   "execution_count": null,
   "id": "4e143af9-3ba9-4b23-8881-9eb148b58ef3",
   "metadata": {},
   "outputs": [],
   "source": [
    "sampling_mean"
   ]
  },
  {
   "cell_type": "code",
   "execution_count": null,
   "id": "52939070-2ee4-4833-b817-cb8f256dc292",
   "metadata": {},
   "outputs": [],
   "source": [
    "df_obs[(df_obs.discharge_vol >= lower_percentile_obs)]"
   ]
  },
  {
   "cell_type": "code",
   "execution_count": null,
   "id": "c57f86a2-bc89-4b87-a8d6-daf254d74462",
   "metadata": {},
   "outputs": [],
   "source": [
    "df_obs[(df_obs.discharge_vol >= lower_percentile_obs) | (df_obs.discharge_vol <= upper_percentile_obs)]"
   ]
  },
  {
   "cell_type": "code",
   "execution_count": null,
   "id": "51ea551d-f9c4-4568-a305-9d426a861e9c",
   "metadata": {},
   "outputs": [],
   "source": []
  },
  {
   "cell_type": "markdown",
   "id": "d195b543-1640-4037-91b2-70143ca3a375",
   "metadata": {},
   "source": [
    "# Calculate mean flow obs uncertainty"
   ]
  },
  {
   "cell_type": "code",
   "execution_count": null,
   "id": "0c79611d-488d-4e1c-ad6e-d160d9f48b55",
   "metadata": {},
   "outputs": [],
   "source": [
    "q25_uncertainty = np.mean([df_uncertainty.q25_uncert_upper,abs(df_uncertainty.q25_uncert_lower)])\n",
    "q75_uncertainty = np.mean([df_uncertainty.q75_uncert_upper,abs(df_uncertainty.q75_uncert_lower)])\n",
    "q25_75_uncertainty = np.mean([q25_uncertainty,q75_uncertainty])\n",
    "q25_75_uncertainty"
   ]
  },
  {
   "cell_type": "markdown",
   "id": "6b250165-8a30-4215-9477-339ac84409e0",
   "metadata": {},
   "source": [
    "# Calculate mean flow percentiles"
   ]
  },
  {
   "cell_type": "code",
   "execution_count": null,
   "id": "eadf11bb-14d5-4223-8542-6db48403bf38",
   "metadata": {},
   "outputs": [],
   "source": [
    "p25_pcrglob = np.percentile(df_pcrglob.sim,25)\n",
    "p75_pcrglob = np.percentile(df_pcrglob.sim,75)\n",
    "\n",
    "p25_wflow = np.percentile(df_wflow.evaluation,25)\n",
    "p75_wflow = np.percentile(df_wflow.evaluation,75)\n",
    "\n",
    "p25_obs = np.percentile(df_obs.discharge_vol,25)\n",
    "p75_obs = np.percentile(df_obs.discharge_vol,75)"
   ]
  },
  {
   "cell_type": "markdown",
   "id": "05c68384-9ccc-42fd-a47e-ac0641adab9b",
   "metadata": {},
   "source": [
    "# Retrieve mean flow distributions\n"
   ]
  },
  {
   "cell_type": "code",
   "execution_count": null,
   "id": "6f26cd98-9bdf-44bf-9460-12c9616e7a94",
   "metadata": {},
   "outputs": [],
   "source": [
    "meanflow_wflow = df_wflow[(df_wflow.evaluation <= p25_wflow) | (df_wflow.evaluation <= p75_wflow)].values\n",
    "meanflow_pcrglob = df_pcrglob[(df_pcrglob.sim <= p25_pcrglob) | (df_pcrglob.sim <= p75_pcrglob)].values\n",
    "meanflow_obs = df_obs[(df_obs.discharge_vol <= p25_obs) | (df_obs.discharge_vol <= p75_obs)].values"
   ]
  },
  {
   "cell_type": "markdown",
   "id": "8b0ff8de-a1fb-4a1c-b218-7ba55b4d9f2c",
   "metadata": {},
   "source": [
    "# Sampling distribution of the difference in sample means"
   ]
  },
  {
   "cell_type": "code",
   "execution_count": null,
   "id": "e0a36cf5-3730-420a-ad44-52e0bee1b4b2",
   "metadata": {},
   "outputs": [],
   "source": []
  },
  {
   "cell_type": "code",
   "execution_count": null,
   "id": "9abf1154-de38-402e-a072-3b60a72b06e3",
   "metadata": {},
   "outputs": [],
   "source": []
  },
  {
   "cell_type": "code",
   "execution_count": null,
   "id": "d3856e02-1f3f-42d0-9b7f-4d26bbedfcc2",
   "metadata": {},
   "outputs": [],
   "source": []
  },
  {
   "cell_type": "code",
   "execution_count": null,
   "id": "20889326-a164-4f9e-bfb5-f20718aaf1b2",
   "metadata": {},
   "outputs": [],
   "source": []
  },
  {
   "cell_type": "code",
   "execution_count": null,
   "id": "b4b02168-942a-47a6-b2e6-f033597f89a2",
   "metadata": {},
   "outputs": [],
   "source": []
  },
  {
   "cell_type": "markdown",
   "id": "08b40590-842a-4212-8392-84f1f4b49715",
   "metadata": {},
   "source": [
    "# Calculate quantiles"
   ]
  },
  {
   "cell_type": "code",
   "execution_count": null,
   "id": "e5e7ab29-d260-446f-a525-9e820345ea2f",
   "metadata": {},
   "outputs": [],
   "source": []
  },
  {
   "cell_type": "code",
   "execution_count": null,
   "id": "6c1dccec-6fb4-44bd-957e-847ee6633aee",
   "metadata": {},
   "outputs": [],
   "source": [
    "percentiles = [5, 25, 50, 75, 95]\n",
    "\n",
    "p_wflow_ls = []\n",
    "p_pcrglob_ls = []\n",
    "p_obs_ls = []\n",
    "model_uncertainties = []\n",
    "\n",
    "\n",
    "for percentile in percentiles:\n",
    "    \n",
    "    pcrglob = np.percentile(df_pcrglob.sim,percentile)\n",
    "    p_pcrglob_ls.append(pcrglob)\n",
    "    \n",
    "    wflow = np.percentile(df_wflow.evaluation,percentile)\n",
    "    p_wflow_ls.append(wflow)\n",
    "    \n",
    "    obs = np.percentile(df_obs.discharge_vol.dropna(),percentile)\n",
    "    p_obs_ls.append(obs)\n",
    "    \n",
    "    model_uncertainty = abs(((pcrglob - wflow) / wflow) * 100)\n",
    "    model_uncertainties.append(model_uncertainty)"
   ]
  },
  {
   "cell_type": "code",
   "execution_count": null,
   "id": "30b7610c-e359-4fa0-a701-fd3903741017",
   "metadata": {
    "tags": []
   },
   "outputs": [],
   "source": [
    "df = pd.DataFrame()\n",
    "df['basin_id'] = [basin_id] * len(percentiles)\n",
    "df['percentiles'] = percentiles\n",
    "df['wflow_streamflow_percentile'] = p_wflow_ls\n",
    "df['pcrglobwb_streamflow_percentile'] = p_pcrglob_ls\n",
    "df['observation_streamflow_percentile'] = p_obs_ls\n",
    "df['model_uncertainty'] = model_uncertainties"
   ]
  },
  {
   "cell_type": "code",
   "execution_count": null,
   "id": "2452f7bf-bbfa-487a-ad0e-dce2315aae3d",
   "metadata": {},
   "outputs": [],
   "source": [
    "df"
   ]
  },
  {
   "cell_type": "code",
   "execution_count": null,
   "id": "0e7bf496-010c-459c-aa68-20170c493755",
   "metadata": {},
   "outputs": [],
   "source": []
  },
  {
   "cell_type": "code",
   "execution_count": null,
   "id": "a531e853-8ded-4a69-a159-f43ed7a5b550",
   "metadata": {},
   "outputs": [],
   "source": []
  },
  {
   "cell_type": "code",
   "execution_count": null,
   "id": "124b54c5-26c7-45ca-a31d-e106a6a3a14f",
   "metadata": {},
   "outputs": [],
   "source": [
    "import math\n",
    "import numpy as np\n",
    "from scipy.stats import lognorm\n",
    "import statsmodels.api as sm\n",
    "import matplotlib.pyplot as plt\n",
    "\n",
    "#make this example reproducible\n",
    "np.random.seed(1)\n",
    "\n",
    "#generate dataset that contains 1000 log-normal distributed values\n",
    "lognorm_dataset = lognorm.rvs(s=.5, scale=math.exp(1), size=1000)\n",
    "\n",
    "#create Q-Q plot with 45-degree line added to plot\n",
    "fig = sm.qqplot(df_wflow.evaluation, line='45')\n",
    "\n",
    "plt.show()\n",
    "\n"
   ]
  },
  {
   "cell_type": "code",
   "execution_count": null,
   "id": "33fb2e86-4b16-4e46-b34a-f66ec1e4f6ed",
   "metadata": {},
   "outputs": [],
   "source": []
  },
  {
   "cell_type": "code",
   "execution_count": null,
   "id": "c604f6a8-3cd2-43dd-b70e-ca3c145226f9",
   "metadata": {},
   "outputs": [],
   "source": []
  },
  {
   "cell_type": "code",
   "execution_count": null,
   "id": "ded59879-1e26-4adc-b556-981ac5aec428",
   "metadata": {},
   "outputs": [],
   "source": []
  },
  {
   "cell_type": "code",
   "execution_count": null,
   "id": "086ca373-07bd-4b53-bd86-a597da0227ed",
   "metadata": {},
   "outputs": [],
   "source": []
  },
  {
   "cell_type": "code",
   "execution_count": null,
   "id": "a46c5c7d-4d6a-494d-8d5f-27c7b1324978",
   "metadata": {},
   "outputs": [],
   "source": []
  },
  {
   "cell_type": "code",
   "execution_count": null,
   "id": "1c5777b3-445a-4dbf-a850-f25c61586ee0",
   "metadata": {},
   "outputs": [],
   "source": [
    "p5_wflow = df_wflow[df_wflow.evaluation <= 0.892552]\n",
    "p5_pcrglob = df_pcrglob[df_pcrglob.sim <= 1.266030]\n",
    "p5_obs = df_obs.discharge_vol[df_obs.discharge_vol <= 0.76]"
   ]
  },
  {
   "cell_type": "code",
   "execution_count": null,
   "id": "7408f5ea-1871-4008-8a19-b6cb93b34aae",
   "metadata": {},
   "outputs": [],
   "source": [
    "p5_wflow_mean = p5_wflow.mean()\n",
    "p5_pcrglob_mean = p5_pcrglob.mean()\n",
    "p5_obs_mean = p5_obs.mean()\n",
    "\n",
    "sampling_mean = p5_wflow_mean.values - p5_pcrglob_mean.values"
   ]
  },
  {
   "cell_type": "code",
   "execution_count": null,
   "id": "03028e41-2f05-41e5-901d-0536dcdee38c",
   "metadata": {},
   "outputs": [],
   "source": [
    "p5_wflow_std = p5_wflow.std().values\n",
    "p5_pcrglob_std = p5_pcrglob.std().values\n",
    "p5_obs_std = p5_obs.std()\n",
    "\n",
    "sample_size = 100\n",
    "\n",
    "p5_wflow_std_mean = (np.power(p5_wflow_std,2)/sample_size)\n",
    "p5_pcrglob_std_mean = (np.power(p5_pcrglob_std,2)/sample_size)\n",
    "\n",
    "std_sampling_mean = np.sqrt(p5_wflow_std_mean + p5_pcrglob_std_mean)"
   ]
  },
  {
   "cell_type": "code",
   "execution_count": null,
   "id": "df3ce1e3-9c39-4766-81c3-80b8cbd7f06f",
   "metadata": {},
   "outputs": [],
   "source": [
    "sampling_mean, std_sampling_mean"
   ]
  },
  {
   "cell_type": "code",
   "execution_count": null,
   "id": "261f7f67-c678-4562-b74c-c84a17b07754",
   "metadata": {},
   "outputs": [],
   "source": [
    "dist = np.random.normal(loc=sampling_mean,scale=std_sampling_mean,size=1000)"
   ]
  },
  {
   "cell_type": "code",
   "execution_count": null,
   "id": "244af233-ddbb-4421-81da-8f5635ece849",
   "metadata": {},
   "outputs": [],
   "source": [
    "# Dan kunnen we uitrekenen wat de distributie van de obs is. "
   ]
  },
  {
   "cell_type": "code",
   "execution_count": null,
   "id": "ef1b14ba-ef13-4e58-9bf3-b26547a2c9e9",
   "metadata": {},
   "outputs": [],
   "source": [
    "# hoe groot is de onzekerheid dat het verschil in modellen groter is dan obs_onzekerheid\n",
    "obs_uncertainty = 16.4 #procent"
   ]
  },
  {
   "cell_type": "code",
   "execution_count": null,
   "id": "d13985da-2eff-47f9-abaa-6bfa58267ddb",
   "metadata": {},
   "outputs": [],
   "source": [
    "p5_obs_mean"
   ]
  },
  {
   "cell_type": "code",
   "execution_count": null,
   "id": "1a57c6eb-1aef-41c7-a47d-63a3ed86dee4",
   "metadata": {},
   "outputs": [],
   "source": [
    "np.random.choice(p5_wflow, sample_size)"
   ]
  },
  {
   "cell_type": "markdown",
   "id": "48eb926f-c9aa-430c-991c-5ff0b599984c",
   "metadata": {},
   "source": [
    "#### https://www.khanacademy.org/math/ap-statistics/sampling-distribution-ap/xfb5d8e68:sampling-distribution-diff-means/v/sampling-distribution-diff-means"
   ]
  },
  {
   "cell_type": "code",
   "execution_count": null,
   "id": "dc213ed8-a0a9-4060-bf99-dab30fc7176e",
   "metadata": {},
   "outputs": [],
   "source": [
    "Step 1: We assume that μmen−μwomen= obs uncertainty"
   ]
  },
  {
   "cell_type": "markdown",
   "id": "a6c10034-e2e3-46c9-9780-7e0333fffe47",
   "metadata": {},
   "source": [
    "# Plot flow duration curve"
   ]
  },
  {
   "cell_type": "code",
   "execution_count": null,
   "id": "ee97e7ab-79e5-406b-bf41-71bf6e92f40f",
   "metadata": {},
   "outputs": [],
   "source": [
    "p5_obs_mean"
   ]
  },
  {
   "cell_type": "markdown",
   "id": "bc875bb9-22fd-451e-af0e-3f5b165f4d69",
   "metadata": {},
   "source": [
    "# Calculate percentage difference quantiles"
   ]
  },
  {
   "cell_type": "code",
   "execution_count": null,
   "id": "5d800b2f-1d8d-49d9-b869-aaad15c69ea5",
   "metadata": {},
   "outputs": [],
   "source": []
  }
 ],
 "metadata": {
  "kernelspec": {
   "display_name": "Python 3 (ipykernel)",
   "language": "python",
   "name": "python3"
  },
  "language_info": {
   "codemirror_mode": {
    "name": "ipython",
    "version": 3
   },
   "file_extension": ".py",
   "mimetype": "text/x-python",
   "name": "python",
   "nbconvert_exporter": "python",
   "pygments_lexer": "ipython3",
   "version": "3.10.4"
  }
 },
 "nbformat": 4,
 "nbformat_minor": 5
}
