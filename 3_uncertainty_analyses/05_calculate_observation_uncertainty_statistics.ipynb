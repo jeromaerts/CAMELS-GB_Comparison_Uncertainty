{
 "cells": [
  {
   "cell_type": "markdown",
   "id": "244317eb-94a2-440d-8f96-7abd9f8be4a8",
   "metadata": {},
   "source": [
    "# Calculate model difference < observation uncertainty"
   ]
  },
  {
   "cell_type": "code",
   "execution_count": null,
   "id": "8324d066-e30a-4278-bd36-4d90b6467b1f",
   "metadata": {},
   "outputs": [],
   "source": [
    "import os\n",
    "from glob import glob\n",
    "from pathlib import Path\n",
    "\n",
    "import numpy as np\n",
    "import xarray as xr\n",
    "import pandas as pd\n",
    "from scipy import stats\n",
    "import pylab as plot\n",
    "import matplotlib.pyplot as plt\n",
    "import seaborn as sns"
   ]
  },
  {
   "cell_type": "markdown",
   "id": "ddf99846-13f2-40e9-93e3-9a9061eb0bb5",
   "metadata": {},
   "source": [
    "# Set Paths"
   ]
  },
  {
   "cell_type": "code",
   "execution_count": null,
   "id": "bf0ebcd2-4b86-4e7f-a736-eafd3d5be5ca",
   "metadata": {},
   "outputs": [],
   "source": [
    "# Set Paths\n",
    "ROOT = Path(\"/gpfs/work1/0/wtrcycle/users/jaerts/camels_uk/\")\n",
    "AUXDATA = Path(f\"{ROOT}/aux_data\")\n",
    "RESULTS = Path(f\"{ROOT}/results/\")\n",
    "OBSDIR = Path(f\"{AUXDATA}/obs_flow_categories/\")"
   ]
  },
  {
   "cell_type": "markdown",
   "id": "a3523de2-e865-4e7d-8241-fee2e9c9eab3",
   "metadata": {},
   "source": [
    "# Set Config"
   ]
  },
  {
   "cell_type": "code",
   "execution_count": null,
   "id": "17f140f9-b5c1-4540-92db-fa33f1d0a921",
   "metadata": {},
   "outputs": [],
   "source": [
    "# Load available basin_IDs\n",
    "df_basin_ids = pd.read_csv(f\"{AUXDATA}/available_basin_ids_uncertainty.csv\", index_col='basin_id')\n",
    "basin_ids = df_basin_ids.index.to_list()\n",
    "# Set flow categories based on percentiles\n",
    "flow_categories = {'low_flow': (5, 25),\n",
    "                   'mean_flow': (25, 75),\n",
    "                   'high_flow': (75, 95)}\n",
    "\n",
    "# Select matching basin_IDs\n",
    "ids = []\n",
    "files = glob(f\"{RESULTS}/model_differences/wflow_calibrated_uncalibrated/*_model_simulation_difference_wflow_calibrated_uncalibrated_low_flow.csv\")\n",
    "for file in files:\n",
    "    ids.append(int(file.split('/')[-1].split('_')[0]))\n",
    "basin_ids = list(set(basin_ids).intersection(ids))"
   ]
  },
  {
   "cell_type": "code",
   "execution_count": null,
   "id": "894f4f65-8a2b-445a-99dc-6540c58b09d8",
   "metadata": {},
   "outputs": [],
   "source": [
    "# Load available basin_IDs\n",
    "df_basin_ids = pd.read_csv(f\"{AUXDATA}/available_basin_ids_uncertainty.csv\", index_col='basin_id')\n",
    "basin_ids = df_basin_ids.index.to_list()\n",
    "\n",
    "ids = []\n",
    "files = glob(f'{RESULTS}/model_differences/wflow_pcr-globwb/*_model_simulation_difference_wflow_calibrated_pcr-globwb_low_flow.csv')\n",
    "for file in files:\n",
    "    ids.append(int(file.split('/')[-1].split('_')[0]))\n",
    "basin_ids = list(set(basin_ids).intersection(ids))"
   ]
  },
  {
   "cell_type": "markdown",
   "id": "116ec097-9a38-480c-94c4-092ad45723a6",
   "metadata": {},
   "source": [
    "# wflow calibrated & uncalibrated"
   ]
  },
  {
   "cell_type": "code",
   "execution_count": null,
   "id": "57c85892-e0cc-4df7-945a-3c92f163f20a",
   "metadata": {},
   "outputs": [],
   "source": [
    "df_stats = pd.DataFrame()\n",
    "basins = []\n",
    "ksstats = []\n",
    "pvalues = []\n",
    "categories = []\n",
    "\n",
    "for basin_id in basin_ids:\n",
    "    for category in flow_categories:\n",
    "        # Load observation uncertainty in m3/s\n",
    "        df_obs_uncertainty = pd.read_csv(f\"{RESULTS}/obs_flow_categories/{category}_{basin_id}_observation_uncertainty_m3s.csv\", index_col='date')\n",
    "        df_model_difference = pd.read_csv(f\"{RESULTS}/model_differences/wflow_calibrated_uncalibrated/{basin_id}_model_simulation_difference_wflow_calibrated_uncalibrated_{category}.csv\", index_col='date')\n",
    "        df_model_difference = df_model_difference[df_model_difference['model_difference_wflow_calibrated_uncalibrated'].notna()]\n",
    "        df = df_model_difference.join(df_obs_uncertainty)\n",
    "        \n",
    "        statistic, pvalue = stats.ttest_rel(df.observation_uncertainty.values,df.model_difference_wflow_calibrated_uncalibrated.values, alternative='greater')\n",
    "\n",
    "        ksstats.append(statistic)\n",
    "        pvalues.append(pvalue)        \n",
    "        basins.append(basin_id)\n",
    "        categories.append(category)\n",
    "        \n",
    "df_stats['basin_id'] = basins\n",
    "df_stats['t_statistic'] = ksstats\n",
    "df_stats['p_value'] = pvalues\n",
    "df_stats['flow_category'] = categories\n",
    "\n",
    "df_stats = df_stats[df_stats.p_value < 0.05]\n",
    "df_stats = df_stats.set_index('flow_category')\n",
    "\n",
    "print('wflow_sbm calibrated & uncalibrated \\n Number of catchments p < 0.05:') \n",
    "print(f'low flow: {len(df_stats.loc[\"low_flow\"])}')\n",
    "print(f'average flow: {len(df_stats.loc[\"mean_flow\"])}')\n",
    "print(f'high flow: {len(df_stats.loc[\"high_flow\"])}')"
   ]
  },
  {
   "cell_type": "markdown",
   "id": "ff820e86-6685-4be3-9a7d-f69754376ef8",
   "metadata": {},
   "source": [
    "## Wflow calibrated & PCR-GLOBWB"
   ]
  },
  {
   "cell_type": "code",
   "execution_count": null,
   "id": "f5cce4bc-30c5-4bd3-ac72-141e77131a86",
   "metadata": {
    "tags": []
   },
   "outputs": [],
   "source": [
    "df_stats = pd.DataFrame()\n",
    "basins = []\n",
    "ksstats = []\n",
    "pvalues = []\n",
    "categories = []\n",
    "\n",
    "for basin_id in basin_ids:\n",
    "    # print(basin_id)\n",
    "    for category in flow_categories:\n",
    "        # Load observation uncertainty in m3/s\n",
    "        df_obs_uncertainty = pd.read_csv(f\"{RESULTS}/obs_flow_categories/{category}_{basin_id}_observation_uncertainty_m3s.csv\", index_col='date')\n",
    "        df_model_difference = pd.read_csv(f'{RESULTS}/model_differences/wflow_pcr-globwb/{basin_id}_model_simulation_difference_wflow_calibrated_pcr-globwb_{category}.csv')\n",
    "        df_model_difference = df_model_difference.set_index(df_model_difference.iloc[:, 0].name)\n",
    "        df_model_difference = df_model_difference[df_model_difference['model_difference_wflow_calibrated_pcr-globwb'].notna()]\n",
    "        df = df_model_difference.join(df_obs_uncertainty, rsuffix='_unc')\n",
    "        \n",
    "        statistic, pvalue = stats.ttest_rel(df.observation_uncertainty.values,df['model_difference_wflow_calibrated_pcr-globwb'].values, alternative='greater')\n",
    "\n",
    "        ksstats.append(statistic)\n",
    "        pvalues.append(pvalue)        \n",
    "        basins.append(basin_id)\n",
    "        categories.append(category)\n",
    "        \n",
    "df_stats['basin_id'] = basins\n",
    "df_stats['t_statistic'] = ksstats\n",
    "df_stats['p_value'] = pvalues\n",
    "df_stats['flow_category'] = categories\n",
    "\n",
    "df_stats = df_stats[df_stats.p_value < 0.05]\n",
    "df_stats = df_stats.set_index('flow_category')\n",
    "\n",
    "print('wflow_sbm calibrated & PCR-GLOBWB \\n Number of catchments p < 0.05:') \n",
    "print(f'low flow: {len(df_stats.loc[\"low_flow\"])}')\n",
    "print(f'average flow: {len(df_stats.loc[\"mean_flow\"])}')\n",
    "print(f'high flow: {len(df_stats.loc[\"high_flow\"])}')"
   ]
  }
 ],
 "metadata": {
  "kernelspec": {
   "display_name": "Python 3 (ipykernel)",
   "language": "python",
   "name": "python3"
  },
  "language_info": {
   "codemirror_mode": {
    "name": "ipython",
    "version": 3
   },
   "file_extension": ".py",
   "mimetype": "text/x-python",
   "name": "python",
   "nbconvert_exporter": "python",
   "pygments_lexer": "ipython3",
   "version": "3.10.6"
  }
 },
 "nbformat": 4,
 "nbformat_minor": 5
}
